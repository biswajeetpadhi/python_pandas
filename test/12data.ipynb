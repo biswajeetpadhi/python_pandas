{
 "cells": [
  {
   "cell_type": "code",
   "execution_count": 3,
   "metadata": {
    "collapsed": true,
    "pycharm": {
     "name": "#%%\n"
    }
   },
   "outputs": [],
   "source": [
    "import pandas as pd\n",
    "import numpy as np"
   ]
  },
  {
   "cell_type": "code",
   "execution_count": 4,
   "outputs": [],
   "source": [
    "df = pd.DataFrame([1,2]*4, columns = [\"slno\"])"
   ],
   "metadata": {
    "collapsed": false,
    "pycharm": {
     "name": "#%%\n"
    }
   }
  },
  {
   "cell_type": "code",
   "execution_count": 5,
   "outputs": [
    {
     "data": {
      "text/plain": "   slno\n0     1\n1     2\n2     1\n3     2\n4     1\n5     2\n6     1\n7     2",
      "text/html": "<div>\n<style scoped>\n    .dataframe tbody tr th:only-of-type {\n        vertical-align: middle;\n    }\n\n    .dataframe tbody tr th {\n        vertical-align: top;\n    }\n\n    .dataframe thead th {\n        text-align: right;\n    }\n</style>\n<table border=\"1\" class=\"dataframe\">\n  <thead>\n    <tr style=\"text-align: right;\">\n      <th></th>\n      <th>slno</th>\n    </tr>\n  </thead>\n  <tbody>\n    <tr>\n      <th>0</th>\n      <td>1</td>\n    </tr>\n    <tr>\n      <th>1</th>\n      <td>2</td>\n    </tr>\n    <tr>\n      <th>2</th>\n      <td>1</td>\n    </tr>\n    <tr>\n      <th>3</th>\n      <td>2</td>\n    </tr>\n    <tr>\n      <th>4</th>\n      <td>1</td>\n    </tr>\n    <tr>\n      <th>5</th>\n      <td>2</td>\n    </tr>\n    <tr>\n      <th>6</th>\n      <td>1</td>\n    </tr>\n    <tr>\n      <th>7</th>\n      <td>2</td>\n    </tr>\n  </tbody>\n</table>\n</div>"
     },
     "execution_count": 5,
     "metadata": {},
     "output_type": "execute_result"
    }
   ],
   "source": [
    "df"
   ],
   "metadata": {
    "collapsed": false,
    "pycharm": {
     "name": "#%%\n"
    }
   }
  },
  {
   "cell_type": "code",
   "execution_count": 6,
   "outputs": [
    {
     "data": {
      "text/plain": "8"
     },
     "execution_count": 6,
     "metadata": {},
     "output_type": "execute_result"
    }
   ],
   "source": [
    "df.duplicated().count()"
   ],
   "metadata": {
    "collapsed": false,
    "pycharm": {
     "name": "#%%\n"
    }
   }
  },
  {
   "cell_type": "code",
   "execution_count": 7,
   "outputs": [
    {
     "data": {
      "text/plain": "0    False\n1    False\n2     True\n3     True\n4     True\n5     True\n6     True\n7     True\ndtype: bool"
     },
     "execution_count": 7,
     "metadata": {},
     "output_type": "execute_result"
    }
   ],
   "source": [
    "df.duplicated()"
   ],
   "metadata": {
    "collapsed": false,
    "pycharm": {
     "name": "#%%\n"
    }
   }
  },
  {
   "cell_type": "code",
   "execution_count": 8,
   "outputs": [
    {
     "data": {
      "text/plain": "6"
     },
     "execution_count": 8,
     "metadata": {},
     "output_type": "execute_result"
    }
   ],
   "source": [
    "df.duplicated().sum()"
   ],
   "metadata": {
    "collapsed": false,
    "pycharm": {
     "name": "#%%\n"
    }
   }
  },
  {
   "cell_type": "code",
   "execution_count": 9,
   "outputs": [
    {
     "data": {
      "text/plain": "   slno\n0     1\n1     2",
      "text/html": "<div>\n<style scoped>\n    .dataframe tbody tr th:only-of-type {\n        vertical-align: middle;\n    }\n\n    .dataframe tbody tr th {\n        vertical-align: top;\n    }\n\n    .dataframe thead th {\n        text-align: right;\n    }\n</style>\n<table border=\"1\" class=\"dataframe\">\n  <thead>\n    <tr style=\"text-align: right;\">\n      <th></th>\n      <th>slno</th>\n    </tr>\n  </thead>\n  <tbody>\n    <tr>\n      <th>0</th>\n      <td>1</td>\n    </tr>\n    <tr>\n      <th>1</th>\n      <td>2</td>\n    </tr>\n  </tbody>\n</table>\n</div>"
     },
     "execution_count": 9,
     "metadata": {},
     "output_type": "execute_result"
    }
   ],
   "source": [
    "df.drop_duplicates()"
   ],
   "metadata": {
    "collapsed": false,
    "pycharm": {
     "name": "#%%\n"
    }
   }
  },
  {
   "cell_type": "code",
   "execution_count": 10,
   "outputs": [],
   "source": [
    "df[\"col1\"] =  np.arange(8)"
   ],
   "metadata": {
    "collapsed": false,
    "pycharm": {
     "name": "#%%\n"
    }
   }
  },
  {
   "cell_type": "code",
   "execution_count": 11,
   "outputs": [
    {
     "data": {
      "text/plain": "   slno  col1\n0     1     0\n1     2     1\n2     1     2\n3     2     3\n4     1     4\n5     2     5\n6     1     6\n7     2     7",
      "text/html": "<div>\n<style scoped>\n    .dataframe tbody tr th:only-of-type {\n        vertical-align: middle;\n    }\n\n    .dataframe tbody tr th {\n        vertical-align: top;\n    }\n\n    .dataframe thead th {\n        text-align: right;\n    }\n</style>\n<table border=\"1\" class=\"dataframe\">\n  <thead>\n    <tr style=\"text-align: right;\">\n      <th></th>\n      <th>slno</th>\n      <th>col1</th>\n    </tr>\n  </thead>\n  <tbody>\n    <tr>\n      <th>0</th>\n      <td>1</td>\n      <td>0</td>\n    </tr>\n    <tr>\n      <th>1</th>\n      <td>2</td>\n      <td>1</td>\n    </tr>\n    <tr>\n      <th>2</th>\n      <td>1</td>\n      <td>2</td>\n    </tr>\n    <tr>\n      <th>3</th>\n      <td>2</td>\n      <td>3</td>\n    </tr>\n    <tr>\n      <th>4</th>\n      <td>1</td>\n      <td>4</td>\n    </tr>\n    <tr>\n      <th>5</th>\n      <td>2</td>\n      <td>5</td>\n    </tr>\n    <tr>\n      <th>6</th>\n      <td>1</td>\n      <td>6</td>\n    </tr>\n    <tr>\n      <th>7</th>\n      <td>2</td>\n      <td>7</td>\n    </tr>\n  </tbody>\n</table>\n</div>"
     },
     "execution_count": 11,
     "metadata": {},
     "output_type": "execute_result"
    }
   ],
   "source": [
    "df"
   ],
   "metadata": {
    "collapsed": false,
    "pycharm": {
     "name": "#%%\n"
    }
   }
  },
  {
   "cell_type": "code",
   "execution_count": 12,
   "outputs": [
    {
     "data": {
      "text/plain": "   slno  col1\n0     1     0\n1     2     1\n2     1     2\n3     2     3\n4     1     4\n5     2     5\n6     1     6\n7     2     7",
      "text/html": "<div>\n<style scoped>\n    .dataframe tbody tr th:only-of-type {\n        vertical-align: middle;\n    }\n\n    .dataframe tbody tr th {\n        vertical-align: top;\n    }\n\n    .dataframe thead th {\n        text-align: right;\n    }\n</style>\n<table border=\"1\" class=\"dataframe\">\n  <thead>\n    <tr style=\"text-align: right;\">\n      <th></th>\n      <th>slno</th>\n      <th>col1</th>\n    </tr>\n  </thead>\n  <tbody>\n    <tr>\n      <th>0</th>\n      <td>1</td>\n      <td>0</td>\n    </tr>\n    <tr>\n      <th>1</th>\n      <td>2</td>\n      <td>1</td>\n    </tr>\n    <tr>\n      <th>2</th>\n      <td>1</td>\n      <td>2</td>\n    </tr>\n    <tr>\n      <th>3</th>\n      <td>2</td>\n      <td>3</td>\n    </tr>\n    <tr>\n      <th>4</th>\n      <td>1</td>\n      <td>4</td>\n    </tr>\n    <tr>\n      <th>5</th>\n      <td>2</td>\n      <td>5</td>\n    </tr>\n    <tr>\n      <th>6</th>\n      <td>1</td>\n      <td>6</td>\n    </tr>\n    <tr>\n      <th>7</th>\n      <td>2</td>\n      <td>7</td>\n    </tr>\n  </tbody>\n</table>\n</div>"
     },
     "execution_count": 12,
     "metadata": {},
     "output_type": "execute_result"
    }
   ],
   "source": [
    "df.drop_duplicates()"
   ],
   "metadata": {
    "collapsed": false,
    "pycharm": {
     "name": "#%%\n"
    }
   }
  },
  {
   "cell_type": "code",
   "execution_count": 13,
   "outputs": [
    {
     "data": {
      "text/plain": "   slno  col1\n0     1     0\n1     2     1",
      "text/html": "<div>\n<style scoped>\n    .dataframe tbody tr th:only-of-type {\n        vertical-align: middle;\n    }\n\n    .dataframe tbody tr th {\n        vertical-align: top;\n    }\n\n    .dataframe thead th {\n        text-align: right;\n    }\n</style>\n<table border=\"1\" class=\"dataframe\">\n  <thead>\n    <tr style=\"text-align: right;\">\n      <th></th>\n      <th>slno</th>\n      <th>col1</th>\n    </tr>\n  </thead>\n  <tbody>\n    <tr>\n      <th>0</th>\n      <td>1</td>\n      <td>0</td>\n    </tr>\n    <tr>\n      <th>1</th>\n      <td>2</td>\n      <td>1</td>\n    </tr>\n  </tbody>\n</table>\n</div>"
     },
     "execution_count": 13,
     "metadata": {},
     "output_type": "execute_result"
    }
   ],
   "source": [
    "df.drop_duplicates([\"slno\"])"
   ],
   "metadata": {
    "collapsed": false,
    "pycharm": {
     "name": "#%%\n"
    }
   }
  },
  {
   "cell_type": "code",
   "execution_count": 14,
   "outputs": [
    {
     "data": {
      "text/plain": "   slno  col1\n0     1     0\n1     2     1\n2     1     2\n3     2     3\n4     1     4\n5     2     5\n6     1     6\n7     2     7",
      "text/html": "<div>\n<style scoped>\n    .dataframe tbody tr th:only-of-type {\n        vertical-align: middle;\n    }\n\n    .dataframe tbody tr th {\n        vertical-align: top;\n    }\n\n    .dataframe thead th {\n        text-align: right;\n    }\n</style>\n<table border=\"1\" class=\"dataframe\">\n  <thead>\n    <tr style=\"text-align: right;\">\n      <th></th>\n      <th>slno</th>\n      <th>col1</th>\n    </tr>\n  </thead>\n  <tbody>\n    <tr>\n      <th>0</th>\n      <td>1</td>\n      <td>0</td>\n    </tr>\n    <tr>\n      <th>1</th>\n      <td>2</td>\n      <td>1</td>\n    </tr>\n    <tr>\n      <th>2</th>\n      <td>1</td>\n      <td>2</td>\n    </tr>\n    <tr>\n      <th>3</th>\n      <td>2</td>\n      <td>3</td>\n    </tr>\n    <tr>\n      <th>4</th>\n      <td>1</td>\n      <td>4</td>\n    </tr>\n    <tr>\n      <th>5</th>\n      <td>2</td>\n      <td>5</td>\n    </tr>\n    <tr>\n      <th>6</th>\n      <td>1</td>\n      <td>6</td>\n    </tr>\n    <tr>\n      <th>7</th>\n      <td>2</td>\n      <td>7</td>\n    </tr>\n  </tbody>\n</table>\n</div>"
     },
     "execution_count": 14,
     "metadata": {},
     "output_type": "execute_result"
    }
   ],
   "source": [
    "df.drop_duplicates([\"slno\",\"col1\"])"
   ],
   "metadata": {
    "collapsed": false,
    "pycharm": {
     "name": "#%%\n"
    }
   }
  },
  {
   "cell_type": "code",
   "execution_count": 15,
   "outputs": [
    {
     "data": {
      "text/plain": "   slno  col1\n6     1     6\n7     2     7",
      "text/html": "<div>\n<style scoped>\n    .dataframe tbody tr th:only-of-type {\n        vertical-align: middle;\n    }\n\n    .dataframe tbody tr th {\n        vertical-align: top;\n    }\n\n    .dataframe thead th {\n        text-align: right;\n    }\n</style>\n<table border=\"1\" class=\"dataframe\">\n  <thead>\n    <tr style=\"text-align: right;\">\n      <th></th>\n      <th>slno</th>\n      <th>col1</th>\n    </tr>\n  </thead>\n  <tbody>\n    <tr>\n      <th>6</th>\n      <td>1</td>\n      <td>6</td>\n    </tr>\n    <tr>\n      <th>7</th>\n      <td>2</td>\n      <td>7</td>\n    </tr>\n  </tbody>\n</table>\n</div>"
     },
     "execution_count": 15,
     "metadata": {},
     "output_type": "execute_result"
    }
   ],
   "source": [
    "df.drop_duplicates([\"slno\"], keep = \"last\")"
   ],
   "metadata": {
    "collapsed": false,
    "pycharm": {
     "name": "#%%\n"
    }
   }
  },
  {
   "cell_type": "code",
   "execution_count": 16,
   "outputs": [],
   "source": [
    "temp = pd.read_csv(\"test_FD001.csv\")"
   ],
   "metadata": {
    "collapsed": false,
    "pycharm": {
     "name": "#%%\n"
    }
   }
  },
  {
   "cell_type": "code",
   "execution_count": 17,
   "outputs": [
    {
     "data": {
      "text/plain": "        slno  engine  cycles     os1     os2  os3     sm1     sm2      sm3  \\\n0          0       1       1  0.0023  0.0003  100  518.67  643.02  1585.29   \n1          1       1       2 -0.0027 -0.0003  100  518.67  641.71  1588.45   \n2          2       1       3  0.0003  0.0001  100  518.67  642.46  1586.94   \n3          3       1       4  0.0042  0.0000  100  518.67  642.44  1584.12   \n4          4       1       5  0.0014  0.0000  100  518.67  642.51  1587.19   \n...      ...     ...     ...     ...     ...  ...     ...     ...      ...   \n13091  13091     100     194  0.0049  0.0000  100  518.67  643.24  1599.45   \n13092  13092     100     195 -0.0011 -0.0001  100  518.67  643.22  1595.69   \n13093  13093     100     196 -0.0006 -0.0003  100  518.67  643.44  1593.15   \n13094  13094     100     197 -0.0038  0.0001  100  518.67  643.26  1594.99   \n13095  13095     100     198  0.0013  0.0003  100  518.67  642.95  1601.62   \n\n           sm4  ...    sm12     sm13     sm14    sm15  sm16  sm17  sm18  sm19  \\\n0      1398.21  ...  521.72  2388.03  8125.55  8.4052  0.03   392  2388   100   \n1      1395.42  ...  522.16  2388.06  8139.62  8.3803  0.03   393  2388   100   \n2      1401.34  ...  521.97  2388.03  8130.10  8.4441  0.03   393  2388   100   \n3      1406.42  ...  521.38  2388.05  8132.90  8.3917  0.03   391  2388   100   \n4      1401.92  ...  522.15  2388.03  8129.54  8.4031  0.03   390  2388   100   \n...        ...  ...     ...      ...      ...     ...   ...   ...   ...   ...   \n13091  1415.79  ...  520.69  2388.00  8213.28  8.4715  0.03   394  2388   100   \n13092  1422.05  ...  521.05  2388.09  8210.85  8.4512  0.03   395  2388   100   \n13093  1406.82  ...  521.18  2388.04  8217.24  8.4569  0.03   395  2388   100   \n13094  1419.36  ...  521.33  2388.08  8220.48  8.4711  0.03   395  2388   100   \n13095  1424.99  ...  521.07  2388.05  8214.64  8.4903  0.03   396  2388   100   \n\n        sm20     sm21  \n0      38.86  23.3735  \n1      39.02  23.3916  \n2      39.08  23.4166  \n3      39.00  23.3737  \n4      38.99  23.4130  \n...      ...      ...  \n13091  38.65  23.1974  \n13092  38.57  23.2771  \n13093  38.62  23.2051  \n13094  38.66  23.2699  \n13095  38.70  23.1855  \n\n[13096 rows x 27 columns]",
      "text/html": "<div>\n<style scoped>\n    .dataframe tbody tr th:only-of-type {\n        vertical-align: middle;\n    }\n\n    .dataframe tbody tr th {\n        vertical-align: top;\n    }\n\n    .dataframe thead th {\n        text-align: right;\n    }\n</style>\n<table border=\"1\" class=\"dataframe\">\n  <thead>\n    <tr style=\"text-align: right;\">\n      <th></th>\n      <th>slno</th>\n      <th>engine</th>\n      <th>cycles</th>\n      <th>os1</th>\n      <th>os2</th>\n      <th>os3</th>\n      <th>sm1</th>\n      <th>sm2</th>\n      <th>sm3</th>\n      <th>sm4</th>\n      <th>...</th>\n      <th>sm12</th>\n      <th>sm13</th>\n      <th>sm14</th>\n      <th>sm15</th>\n      <th>sm16</th>\n      <th>sm17</th>\n      <th>sm18</th>\n      <th>sm19</th>\n      <th>sm20</th>\n      <th>sm21</th>\n    </tr>\n  </thead>\n  <tbody>\n    <tr>\n      <th>0</th>\n      <td>0</td>\n      <td>1</td>\n      <td>1</td>\n      <td>0.0023</td>\n      <td>0.0003</td>\n      <td>100</td>\n      <td>518.67</td>\n      <td>643.02</td>\n      <td>1585.29</td>\n      <td>1398.21</td>\n      <td>...</td>\n      <td>521.72</td>\n      <td>2388.03</td>\n      <td>8125.55</td>\n      <td>8.4052</td>\n      <td>0.03</td>\n      <td>392</td>\n      <td>2388</td>\n      <td>100</td>\n      <td>38.86</td>\n      <td>23.3735</td>\n    </tr>\n    <tr>\n      <th>1</th>\n      <td>1</td>\n      <td>1</td>\n      <td>2</td>\n      <td>-0.0027</td>\n      <td>-0.0003</td>\n      <td>100</td>\n      <td>518.67</td>\n      <td>641.71</td>\n      <td>1588.45</td>\n      <td>1395.42</td>\n      <td>...</td>\n      <td>522.16</td>\n      <td>2388.06</td>\n      <td>8139.62</td>\n      <td>8.3803</td>\n      <td>0.03</td>\n      <td>393</td>\n      <td>2388</td>\n      <td>100</td>\n      <td>39.02</td>\n      <td>23.3916</td>\n    </tr>\n    <tr>\n      <th>2</th>\n      <td>2</td>\n      <td>1</td>\n      <td>3</td>\n      <td>0.0003</td>\n      <td>0.0001</td>\n      <td>100</td>\n      <td>518.67</td>\n      <td>642.46</td>\n      <td>1586.94</td>\n      <td>1401.34</td>\n      <td>...</td>\n      <td>521.97</td>\n      <td>2388.03</td>\n      <td>8130.10</td>\n      <td>8.4441</td>\n      <td>0.03</td>\n      <td>393</td>\n      <td>2388</td>\n      <td>100</td>\n      <td>39.08</td>\n      <td>23.4166</td>\n    </tr>\n    <tr>\n      <th>3</th>\n      <td>3</td>\n      <td>1</td>\n      <td>4</td>\n      <td>0.0042</td>\n      <td>0.0000</td>\n      <td>100</td>\n      <td>518.67</td>\n      <td>642.44</td>\n      <td>1584.12</td>\n      <td>1406.42</td>\n      <td>...</td>\n      <td>521.38</td>\n      <td>2388.05</td>\n      <td>8132.90</td>\n      <td>8.3917</td>\n      <td>0.03</td>\n      <td>391</td>\n      <td>2388</td>\n      <td>100</td>\n      <td>39.00</td>\n      <td>23.3737</td>\n    </tr>\n    <tr>\n      <th>4</th>\n      <td>4</td>\n      <td>1</td>\n      <td>5</td>\n      <td>0.0014</td>\n      <td>0.0000</td>\n      <td>100</td>\n      <td>518.67</td>\n      <td>642.51</td>\n      <td>1587.19</td>\n      <td>1401.92</td>\n      <td>...</td>\n      <td>522.15</td>\n      <td>2388.03</td>\n      <td>8129.54</td>\n      <td>8.4031</td>\n      <td>0.03</td>\n      <td>390</td>\n      <td>2388</td>\n      <td>100</td>\n      <td>38.99</td>\n      <td>23.4130</td>\n    </tr>\n    <tr>\n      <th>...</th>\n      <td>...</td>\n      <td>...</td>\n      <td>...</td>\n      <td>...</td>\n      <td>...</td>\n      <td>...</td>\n      <td>...</td>\n      <td>...</td>\n      <td>...</td>\n      <td>...</td>\n      <td>...</td>\n      <td>...</td>\n      <td>...</td>\n      <td>...</td>\n      <td>...</td>\n      <td>...</td>\n      <td>...</td>\n      <td>...</td>\n      <td>...</td>\n      <td>...</td>\n      <td>...</td>\n    </tr>\n    <tr>\n      <th>13091</th>\n      <td>13091</td>\n      <td>100</td>\n      <td>194</td>\n      <td>0.0049</td>\n      <td>0.0000</td>\n      <td>100</td>\n      <td>518.67</td>\n      <td>643.24</td>\n      <td>1599.45</td>\n      <td>1415.79</td>\n      <td>...</td>\n      <td>520.69</td>\n      <td>2388.00</td>\n      <td>8213.28</td>\n      <td>8.4715</td>\n      <td>0.03</td>\n      <td>394</td>\n      <td>2388</td>\n      <td>100</td>\n      <td>38.65</td>\n      <td>23.1974</td>\n    </tr>\n    <tr>\n      <th>13092</th>\n      <td>13092</td>\n      <td>100</td>\n      <td>195</td>\n      <td>-0.0011</td>\n      <td>-0.0001</td>\n      <td>100</td>\n      <td>518.67</td>\n      <td>643.22</td>\n      <td>1595.69</td>\n      <td>1422.05</td>\n      <td>...</td>\n      <td>521.05</td>\n      <td>2388.09</td>\n      <td>8210.85</td>\n      <td>8.4512</td>\n      <td>0.03</td>\n      <td>395</td>\n      <td>2388</td>\n      <td>100</td>\n      <td>38.57</td>\n      <td>23.2771</td>\n    </tr>\n    <tr>\n      <th>13093</th>\n      <td>13093</td>\n      <td>100</td>\n      <td>196</td>\n      <td>-0.0006</td>\n      <td>-0.0003</td>\n      <td>100</td>\n      <td>518.67</td>\n      <td>643.44</td>\n      <td>1593.15</td>\n      <td>1406.82</td>\n      <td>...</td>\n      <td>521.18</td>\n      <td>2388.04</td>\n      <td>8217.24</td>\n      <td>8.4569</td>\n      <td>0.03</td>\n      <td>395</td>\n      <td>2388</td>\n      <td>100</td>\n      <td>38.62</td>\n      <td>23.2051</td>\n    </tr>\n    <tr>\n      <th>13094</th>\n      <td>13094</td>\n      <td>100</td>\n      <td>197</td>\n      <td>-0.0038</td>\n      <td>0.0001</td>\n      <td>100</td>\n      <td>518.67</td>\n      <td>643.26</td>\n      <td>1594.99</td>\n      <td>1419.36</td>\n      <td>...</td>\n      <td>521.33</td>\n      <td>2388.08</td>\n      <td>8220.48</td>\n      <td>8.4711</td>\n      <td>0.03</td>\n      <td>395</td>\n      <td>2388</td>\n      <td>100</td>\n      <td>38.66</td>\n      <td>23.2699</td>\n    </tr>\n    <tr>\n      <th>13095</th>\n      <td>13095</td>\n      <td>100</td>\n      <td>198</td>\n      <td>0.0013</td>\n      <td>0.0003</td>\n      <td>100</td>\n      <td>518.67</td>\n      <td>642.95</td>\n      <td>1601.62</td>\n      <td>1424.99</td>\n      <td>...</td>\n      <td>521.07</td>\n      <td>2388.05</td>\n      <td>8214.64</td>\n      <td>8.4903</td>\n      <td>0.03</td>\n      <td>396</td>\n      <td>2388</td>\n      <td>100</td>\n      <td>38.70</td>\n      <td>23.1855</td>\n    </tr>\n  </tbody>\n</table>\n<p>13096 rows × 27 columns</p>\n</div>"
     },
     "execution_count": 17,
     "metadata": {},
     "output_type": "execute_result"
    }
   ],
   "source": [
    "temp"
   ],
   "metadata": {
    "collapsed": false,
    "pycharm": {
     "name": "#%%\n"
    }
   }
  },
  {
   "cell_type": "code",
   "execution_count": 18,
   "outputs": [],
   "source": [
    "temp = temp.drop_duplicates([\"engine\"], keep = \"last\")"
   ],
   "metadata": {
    "collapsed": false,
    "pycharm": {
     "name": "#%%\n"
    }
   }
  },
  {
   "cell_type": "code",
   "execution_count": 19,
   "outputs": [
    {
     "data": {
      "text/plain": "        slno  engine  cycles     os1     os2  os3     sm1     sm2      sm3  \\\n30        30       1      31 -0.0006  0.0004  100  518.67  642.58  1581.22   \n79        79       2      49  0.0018 -0.0001  100  518.67  642.55  1586.59   \n205      205       3     126 -0.0016  0.0004  100  518.67  642.88  1589.75   \n311      311       4     106  0.0012  0.0004  100  518.67  642.78  1594.53   \n409      409       5      98 -0.0013 -0.0004  100  518.67  642.27  1589.94   \n...      ...     ...     ...     ...     ...  ...     ...     ...      ...   \n12545  12545      96      97 -0.0006  0.0003  100  518.67  642.30  1590.88   \n12679  12679      97     134  0.0013 -0.0001  100  518.67  642.59  1582.96   \n12800  12800      98     121  0.0017  0.0001  100  518.67  642.68  1599.51   \n12897  12897      99      97  0.0047  0.0000  100  518.67  642.00  1585.03   \n13095  13095     100     198  0.0013  0.0003  100  518.67  642.95  1601.62   \n\n           sm4  ...    sm12     sm13     sm14    sm15  sm16  sm17  sm18  sm19  \\\n30     1398.91  ...  521.79  2388.06  8130.11  8.4024  0.03   393  2388   100   \n79     1410.83  ...  521.74  2388.09  8126.90  8.4505  0.03   391  2388   100   \n205    1418.89  ...  520.83  2388.14  8131.46  8.4119  0.03   395  2388   100   \n311    1406.88  ...  521.88  2388.11  8133.64  8.4634  0.03   395  2388   100   \n409    1419.36  ...  521.00  2388.15  8125.74  8.4362  0.03   394  2388   100   \n...        ...  ...     ...      ...      ...     ...   ...   ...   ...   ...   \n12545  1397.94  ...  522.30  2388.01  8148.24  8.4110  0.03   391  2388   100   \n12679  1410.92  ...  521.58  2388.06  8155.48  8.4500  0.03   395  2388   100   \n12800  1415.47  ...  521.53  2388.09  8146.39  8.4235  0.03   394  2388   100   \n12897  1397.98  ...  521.82  2388.02  8150.38  8.4003  0.03   391  2388   100   \n13095  1424.99  ...  521.07  2388.05  8214.64  8.4903  0.03   396  2388   100   \n\n        sm20     sm21  \n30     38.81  23.3552  \n79     38.81  23.2618  \n205    38.93  23.2740  \n311    38.58  23.2581  \n409    38.75  23.4117  \n...      ...      ...  \n12545  38.96  23.4606  \n12679  38.61  23.2953  \n12800  38.76  23.3608  \n12897  38.95  23.3595  \n13095  38.70  23.1855  \n\n[100 rows x 27 columns]",
      "text/html": "<div>\n<style scoped>\n    .dataframe tbody tr th:only-of-type {\n        vertical-align: middle;\n    }\n\n    .dataframe tbody tr th {\n        vertical-align: top;\n    }\n\n    .dataframe thead th {\n        text-align: right;\n    }\n</style>\n<table border=\"1\" class=\"dataframe\">\n  <thead>\n    <tr style=\"text-align: right;\">\n      <th></th>\n      <th>slno</th>\n      <th>engine</th>\n      <th>cycles</th>\n      <th>os1</th>\n      <th>os2</th>\n      <th>os3</th>\n      <th>sm1</th>\n      <th>sm2</th>\n      <th>sm3</th>\n      <th>sm4</th>\n      <th>...</th>\n      <th>sm12</th>\n      <th>sm13</th>\n      <th>sm14</th>\n      <th>sm15</th>\n      <th>sm16</th>\n      <th>sm17</th>\n      <th>sm18</th>\n      <th>sm19</th>\n      <th>sm20</th>\n      <th>sm21</th>\n    </tr>\n  </thead>\n  <tbody>\n    <tr>\n      <th>30</th>\n      <td>30</td>\n      <td>1</td>\n      <td>31</td>\n      <td>-0.0006</td>\n      <td>0.0004</td>\n      <td>100</td>\n      <td>518.67</td>\n      <td>642.58</td>\n      <td>1581.22</td>\n      <td>1398.91</td>\n      <td>...</td>\n      <td>521.79</td>\n      <td>2388.06</td>\n      <td>8130.11</td>\n      <td>8.4024</td>\n      <td>0.03</td>\n      <td>393</td>\n      <td>2388</td>\n      <td>100</td>\n      <td>38.81</td>\n      <td>23.3552</td>\n    </tr>\n    <tr>\n      <th>79</th>\n      <td>79</td>\n      <td>2</td>\n      <td>49</td>\n      <td>0.0018</td>\n      <td>-0.0001</td>\n      <td>100</td>\n      <td>518.67</td>\n      <td>642.55</td>\n      <td>1586.59</td>\n      <td>1410.83</td>\n      <td>...</td>\n      <td>521.74</td>\n      <td>2388.09</td>\n      <td>8126.90</td>\n      <td>8.4505</td>\n      <td>0.03</td>\n      <td>391</td>\n      <td>2388</td>\n      <td>100</td>\n      <td>38.81</td>\n      <td>23.2618</td>\n    </tr>\n    <tr>\n      <th>205</th>\n      <td>205</td>\n      <td>3</td>\n      <td>126</td>\n      <td>-0.0016</td>\n      <td>0.0004</td>\n      <td>100</td>\n      <td>518.67</td>\n      <td>642.88</td>\n      <td>1589.75</td>\n      <td>1418.89</td>\n      <td>...</td>\n      <td>520.83</td>\n      <td>2388.14</td>\n      <td>8131.46</td>\n      <td>8.4119</td>\n      <td>0.03</td>\n      <td>395</td>\n      <td>2388</td>\n      <td>100</td>\n      <td>38.93</td>\n      <td>23.2740</td>\n    </tr>\n    <tr>\n      <th>311</th>\n      <td>311</td>\n      <td>4</td>\n      <td>106</td>\n      <td>0.0012</td>\n      <td>0.0004</td>\n      <td>100</td>\n      <td>518.67</td>\n      <td>642.78</td>\n      <td>1594.53</td>\n      <td>1406.88</td>\n      <td>...</td>\n      <td>521.88</td>\n      <td>2388.11</td>\n      <td>8133.64</td>\n      <td>8.4634</td>\n      <td>0.03</td>\n      <td>395</td>\n      <td>2388</td>\n      <td>100</td>\n      <td>38.58</td>\n      <td>23.2581</td>\n    </tr>\n    <tr>\n      <th>409</th>\n      <td>409</td>\n      <td>5</td>\n      <td>98</td>\n      <td>-0.0013</td>\n      <td>-0.0004</td>\n      <td>100</td>\n      <td>518.67</td>\n      <td>642.27</td>\n      <td>1589.94</td>\n      <td>1419.36</td>\n      <td>...</td>\n      <td>521.00</td>\n      <td>2388.15</td>\n      <td>8125.74</td>\n      <td>8.4362</td>\n      <td>0.03</td>\n      <td>394</td>\n      <td>2388</td>\n      <td>100</td>\n      <td>38.75</td>\n      <td>23.4117</td>\n    </tr>\n    <tr>\n      <th>...</th>\n      <td>...</td>\n      <td>...</td>\n      <td>...</td>\n      <td>...</td>\n      <td>...</td>\n      <td>...</td>\n      <td>...</td>\n      <td>...</td>\n      <td>...</td>\n      <td>...</td>\n      <td>...</td>\n      <td>...</td>\n      <td>...</td>\n      <td>...</td>\n      <td>...</td>\n      <td>...</td>\n      <td>...</td>\n      <td>...</td>\n      <td>...</td>\n      <td>...</td>\n      <td>...</td>\n    </tr>\n    <tr>\n      <th>12545</th>\n      <td>12545</td>\n      <td>96</td>\n      <td>97</td>\n      <td>-0.0006</td>\n      <td>0.0003</td>\n      <td>100</td>\n      <td>518.67</td>\n      <td>642.30</td>\n      <td>1590.88</td>\n      <td>1397.94</td>\n      <td>...</td>\n      <td>522.30</td>\n      <td>2388.01</td>\n      <td>8148.24</td>\n      <td>8.4110</td>\n      <td>0.03</td>\n      <td>391</td>\n      <td>2388</td>\n      <td>100</td>\n      <td>38.96</td>\n      <td>23.4606</td>\n    </tr>\n    <tr>\n      <th>12679</th>\n      <td>12679</td>\n      <td>97</td>\n      <td>134</td>\n      <td>0.0013</td>\n      <td>-0.0001</td>\n      <td>100</td>\n      <td>518.67</td>\n      <td>642.59</td>\n      <td>1582.96</td>\n      <td>1410.92</td>\n      <td>...</td>\n      <td>521.58</td>\n      <td>2388.06</td>\n      <td>8155.48</td>\n      <td>8.4500</td>\n      <td>0.03</td>\n      <td>395</td>\n      <td>2388</td>\n      <td>100</td>\n      <td>38.61</td>\n      <td>23.2953</td>\n    </tr>\n    <tr>\n      <th>12800</th>\n      <td>12800</td>\n      <td>98</td>\n      <td>121</td>\n      <td>0.0017</td>\n      <td>0.0001</td>\n      <td>100</td>\n      <td>518.67</td>\n      <td>642.68</td>\n      <td>1599.51</td>\n      <td>1415.47</td>\n      <td>...</td>\n      <td>521.53</td>\n      <td>2388.09</td>\n      <td>8146.39</td>\n      <td>8.4235</td>\n      <td>0.03</td>\n      <td>394</td>\n      <td>2388</td>\n      <td>100</td>\n      <td>38.76</td>\n      <td>23.3608</td>\n    </tr>\n    <tr>\n      <th>12897</th>\n      <td>12897</td>\n      <td>99</td>\n      <td>97</td>\n      <td>0.0047</td>\n      <td>0.0000</td>\n      <td>100</td>\n      <td>518.67</td>\n      <td>642.00</td>\n      <td>1585.03</td>\n      <td>1397.98</td>\n      <td>...</td>\n      <td>521.82</td>\n      <td>2388.02</td>\n      <td>8150.38</td>\n      <td>8.4003</td>\n      <td>0.03</td>\n      <td>391</td>\n      <td>2388</td>\n      <td>100</td>\n      <td>38.95</td>\n      <td>23.3595</td>\n    </tr>\n    <tr>\n      <th>13095</th>\n      <td>13095</td>\n      <td>100</td>\n      <td>198</td>\n      <td>0.0013</td>\n      <td>0.0003</td>\n      <td>100</td>\n      <td>518.67</td>\n      <td>642.95</td>\n      <td>1601.62</td>\n      <td>1424.99</td>\n      <td>...</td>\n      <td>521.07</td>\n      <td>2388.05</td>\n      <td>8214.64</td>\n      <td>8.4903</td>\n      <td>0.03</td>\n      <td>396</td>\n      <td>2388</td>\n      <td>100</td>\n      <td>38.70</td>\n      <td>23.1855</td>\n    </tr>\n  </tbody>\n</table>\n<p>100 rows × 27 columns</p>\n</div>"
     },
     "execution_count": 19,
     "metadata": {},
     "output_type": "execute_result"
    }
   ],
   "source": [
    "temp"
   ],
   "metadata": {
    "collapsed": false,
    "pycharm": {
     "name": "#%%\n"
    }
   }
  },
  {
   "cell_type": "code",
   "execution_count": 20,
   "outputs": [],
   "source": [
    "df = pd.DataFrame({\"names\":[\"ram\", \"shyam\", \"kali\"], \"rollno\":[2,5,6]})"
   ],
   "metadata": {
    "collapsed": false,
    "pycharm": {
     "name": "#%%\n"
    }
   }
  },
  {
   "cell_type": "code",
   "execution_count": 21,
   "outputs": [
    {
     "data": {
      "text/plain": "   names  rollno\n0    ram       2\n1  shyam       5\n2   kali       6",
      "text/html": "<div>\n<style scoped>\n    .dataframe tbody tr th:only-of-type {\n        vertical-align: middle;\n    }\n\n    .dataframe tbody tr th {\n        vertical-align: top;\n    }\n\n    .dataframe thead th {\n        text-align: right;\n    }\n</style>\n<table border=\"1\" class=\"dataframe\">\n  <thead>\n    <tr style=\"text-align: right;\">\n      <th></th>\n      <th>names</th>\n      <th>rollno</th>\n    </tr>\n  </thead>\n  <tbody>\n    <tr>\n      <th>0</th>\n      <td>ram</td>\n      <td>2</td>\n    </tr>\n    <tr>\n      <th>1</th>\n      <td>shyam</td>\n      <td>5</td>\n    </tr>\n    <tr>\n      <th>2</th>\n      <td>kali</td>\n      <td>6</td>\n    </tr>\n  </tbody>\n</table>\n</div>"
     },
     "execution_count": 21,
     "metadata": {},
     "output_type": "execute_result"
    }
   ],
   "source": [
    "df"
   ],
   "metadata": {
    "collapsed": false,
    "pycharm": {
     "name": "#%%\n"
    }
   }
  },
  {
   "cell_type": "code",
   "execution_count": 22,
   "outputs": [],
   "source": [
    "classes={\"ram\":\"A\",\"shyam\":\"A\",\"kali\":\"B\"}"
   ],
   "metadata": {
    "collapsed": false,
    "pycharm": {
     "name": "#%%\n"
    }
   }
  },
  {
   "cell_type": "code",
   "execution_count": 23,
   "outputs": [
    {
     "data": {
      "text/plain": "{'ram': 'A', 'shyam': 'A', 'kali': 'B'}"
     },
     "execution_count": 23,
     "metadata": {},
     "output_type": "execute_result"
    }
   ],
   "source": [
    "classes"
   ],
   "metadata": {
    "collapsed": false,
    "pycharm": {
     "name": "#%%\n"
    }
   }
  },
  {
   "cell_type": "code",
   "execution_count": 24,
   "outputs": [],
   "source": [
    "n = df[\"names\"]"
   ],
   "metadata": {
    "collapsed": false,
    "pycharm": {
     "name": "#%%\n"
    }
   }
  },
  {
   "cell_type": "code",
   "execution_count": 25,
   "outputs": [],
   "source": [
    "df[\"brances\"] = n.map(classes)"
   ],
   "metadata": {
    "collapsed": false,
    "pycharm": {
     "name": "#%%\n"
    }
   }
  },
  {
   "cell_type": "code",
   "execution_count": 26,
   "outputs": [
    {
     "data": {
      "text/plain": "   names  rollno brances\n0    ram       2       A\n1  shyam       5       A\n2   kali       6       B",
      "text/html": "<div>\n<style scoped>\n    .dataframe tbody tr th:only-of-type {\n        vertical-align: middle;\n    }\n\n    .dataframe tbody tr th {\n        vertical-align: top;\n    }\n\n    .dataframe thead th {\n        text-align: right;\n    }\n</style>\n<table border=\"1\" class=\"dataframe\">\n  <thead>\n    <tr style=\"text-align: right;\">\n      <th></th>\n      <th>names</th>\n      <th>rollno</th>\n      <th>brances</th>\n    </tr>\n  </thead>\n  <tbody>\n    <tr>\n      <th>0</th>\n      <td>ram</td>\n      <td>2</td>\n      <td>A</td>\n    </tr>\n    <tr>\n      <th>1</th>\n      <td>shyam</td>\n      <td>5</td>\n      <td>A</td>\n    </tr>\n    <tr>\n      <th>2</th>\n      <td>kali</td>\n      <td>6</td>\n      <td>B</td>\n    </tr>\n  </tbody>\n</table>\n</div>"
     },
     "execution_count": 26,
     "metadata": {},
     "output_type": "execute_result"
    }
   ],
   "source": [
    "df"
   ],
   "metadata": {
    "collapsed": false,
    "pycharm": {
     "name": "#%%\n"
    }
   }
  },
  {
   "cell_type": "code",
   "execution_count": 27,
   "outputs": [],
   "source": [
    "ca = df[\"names\"].str.capitalize()"
   ],
   "metadata": {
    "collapsed": false,
    "pycharm": {
     "name": "#%%\n"
    }
   }
  },
  {
   "cell_type": "code",
   "execution_count": 28,
   "outputs": [
    {
     "data": {
      "text/plain": "0      Ram\n1    Shyam\n2     Kali\nName: names, dtype: object"
     },
     "execution_count": 28,
     "metadata": {},
     "output_type": "execute_result"
    }
   ],
   "source": [
    "ca"
   ],
   "metadata": {
    "collapsed": false,
    "pycharm": {
     "name": "#%%\n"
    }
   }
  },
  {
   "cell_type": "code",
   "execution_count": 29,
   "outputs": [],
   "source": [
    "s = pd.Series([2,4,5,6])"
   ],
   "metadata": {
    "collapsed": false,
    "pycharm": {
     "name": "#%%\n"
    }
   }
  },
  {
   "cell_type": "code",
   "execution_count": 30,
   "outputs": [
    {
     "data": {
      "text/plain": "0    2\n1    4\n2    5\n3    6\ndtype: int64"
     },
     "execution_count": 30,
     "metadata": {},
     "output_type": "execute_result"
    }
   ],
   "source": [
    "s"
   ],
   "metadata": {
    "collapsed": false,
    "pycharm": {
     "name": "#%%\n"
    }
   }
  },
  {
   "cell_type": "code",
   "execution_count": 31,
   "outputs": [
    {
     "data": {
      "text/plain": "0    2.0\n1    NaN\n2    5.0\n3    6.0\ndtype: float64"
     },
     "execution_count": 31,
     "metadata": {},
     "output_type": "execute_result"
    }
   ],
   "source": [
    "s.replace(4, np.nan)"
   ],
   "metadata": {
    "collapsed": false,
    "pycharm": {
     "name": "#%%\n"
    }
   }
  },
  {
   "cell_type": "code",
   "execution_count": 32,
   "outputs": [
    {
     "data": {
      "text/plain": "0    2\n1    4\n2    5\n3    6\ndtype: int64"
     },
     "execution_count": 32,
     "metadata": {},
     "output_type": "execute_result"
    }
   ],
   "source": [
    "s"
   ],
   "metadata": {
    "collapsed": false,
    "pycharm": {
     "name": "#%%\n"
    }
   }
  },
  {
   "cell_type": "code",
   "execution_count": 33,
   "outputs": [
    {
     "data": {
      "text/plain": "0     2\n1    10\n2    11\n3     6\ndtype: int64"
     },
     "execution_count": 33,
     "metadata": {},
     "output_type": "execute_result"
    }
   ],
   "source": [
    "s.replace([4,5], [10, 11])"
   ],
   "metadata": {
    "collapsed": false,
    "pycharm": {
     "name": "#%%\n"
    }
   }
  },
  {
   "cell_type": "code",
   "execution_count": 34,
   "outputs": [
    {
     "data": {
      "text/plain": "0    2\n1    4\n2    5\n3    6\ndtype: int64"
     },
     "execution_count": 34,
     "metadata": {},
     "output_type": "execute_result"
    }
   ],
   "source": [
    "s"
   ],
   "metadata": {
    "collapsed": false,
    "pycharm": {
     "name": "#%%\n"
    }
   }
  },
  {
   "cell_type": "code",
   "execution_count": 35,
   "outputs": [],
   "source": [
    "s.index = s.index.map(pd.Series([\"one\",\"two\", \"three\", \"four\"]))"
   ],
   "metadata": {
    "collapsed": false,
    "pycharm": {
     "name": "#%%\n"
    }
   }
  },
  {
   "cell_type": "code",
   "execution_count": 39,
   "outputs": [
    {
     "data": {
      "text/plain": "   names  rollno brances\n0    ram       2       A\n1  shyam       5       A\n2   kali       6       B",
      "text/html": "<div>\n<style scoped>\n    .dataframe tbody tr th:only-of-type {\n        vertical-align: middle;\n    }\n\n    .dataframe tbody tr th {\n        vertical-align: top;\n    }\n\n    .dataframe thead th {\n        text-align: right;\n    }\n</style>\n<table border=\"1\" class=\"dataframe\">\n  <thead>\n    <tr style=\"text-align: right;\">\n      <th></th>\n      <th>names</th>\n      <th>rollno</th>\n      <th>brances</th>\n    </tr>\n  </thead>\n  <tbody>\n    <tr>\n      <th>0</th>\n      <td>ram</td>\n      <td>2</td>\n      <td>A</td>\n    </tr>\n    <tr>\n      <th>1</th>\n      <td>shyam</td>\n      <td>5</td>\n      <td>A</td>\n    </tr>\n    <tr>\n      <th>2</th>\n      <td>kali</td>\n      <td>6</td>\n      <td>B</td>\n    </tr>\n  </tbody>\n</table>\n</div>"
     },
     "execution_count": 39,
     "metadata": {},
     "output_type": "execute_result"
    }
   ],
   "source": [
    "df"
   ],
   "metadata": {
    "collapsed": false,
    "pycharm": {
     "name": "#%%\n"
    }
   }
  },
  {
   "cell_type": "code",
   "execution_count": 41,
   "outputs": [
    {
     "data": {
      "text/plain": "  stud_names  rollno brances\n1        ram       2       A\n2      shyam       5       A\n3       kali       6       B",
      "text/html": "<div>\n<style scoped>\n    .dataframe tbody tr th:only-of-type {\n        vertical-align: middle;\n    }\n\n    .dataframe tbody tr th {\n        vertical-align: top;\n    }\n\n    .dataframe thead th {\n        text-align: right;\n    }\n</style>\n<table border=\"1\" class=\"dataframe\">\n  <thead>\n    <tr style=\"text-align: right;\">\n      <th></th>\n      <th>stud_names</th>\n      <th>rollno</th>\n      <th>brances</th>\n    </tr>\n  </thead>\n  <tbody>\n    <tr>\n      <th>1</th>\n      <td>ram</td>\n      <td>2</td>\n      <td>A</td>\n    </tr>\n    <tr>\n      <th>2</th>\n      <td>shyam</td>\n      <td>5</td>\n      <td>A</td>\n    </tr>\n    <tr>\n      <th>3</th>\n      <td>kali</td>\n      <td>6</td>\n      <td>B</td>\n    </tr>\n  </tbody>\n</table>\n</div>"
     },
     "execution_count": 41,
     "metadata": {},
     "output_type": "execute_result"
    }
   ],
   "source": [
    "df.rename(index = {0:1,1:2,2:3}, columns = {\"names\":\"stud_names\"})"
   ],
   "metadata": {
    "collapsed": false,
    "pycharm": {
     "name": "#%%\n"
    }
   }
  },
  {
   "cell_type": "code",
   "execution_count": 37,
   "outputs": [
    {
     "data": {
      "text/plain": "one      2\ntwo      4\nthree    5\nfour     6\nName: slno, dtype: int64"
     },
     "execution_count": 37,
     "metadata": {},
     "output_type": "execute_result"
    }
   ],
   "source": [
    "s.rename(\"slno\")"
   ],
   "metadata": {
    "collapsed": false,
    "pycharm": {
     "name": "#%%\n"
    }
   }
  },
  {
   "cell_type": "code",
   "execution_count": 38,
   "outputs": [
    {
     "data": {
      "text/plain": "one      2\ntwo      4\nthree    5\nfour     6\ndtype: int64"
     },
     "execution_count": 38,
     "metadata": {},
     "output_type": "execute_result"
    }
   ],
   "source": [
    "s"
   ],
   "metadata": {
    "collapsed": false,
    "pycharm": {
     "name": "#%%\n"
    }
   }
  },
  {
   "cell_type": "code",
   "execution_count": 51,
   "outputs": [],
   "source": [
    "df = pd.DataFrame(np.random.randn(100, 4))"
   ],
   "metadata": {
    "collapsed": false,
    "pycharm": {
     "name": "#%%\n"
    }
   }
  },
  {
   "cell_type": "code",
   "execution_count": 52,
   "outputs": [
    {
     "data": {
      "text/plain": "           0         1         2         3\n0   0.496924  0.532830 -1.104864  1.038290\n1  -1.016327  1.258146 -1.058956  1.576013\n2  -1.120244 -0.912335 -0.208569 -0.384250\n3  -0.625964  0.191470  2.488512  0.936054\n4   0.358766 -0.374664 -2.086480 -0.418438\n..       ...       ...       ...       ...\n95 -0.721671  0.045200  2.082754  1.268807\n96  0.303342 -0.694659 -0.069523  0.671046\n97 -2.043283  1.050564 -0.523839  0.460135\n98 -1.494149 -0.054819 -2.022834  0.366576\n99 -0.886474 -1.033834 -0.291972  1.299905\n\n[100 rows x 4 columns]",
      "text/html": "<div>\n<style scoped>\n    .dataframe tbody tr th:only-of-type {\n        vertical-align: middle;\n    }\n\n    .dataframe tbody tr th {\n        vertical-align: top;\n    }\n\n    .dataframe thead th {\n        text-align: right;\n    }\n</style>\n<table border=\"1\" class=\"dataframe\">\n  <thead>\n    <tr style=\"text-align: right;\">\n      <th></th>\n      <th>0</th>\n      <th>1</th>\n      <th>2</th>\n      <th>3</th>\n    </tr>\n  </thead>\n  <tbody>\n    <tr>\n      <th>0</th>\n      <td>0.496924</td>\n      <td>0.532830</td>\n      <td>-1.104864</td>\n      <td>1.038290</td>\n    </tr>\n    <tr>\n      <th>1</th>\n      <td>-1.016327</td>\n      <td>1.258146</td>\n      <td>-1.058956</td>\n      <td>1.576013</td>\n    </tr>\n    <tr>\n      <th>2</th>\n      <td>-1.120244</td>\n      <td>-0.912335</td>\n      <td>-0.208569</td>\n      <td>-0.384250</td>\n    </tr>\n    <tr>\n      <th>3</th>\n      <td>-0.625964</td>\n      <td>0.191470</td>\n      <td>2.488512</td>\n      <td>0.936054</td>\n    </tr>\n    <tr>\n      <th>4</th>\n      <td>0.358766</td>\n      <td>-0.374664</td>\n      <td>-2.086480</td>\n      <td>-0.418438</td>\n    </tr>\n    <tr>\n      <th>...</th>\n      <td>...</td>\n      <td>...</td>\n      <td>...</td>\n      <td>...</td>\n    </tr>\n    <tr>\n      <th>95</th>\n      <td>-0.721671</td>\n      <td>0.045200</td>\n      <td>2.082754</td>\n      <td>1.268807</td>\n    </tr>\n    <tr>\n      <th>96</th>\n      <td>0.303342</td>\n      <td>-0.694659</td>\n      <td>-0.069523</td>\n      <td>0.671046</td>\n    </tr>\n    <tr>\n      <th>97</th>\n      <td>-2.043283</td>\n      <td>1.050564</td>\n      <td>-0.523839</td>\n      <td>0.460135</td>\n    </tr>\n    <tr>\n      <th>98</th>\n      <td>-1.494149</td>\n      <td>-0.054819</td>\n      <td>-2.022834</td>\n      <td>0.366576</td>\n    </tr>\n    <tr>\n      <th>99</th>\n      <td>-0.886474</td>\n      <td>-1.033834</td>\n      <td>-0.291972</td>\n      <td>1.299905</td>\n    </tr>\n  </tbody>\n</table>\n<p>100 rows × 4 columns</p>\n</div>"
     },
     "execution_count": 52,
     "metadata": {},
     "output_type": "execute_result"
    }
   ],
   "source": [
    "df"
   ],
   "metadata": {
    "collapsed": false,
    "pycharm": {
     "name": "#%%\n"
    }
   }
  },
  {
   "cell_type": "code",
   "execution_count": 48,
   "outputs": [],
   "source": [
    "?np.random.randint"
   ],
   "metadata": {
    "collapsed": false,
    "pycharm": {
     "name": "#%%\n"
    }
   }
  },
  {
   "cell_type": "code",
   "execution_count": 54,
   "outputs": [],
   "source": [
    "df1 = pd.DataFrame(np.random.randint(100, size = (5,5)))"
   ],
   "metadata": {
    "collapsed": false,
    "pycharm": {
     "name": "#%%\n"
    }
   }
  },
  {
   "cell_type": "code",
   "execution_count": 55,
   "outputs": [
    {
     "data": {
      "text/plain": "    0   1   2   3   4\n0  78  79  27  94  38\n1  77  67  37  92  19\n2  94  97  85  65  85\n3  84  16  20  63  43\n4  42   7  27  45  31",
      "text/html": "<div>\n<style scoped>\n    .dataframe tbody tr th:only-of-type {\n        vertical-align: middle;\n    }\n\n    .dataframe tbody tr th {\n        vertical-align: top;\n    }\n\n    .dataframe thead th {\n        text-align: right;\n    }\n</style>\n<table border=\"1\" class=\"dataframe\">\n  <thead>\n    <tr style=\"text-align: right;\">\n      <th></th>\n      <th>0</th>\n      <th>1</th>\n      <th>2</th>\n      <th>3</th>\n      <th>4</th>\n    </tr>\n  </thead>\n  <tbody>\n    <tr>\n      <th>0</th>\n      <td>78</td>\n      <td>79</td>\n      <td>27</td>\n      <td>94</td>\n      <td>38</td>\n    </tr>\n    <tr>\n      <th>1</th>\n      <td>77</td>\n      <td>67</td>\n      <td>37</td>\n      <td>92</td>\n      <td>19</td>\n    </tr>\n    <tr>\n      <th>2</th>\n      <td>94</td>\n      <td>97</td>\n      <td>85</td>\n      <td>65</td>\n      <td>85</td>\n    </tr>\n    <tr>\n      <th>3</th>\n      <td>84</td>\n      <td>16</td>\n      <td>20</td>\n      <td>63</td>\n      <td>43</td>\n    </tr>\n    <tr>\n      <th>4</th>\n      <td>42</td>\n      <td>7</td>\n      <td>27</td>\n      <td>45</td>\n      <td>31</td>\n    </tr>\n  </tbody>\n</table>\n</div>"
     },
     "execution_count": 55,
     "metadata": {},
     "output_type": "execute_result"
    }
   ],
   "source": [
    "df1"
   ],
   "metadata": {
    "collapsed": false,
    "pycharm": {
     "name": "#%%\n"
    }
   }
  },
  {
   "cell_type": "code",
   "execution_count": 56,
   "outputs": [
    {
     "data": {
      "text/plain": "      0     1     2     3     4\n0   NaN   NaN  27.0   NaN  38.0\n1   NaN   NaN  37.0   NaN  19.0\n2   NaN   NaN   NaN   NaN   NaN\n3   NaN  16.0  20.0   NaN  43.0\n4  42.0   7.0  27.0  45.0  31.0",
      "text/html": "<div>\n<style scoped>\n    .dataframe tbody tr th:only-of-type {\n        vertical-align: middle;\n    }\n\n    .dataframe tbody tr th {\n        vertical-align: top;\n    }\n\n    .dataframe thead th {\n        text-align: right;\n    }\n</style>\n<table border=\"1\" class=\"dataframe\">\n  <thead>\n    <tr style=\"text-align: right;\">\n      <th></th>\n      <th>0</th>\n      <th>1</th>\n      <th>2</th>\n      <th>3</th>\n      <th>4</th>\n    </tr>\n  </thead>\n  <tbody>\n    <tr>\n      <th>0</th>\n      <td>NaN</td>\n      <td>NaN</td>\n      <td>27.0</td>\n      <td>NaN</td>\n      <td>38.0</td>\n    </tr>\n    <tr>\n      <th>1</th>\n      <td>NaN</td>\n      <td>NaN</td>\n      <td>37.0</td>\n      <td>NaN</td>\n      <td>19.0</td>\n    </tr>\n    <tr>\n      <th>2</th>\n      <td>NaN</td>\n      <td>NaN</td>\n      <td>NaN</td>\n      <td>NaN</td>\n      <td>NaN</td>\n    </tr>\n    <tr>\n      <th>3</th>\n      <td>NaN</td>\n      <td>16.0</td>\n      <td>20.0</td>\n      <td>NaN</td>\n      <td>43.0</td>\n    </tr>\n    <tr>\n      <th>4</th>\n      <td>42.0</td>\n      <td>7.0</td>\n      <td>27.0</td>\n      <td>45.0</td>\n      <td>31.0</td>\n    </tr>\n  </tbody>\n</table>\n</div>"
     },
     "execution_count": 56,
     "metadata": {},
     "output_type": "execute_result"
    }
   ],
   "source": [
    "df1[np.abs(df1) < 50]"
   ],
   "metadata": {
    "collapsed": false,
    "pycharm": {
     "name": "#%%\n"
    }
   }
  },
  {
   "cell_type": "code",
   "execution_count": 60,
   "outputs": [],
   "source": [
    "df2 = pd.DataFrame({\"letter\":[\"q\",\"r\",\"q\",\"w\",\"r\"], \"num\":[1,4,6,7,8]})"
   ],
   "metadata": {
    "collapsed": false,
    "pycharm": {
     "name": "#%%\n"
    }
   }
  },
  {
   "cell_type": "code",
   "execution_count": 61,
   "outputs": [
    {
     "data": {
      "text/plain": "  letter  num\n0      q    1\n1      r    4\n2      q    6\n3      w    7\n4      r    8",
      "text/html": "<div>\n<style scoped>\n    .dataframe tbody tr th:only-of-type {\n        vertical-align: middle;\n    }\n\n    .dataframe tbody tr th {\n        vertical-align: top;\n    }\n\n    .dataframe thead th {\n        text-align: right;\n    }\n</style>\n<table border=\"1\" class=\"dataframe\">\n  <thead>\n    <tr style=\"text-align: right;\">\n      <th></th>\n      <th>letter</th>\n      <th>num</th>\n    </tr>\n  </thead>\n  <tbody>\n    <tr>\n      <th>0</th>\n      <td>q</td>\n      <td>1</td>\n    </tr>\n    <tr>\n      <th>1</th>\n      <td>r</td>\n      <td>4</td>\n    </tr>\n    <tr>\n      <th>2</th>\n      <td>q</td>\n      <td>6</td>\n    </tr>\n    <tr>\n      <th>3</th>\n      <td>w</td>\n      <td>7</td>\n    </tr>\n    <tr>\n      <th>4</th>\n      <td>r</td>\n      <td>8</td>\n    </tr>\n  </tbody>\n</table>\n</div>"
     },
     "execution_count": 61,
     "metadata": {},
     "output_type": "execute_result"
    }
   ],
   "source": [
    "df2"
   ],
   "metadata": {
    "collapsed": false,
    "pycharm": {
     "name": "#%%\n"
    }
   }
  },
  {
   "cell_type": "code",
   "execution_count": 63,
   "outputs": [
    {
     "data": {
      "text/plain": "   q  r  w\n0  1  0  0\n1  0  1  0\n2  1  0  0\n3  0  0  1\n4  0  1  0",
      "text/html": "<div>\n<style scoped>\n    .dataframe tbody tr th:only-of-type {\n        vertical-align: middle;\n    }\n\n    .dataframe tbody tr th {\n        vertical-align: top;\n    }\n\n    .dataframe thead th {\n        text-align: right;\n    }\n</style>\n<table border=\"1\" class=\"dataframe\">\n  <thead>\n    <tr style=\"text-align: right;\">\n      <th></th>\n      <th>q</th>\n      <th>r</th>\n      <th>w</th>\n    </tr>\n  </thead>\n  <tbody>\n    <tr>\n      <th>0</th>\n      <td>1</td>\n      <td>0</td>\n      <td>0</td>\n    </tr>\n    <tr>\n      <th>1</th>\n      <td>0</td>\n      <td>1</td>\n      <td>0</td>\n    </tr>\n    <tr>\n      <th>2</th>\n      <td>1</td>\n      <td>0</td>\n      <td>0</td>\n    </tr>\n    <tr>\n      <th>3</th>\n      <td>0</td>\n      <td>0</td>\n      <td>1</td>\n    </tr>\n    <tr>\n      <th>4</th>\n      <td>0</td>\n      <td>1</td>\n      <td>0</td>\n    </tr>\n  </tbody>\n</table>\n</div>"
     },
     "execution_count": 63,
     "metadata": {},
     "output_type": "execute_result"
    }
   ],
   "source": [
    "pd.get_dummies(df2[\"letter\"])"
   ],
   "metadata": {
    "collapsed": false,
    "pycharm": {
     "name": "#%%\n"
    }
   }
  },
  {
   "cell_type": "code",
   "execution_count": null,
   "outputs": [],
   "source": [],
   "metadata": {
    "collapsed": false,
    "pycharm": {
     "name": "#%%\n"
    }
   }
  }
 ],
 "metadata": {
  "kernelspec": {
   "display_name": "Python 3",
   "language": "python",
   "name": "python3"
  },
  "language_info": {
   "codemirror_mode": {
    "name": "ipython",
    "version": 2
   },
   "file_extension": ".py",
   "mimetype": "text/x-python",
   "name": "python",
   "nbconvert_exporter": "python",
   "pygments_lexer": "ipython2",
   "version": "2.7.6"
  }
 },
 "nbformat": 4,
 "nbformat_minor": 0
}
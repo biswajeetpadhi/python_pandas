{
 "cells": [
  {
   "cell_type": "code",
   "execution_count": 1,
   "metadata": {
    "collapsed": true,
    "pycharm": {
     "name": "#%%\n"
    }
   },
   "outputs": [],
   "source": [
    "import pandas as pd"
   ]
  },
  {
   "cell_type": "code",
   "execution_count": 19,
   "outputs": [],
   "source": [
    "df = pd.read_csv(\"D:\\python\\python_pandas\\Placement_Data_Full_Class.csv\").set_index(\"sl_no\")"
   ],
   "metadata": {
    "collapsed": false,
    "pycharm": {
     "name": "#%%\n"
    }
   }
  },
  {
   "cell_type": "code",
   "execution_count": 11,
   "outputs": [
    {
     "data": {
      "text/plain": "      gender  ssc_p    ssc_b  hsc_p    hsc_b     hsc_s  degree_p   degree_t  \\\nsl_no                                                                         \n1          M  67.00   Others  91.00   Others  Commerce     58.00   Sci&Tech   \n2          M  79.33  Central  78.33   Others   Science     77.48   Sci&Tech   \n3          M  65.00  Central  68.00  Central      Arts     64.00  Comm&Mgmt   \n4          M  56.00  Central  52.00  Central   Science     52.00   Sci&Tech   \n5          M  85.80  Central  73.60  Central  Commerce     73.30  Comm&Mgmt   \n...      ...    ...      ...    ...      ...       ...       ...        ...   \n211        M  80.60   Others  82.00   Others  Commerce     77.60  Comm&Mgmt   \n212        M  58.00   Others  60.00   Others   Science     72.00   Sci&Tech   \n213        M  67.00   Others  67.00   Others  Commerce     73.00  Comm&Mgmt   \n214        F  74.00   Others  66.00   Others  Commerce     58.00  Comm&Mgmt   \n215        M  62.00  Central  58.00   Others   Science     53.00  Comm&Mgmt   \n\n      workex  etest_p specialisation  mba_p      status    salary  \nsl_no                                                              \n1         No     55.0         Mkt&HR  58.80      Placed  270000.0  \n2        Yes     86.5        Mkt&Fin  66.28      Placed  200000.0  \n3         No     75.0        Mkt&Fin  57.80      Placed  250000.0  \n4         No     66.0         Mkt&HR  59.43  Not Placed       NaN  \n5         No     96.8        Mkt&Fin  55.50      Placed  425000.0  \n...      ...      ...            ...    ...         ...       ...  \n211       No     91.0        Mkt&Fin  74.49      Placed  400000.0  \n212       No     74.0        Mkt&Fin  53.62      Placed  275000.0  \n213      Yes     59.0        Mkt&Fin  69.72      Placed  295000.0  \n214       No     70.0         Mkt&HR  60.23      Placed  204000.0  \n215       No     89.0         Mkt&HR  60.22  Not Placed       NaN  \n\n[215 rows x 14 columns]",
      "text/html": "<div>\n<style scoped>\n    .dataframe tbody tr th:only-of-type {\n        vertical-align: middle;\n    }\n\n    .dataframe tbody tr th {\n        vertical-align: top;\n    }\n\n    .dataframe thead th {\n        text-align: right;\n    }\n</style>\n<table border=\"1\" class=\"dataframe\">\n  <thead>\n    <tr style=\"text-align: right;\">\n      <th></th>\n      <th>gender</th>\n      <th>ssc_p</th>\n      <th>ssc_b</th>\n      <th>hsc_p</th>\n      <th>hsc_b</th>\n      <th>hsc_s</th>\n      <th>degree_p</th>\n      <th>degree_t</th>\n      <th>workex</th>\n      <th>etest_p</th>\n      <th>specialisation</th>\n      <th>mba_p</th>\n      <th>status</th>\n      <th>salary</th>\n    </tr>\n    <tr>\n      <th>sl_no</th>\n      <th></th>\n      <th></th>\n      <th></th>\n      <th></th>\n      <th></th>\n      <th></th>\n      <th></th>\n      <th></th>\n      <th></th>\n      <th></th>\n      <th></th>\n      <th></th>\n      <th></th>\n      <th></th>\n    </tr>\n  </thead>\n  <tbody>\n    <tr>\n      <th>1</th>\n      <td>M</td>\n      <td>67.00</td>\n      <td>Others</td>\n      <td>91.00</td>\n      <td>Others</td>\n      <td>Commerce</td>\n      <td>58.00</td>\n      <td>Sci&amp;Tech</td>\n      <td>No</td>\n      <td>55.0</td>\n      <td>Mkt&amp;HR</td>\n      <td>58.80</td>\n      <td>Placed</td>\n      <td>270000.0</td>\n    </tr>\n    <tr>\n      <th>2</th>\n      <td>M</td>\n      <td>79.33</td>\n      <td>Central</td>\n      <td>78.33</td>\n      <td>Others</td>\n      <td>Science</td>\n      <td>77.48</td>\n      <td>Sci&amp;Tech</td>\n      <td>Yes</td>\n      <td>86.5</td>\n      <td>Mkt&amp;Fin</td>\n      <td>66.28</td>\n      <td>Placed</td>\n      <td>200000.0</td>\n    </tr>\n    <tr>\n      <th>3</th>\n      <td>M</td>\n      <td>65.00</td>\n      <td>Central</td>\n      <td>68.00</td>\n      <td>Central</td>\n      <td>Arts</td>\n      <td>64.00</td>\n      <td>Comm&amp;Mgmt</td>\n      <td>No</td>\n      <td>75.0</td>\n      <td>Mkt&amp;Fin</td>\n      <td>57.80</td>\n      <td>Placed</td>\n      <td>250000.0</td>\n    </tr>\n    <tr>\n      <th>4</th>\n      <td>M</td>\n      <td>56.00</td>\n      <td>Central</td>\n      <td>52.00</td>\n      <td>Central</td>\n      <td>Science</td>\n      <td>52.00</td>\n      <td>Sci&amp;Tech</td>\n      <td>No</td>\n      <td>66.0</td>\n      <td>Mkt&amp;HR</td>\n      <td>59.43</td>\n      <td>Not Placed</td>\n      <td>NaN</td>\n    </tr>\n    <tr>\n      <th>5</th>\n      <td>M</td>\n      <td>85.80</td>\n      <td>Central</td>\n      <td>73.60</td>\n      <td>Central</td>\n      <td>Commerce</td>\n      <td>73.30</td>\n      <td>Comm&amp;Mgmt</td>\n      <td>No</td>\n      <td>96.8</td>\n      <td>Mkt&amp;Fin</td>\n      <td>55.50</td>\n      <td>Placed</td>\n      <td>425000.0</td>\n    </tr>\n    <tr>\n      <th>...</th>\n      <td>...</td>\n      <td>...</td>\n      <td>...</td>\n      <td>...</td>\n      <td>...</td>\n      <td>...</td>\n      <td>...</td>\n      <td>...</td>\n      <td>...</td>\n      <td>...</td>\n      <td>...</td>\n      <td>...</td>\n      <td>...</td>\n      <td>...</td>\n    </tr>\n    <tr>\n      <th>211</th>\n      <td>M</td>\n      <td>80.60</td>\n      <td>Others</td>\n      <td>82.00</td>\n      <td>Others</td>\n      <td>Commerce</td>\n      <td>77.60</td>\n      <td>Comm&amp;Mgmt</td>\n      <td>No</td>\n      <td>91.0</td>\n      <td>Mkt&amp;Fin</td>\n      <td>74.49</td>\n      <td>Placed</td>\n      <td>400000.0</td>\n    </tr>\n    <tr>\n      <th>212</th>\n      <td>M</td>\n      <td>58.00</td>\n      <td>Others</td>\n      <td>60.00</td>\n      <td>Others</td>\n      <td>Science</td>\n      <td>72.00</td>\n      <td>Sci&amp;Tech</td>\n      <td>No</td>\n      <td>74.0</td>\n      <td>Mkt&amp;Fin</td>\n      <td>53.62</td>\n      <td>Placed</td>\n      <td>275000.0</td>\n    </tr>\n    <tr>\n      <th>213</th>\n      <td>M</td>\n      <td>67.00</td>\n      <td>Others</td>\n      <td>67.00</td>\n      <td>Others</td>\n      <td>Commerce</td>\n      <td>73.00</td>\n      <td>Comm&amp;Mgmt</td>\n      <td>Yes</td>\n      <td>59.0</td>\n      <td>Mkt&amp;Fin</td>\n      <td>69.72</td>\n      <td>Placed</td>\n      <td>295000.0</td>\n    </tr>\n    <tr>\n      <th>214</th>\n      <td>F</td>\n      <td>74.00</td>\n      <td>Others</td>\n      <td>66.00</td>\n      <td>Others</td>\n      <td>Commerce</td>\n      <td>58.00</td>\n      <td>Comm&amp;Mgmt</td>\n      <td>No</td>\n      <td>70.0</td>\n      <td>Mkt&amp;HR</td>\n      <td>60.23</td>\n      <td>Placed</td>\n      <td>204000.0</td>\n    </tr>\n    <tr>\n      <th>215</th>\n      <td>M</td>\n      <td>62.00</td>\n      <td>Central</td>\n      <td>58.00</td>\n      <td>Others</td>\n      <td>Science</td>\n      <td>53.00</td>\n      <td>Comm&amp;Mgmt</td>\n      <td>No</td>\n      <td>89.0</td>\n      <td>Mkt&amp;HR</td>\n      <td>60.22</td>\n      <td>Not Placed</td>\n      <td>NaN</td>\n    </tr>\n  </tbody>\n</table>\n<p>215 rows × 14 columns</p>\n</div>"
     },
     "execution_count": 11,
     "metadata": {},
     "output_type": "execute_result"
    }
   ],
   "source": [
    "df"
   ],
   "metadata": {
    "collapsed": false,
    "pycharm": {
     "name": "#%%\n"
    }
   }
  },
  {
   "cell_type": "code",
   "execution_count": 12,
   "outputs": [
    {
     "data": {
      "text/plain": "       gender  ssc_p  ssc_b  hsc_p  hsc_b  hsc_s  degree_p  degree_t  workex  \\\nsl_no                                                                          \n1       False  False  False  False  False  False     False     False   False   \n2       False  False  False  False  False  False     False     False   False   \n3       False  False  False  False  False  False     False     False   False   \n4       False  False  False  False  False  False     False     False   False   \n5       False  False  False  False  False  False     False     False   False   \n...       ...    ...    ...    ...    ...    ...       ...       ...     ...   \n211     False  False  False  False  False  False     False     False   False   \n212     False  False  False  False  False  False     False     False   False   \n213     False  False  False  False  False  False     False     False   False   \n214     False  False  False  False  False  False     False     False   False   \n215     False  False  False  False  False  False     False     False   False   \n\n       etest_p  specialisation  mba_p  status  salary  \nsl_no                                                  \n1        False           False  False   False   False  \n2        False           False  False   False   False  \n3        False           False  False   False   False  \n4        False           False  False   False    True  \n5        False           False  False   False   False  \n...        ...             ...    ...     ...     ...  \n211      False           False  False   False   False  \n212      False           False  False   False   False  \n213      False           False  False   False   False  \n214      False           False  False   False   False  \n215      False           False  False   False    True  \n\n[215 rows x 14 columns]",
      "text/html": "<div>\n<style scoped>\n    .dataframe tbody tr th:only-of-type {\n        vertical-align: middle;\n    }\n\n    .dataframe tbody tr th {\n        vertical-align: top;\n    }\n\n    .dataframe thead th {\n        text-align: right;\n    }\n</style>\n<table border=\"1\" class=\"dataframe\">\n  <thead>\n    <tr style=\"text-align: right;\">\n      <th></th>\n      <th>gender</th>\n      <th>ssc_p</th>\n      <th>ssc_b</th>\n      <th>hsc_p</th>\n      <th>hsc_b</th>\n      <th>hsc_s</th>\n      <th>degree_p</th>\n      <th>degree_t</th>\n      <th>workex</th>\n      <th>etest_p</th>\n      <th>specialisation</th>\n      <th>mba_p</th>\n      <th>status</th>\n      <th>salary</th>\n    </tr>\n    <tr>\n      <th>sl_no</th>\n      <th></th>\n      <th></th>\n      <th></th>\n      <th></th>\n      <th></th>\n      <th></th>\n      <th></th>\n      <th></th>\n      <th></th>\n      <th></th>\n      <th></th>\n      <th></th>\n      <th></th>\n      <th></th>\n    </tr>\n  </thead>\n  <tbody>\n    <tr>\n      <th>1</th>\n      <td>False</td>\n      <td>False</td>\n      <td>False</td>\n      <td>False</td>\n      <td>False</td>\n      <td>False</td>\n      <td>False</td>\n      <td>False</td>\n      <td>False</td>\n      <td>False</td>\n      <td>False</td>\n      <td>False</td>\n      <td>False</td>\n      <td>False</td>\n    </tr>\n    <tr>\n      <th>2</th>\n      <td>False</td>\n      <td>False</td>\n      <td>False</td>\n      <td>False</td>\n      <td>False</td>\n      <td>False</td>\n      <td>False</td>\n      <td>False</td>\n      <td>False</td>\n      <td>False</td>\n      <td>False</td>\n      <td>False</td>\n      <td>False</td>\n      <td>False</td>\n    </tr>\n    <tr>\n      <th>3</th>\n      <td>False</td>\n      <td>False</td>\n      <td>False</td>\n      <td>False</td>\n      <td>False</td>\n      <td>False</td>\n      <td>False</td>\n      <td>False</td>\n      <td>False</td>\n      <td>False</td>\n      <td>False</td>\n      <td>False</td>\n      <td>False</td>\n      <td>False</td>\n    </tr>\n    <tr>\n      <th>4</th>\n      <td>False</td>\n      <td>False</td>\n      <td>False</td>\n      <td>False</td>\n      <td>False</td>\n      <td>False</td>\n      <td>False</td>\n      <td>False</td>\n      <td>False</td>\n      <td>False</td>\n      <td>False</td>\n      <td>False</td>\n      <td>False</td>\n      <td>True</td>\n    </tr>\n    <tr>\n      <th>5</th>\n      <td>False</td>\n      <td>False</td>\n      <td>False</td>\n      <td>False</td>\n      <td>False</td>\n      <td>False</td>\n      <td>False</td>\n      <td>False</td>\n      <td>False</td>\n      <td>False</td>\n      <td>False</td>\n      <td>False</td>\n      <td>False</td>\n      <td>False</td>\n    </tr>\n    <tr>\n      <th>...</th>\n      <td>...</td>\n      <td>...</td>\n      <td>...</td>\n      <td>...</td>\n      <td>...</td>\n      <td>...</td>\n      <td>...</td>\n      <td>...</td>\n      <td>...</td>\n      <td>...</td>\n      <td>...</td>\n      <td>...</td>\n      <td>...</td>\n      <td>...</td>\n    </tr>\n    <tr>\n      <th>211</th>\n      <td>False</td>\n      <td>False</td>\n      <td>False</td>\n      <td>False</td>\n      <td>False</td>\n      <td>False</td>\n      <td>False</td>\n      <td>False</td>\n      <td>False</td>\n      <td>False</td>\n      <td>False</td>\n      <td>False</td>\n      <td>False</td>\n      <td>False</td>\n    </tr>\n    <tr>\n      <th>212</th>\n      <td>False</td>\n      <td>False</td>\n      <td>False</td>\n      <td>False</td>\n      <td>False</td>\n      <td>False</td>\n      <td>False</td>\n      <td>False</td>\n      <td>False</td>\n      <td>False</td>\n      <td>False</td>\n      <td>False</td>\n      <td>False</td>\n      <td>False</td>\n    </tr>\n    <tr>\n      <th>213</th>\n      <td>False</td>\n      <td>False</td>\n      <td>False</td>\n      <td>False</td>\n      <td>False</td>\n      <td>False</td>\n      <td>False</td>\n      <td>False</td>\n      <td>False</td>\n      <td>False</td>\n      <td>False</td>\n      <td>False</td>\n      <td>False</td>\n      <td>False</td>\n    </tr>\n    <tr>\n      <th>214</th>\n      <td>False</td>\n      <td>False</td>\n      <td>False</td>\n      <td>False</td>\n      <td>False</td>\n      <td>False</td>\n      <td>False</td>\n      <td>False</td>\n      <td>False</td>\n      <td>False</td>\n      <td>False</td>\n      <td>False</td>\n      <td>False</td>\n      <td>False</td>\n    </tr>\n    <tr>\n      <th>215</th>\n      <td>False</td>\n      <td>False</td>\n      <td>False</td>\n      <td>False</td>\n      <td>False</td>\n      <td>False</td>\n      <td>False</td>\n      <td>False</td>\n      <td>False</td>\n      <td>False</td>\n      <td>False</td>\n      <td>False</td>\n      <td>False</td>\n      <td>True</td>\n    </tr>\n  </tbody>\n</table>\n<p>215 rows × 14 columns</p>\n</div>"
     },
     "execution_count": 12,
     "metadata": {},
     "output_type": "execute_result"
    }
   ],
   "source": [
    "df.isnull()"
   ],
   "metadata": {
    "collapsed": false,
    "pycharm": {
     "name": "#%%\n"
    }
   }
  },
  {
   "cell_type": "code",
   "execution_count": 13,
   "outputs": [
    {
     "data": {
      "text/plain": "       gender  ssc_p  ssc_b  hsc_p  hsc_b  hsc_s  degree_p  degree_t  workex  \\\nsl_no                                                                          \n1        True   True   True   True   True   True      True      True    True   \n2        True   True   True   True   True   True      True      True    True   \n3        True   True   True   True   True   True      True      True    True   \n4        True   True   True   True   True   True      True      True    True   \n5        True   True   True   True   True   True      True      True    True   \n...       ...    ...    ...    ...    ...    ...       ...       ...     ...   \n211      True   True   True   True   True   True      True      True    True   \n212      True   True   True   True   True   True      True      True    True   \n213      True   True   True   True   True   True      True      True    True   \n214      True   True   True   True   True   True      True      True    True   \n215      True   True   True   True   True   True      True      True    True   \n\n       etest_p  specialisation  mba_p  status  salary  \nsl_no                                                  \n1         True            True   True    True    True  \n2         True            True   True    True    True  \n3         True            True   True    True    True  \n4         True            True   True    True   False  \n5         True            True   True    True    True  \n...        ...             ...    ...     ...     ...  \n211       True            True   True    True    True  \n212       True            True   True    True    True  \n213       True            True   True    True    True  \n214       True            True   True    True    True  \n215       True            True   True    True   False  \n\n[215 rows x 14 columns]",
      "text/html": "<div>\n<style scoped>\n    .dataframe tbody tr th:only-of-type {\n        vertical-align: middle;\n    }\n\n    .dataframe tbody tr th {\n        vertical-align: top;\n    }\n\n    .dataframe thead th {\n        text-align: right;\n    }\n</style>\n<table border=\"1\" class=\"dataframe\">\n  <thead>\n    <tr style=\"text-align: right;\">\n      <th></th>\n      <th>gender</th>\n      <th>ssc_p</th>\n      <th>ssc_b</th>\n      <th>hsc_p</th>\n      <th>hsc_b</th>\n      <th>hsc_s</th>\n      <th>degree_p</th>\n      <th>degree_t</th>\n      <th>workex</th>\n      <th>etest_p</th>\n      <th>specialisation</th>\n      <th>mba_p</th>\n      <th>status</th>\n      <th>salary</th>\n    </tr>\n    <tr>\n      <th>sl_no</th>\n      <th></th>\n      <th></th>\n      <th></th>\n      <th></th>\n      <th></th>\n      <th></th>\n      <th></th>\n      <th></th>\n      <th></th>\n      <th></th>\n      <th></th>\n      <th></th>\n      <th></th>\n      <th></th>\n    </tr>\n  </thead>\n  <tbody>\n    <tr>\n      <th>1</th>\n      <td>True</td>\n      <td>True</td>\n      <td>True</td>\n      <td>True</td>\n      <td>True</td>\n      <td>True</td>\n      <td>True</td>\n      <td>True</td>\n      <td>True</td>\n      <td>True</td>\n      <td>True</td>\n      <td>True</td>\n      <td>True</td>\n      <td>True</td>\n    </tr>\n    <tr>\n      <th>2</th>\n      <td>True</td>\n      <td>True</td>\n      <td>True</td>\n      <td>True</td>\n      <td>True</td>\n      <td>True</td>\n      <td>True</td>\n      <td>True</td>\n      <td>True</td>\n      <td>True</td>\n      <td>True</td>\n      <td>True</td>\n      <td>True</td>\n      <td>True</td>\n    </tr>\n    <tr>\n      <th>3</th>\n      <td>True</td>\n      <td>True</td>\n      <td>True</td>\n      <td>True</td>\n      <td>True</td>\n      <td>True</td>\n      <td>True</td>\n      <td>True</td>\n      <td>True</td>\n      <td>True</td>\n      <td>True</td>\n      <td>True</td>\n      <td>True</td>\n      <td>True</td>\n    </tr>\n    <tr>\n      <th>4</th>\n      <td>True</td>\n      <td>True</td>\n      <td>True</td>\n      <td>True</td>\n      <td>True</td>\n      <td>True</td>\n      <td>True</td>\n      <td>True</td>\n      <td>True</td>\n      <td>True</td>\n      <td>True</td>\n      <td>True</td>\n      <td>True</td>\n      <td>False</td>\n    </tr>\n    <tr>\n      <th>5</th>\n      <td>True</td>\n      <td>True</td>\n      <td>True</td>\n      <td>True</td>\n      <td>True</td>\n      <td>True</td>\n      <td>True</td>\n      <td>True</td>\n      <td>True</td>\n      <td>True</td>\n      <td>True</td>\n      <td>True</td>\n      <td>True</td>\n      <td>True</td>\n    </tr>\n    <tr>\n      <th>...</th>\n      <td>...</td>\n      <td>...</td>\n      <td>...</td>\n      <td>...</td>\n      <td>...</td>\n      <td>...</td>\n      <td>...</td>\n      <td>...</td>\n      <td>...</td>\n      <td>...</td>\n      <td>...</td>\n      <td>...</td>\n      <td>...</td>\n      <td>...</td>\n    </tr>\n    <tr>\n      <th>211</th>\n      <td>True</td>\n      <td>True</td>\n      <td>True</td>\n      <td>True</td>\n      <td>True</td>\n      <td>True</td>\n      <td>True</td>\n      <td>True</td>\n      <td>True</td>\n      <td>True</td>\n      <td>True</td>\n      <td>True</td>\n      <td>True</td>\n      <td>True</td>\n    </tr>\n    <tr>\n      <th>212</th>\n      <td>True</td>\n      <td>True</td>\n      <td>True</td>\n      <td>True</td>\n      <td>True</td>\n      <td>True</td>\n      <td>True</td>\n      <td>True</td>\n      <td>True</td>\n      <td>True</td>\n      <td>True</td>\n      <td>True</td>\n      <td>True</td>\n      <td>True</td>\n    </tr>\n    <tr>\n      <th>213</th>\n      <td>True</td>\n      <td>True</td>\n      <td>True</td>\n      <td>True</td>\n      <td>True</td>\n      <td>True</td>\n      <td>True</td>\n      <td>True</td>\n      <td>True</td>\n      <td>True</td>\n      <td>True</td>\n      <td>True</td>\n      <td>True</td>\n      <td>True</td>\n    </tr>\n    <tr>\n      <th>214</th>\n      <td>True</td>\n      <td>True</td>\n      <td>True</td>\n      <td>True</td>\n      <td>True</td>\n      <td>True</td>\n      <td>True</td>\n      <td>True</td>\n      <td>True</td>\n      <td>True</td>\n      <td>True</td>\n      <td>True</td>\n      <td>True</td>\n      <td>True</td>\n    </tr>\n    <tr>\n      <th>215</th>\n      <td>True</td>\n      <td>True</td>\n      <td>True</td>\n      <td>True</td>\n      <td>True</td>\n      <td>True</td>\n      <td>True</td>\n      <td>True</td>\n      <td>True</td>\n      <td>True</td>\n      <td>True</td>\n      <td>True</td>\n      <td>True</td>\n      <td>False</td>\n    </tr>\n  </tbody>\n</table>\n<p>215 rows × 14 columns</p>\n</div>"
     },
     "execution_count": 13,
     "metadata": {},
     "output_type": "execute_result"
    }
   ],
   "source": [
    "df.notnull()"
   ],
   "metadata": {
    "collapsed": false,
    "pycharm": {
     "name": "#%%\n"
    }
   }
  },
  {
   "cell_type": "code",
   "execution_count": 18,
   "outputs": [
    {
     "data": {
      "text/plain": "gender            0\nssc_p             0\nssc_b             0\nhsc_p             0\nhsc_b             0\nhsc_s             0\ndegree_p          0\ndegree_t          0\nworkex            0\netest_p           0\nspecialisation    0\nmba_p             0\nstatus            0\nsalary            0\ndtype: int64"
     },
     "execution_count": 18,
     "metadata": {},
     "output_type": "execute_result"
    }
   ],
   "source": [
    "df.isnull().sum()"
   ],
   "metadata": {
    "collapsed": false,
    "pycharm": {
     "name": "#%%\n"
    }
   }
  },
  {
   "cell_type": "code",
   "execution_count": 20,
   "outputs": [
    {
     "data": {
      "text/plain": "      gender  ssc_p    ssc_b  hsc_p    hsc_b     hsc_s  degree_p   degree_t  \\\nsl_no                                                                         \n1          M  67.00   Others  91.00   Others  Commerce     58.00   Sci&Tech   \n2          M  79.33  Central  78.33   Others   Science     77.48   Sci&Tech   \n3          M  65.00  Central  68.00  Central      Arts     64.00  Comm&Mgmt   \n5          M  85.80  Central  73.60  Central  Commerce     73.30  Comm&Mgmt   \n8          M  82.00  Central  64.00  Central   Science     66.00   Sci&Tech   \n...      ...    ...      ...    ...      ...       ...       ...        ...   \n210        M  62.00  Central  72.00  Central  Commerce     65.00  Comm&Mgmt   \n211        M  80.60   Others  82.00   Others  Commerce     77.60  Comm&Mgmt   \n212        M  58.00   Others  60.00   Others   Science     72.00   Sci&Tech   \n213        M  67.00   Others  67.00   Others  Commerce     73.00  Comm&Mgmt   \n214        F  74.00   Others  66.00   Others  Commerce     58.00  Comm&Mgmt   \n\n      workex  etest_p specialisation  mba_p  status    salary  \nsl_no                                                          \n1         No     55.0         Mkt&HR  58.80  Placed  270000.0  \n2        Yes     86.5        Mkt&Fin  66.28  Placed  200000.0  \n3         No     75.0        Mkt&Fin  57.80  Placed  250000.0  \n5         No     96.8        Mkt&Fin  55.50  Placed  425000.0  \n8        Yes     67.0        Mkt&Fin  62.14  Placed  252000.0  \n...      ...      ...            ...    ...     ...       ...  \n210       No     67.0        Mkt&Fin  56.49  Placed  216000.0  \n211       No     91.0        Mkt&Fin  74.49  Placed  400000.0  \n212       No     74.0        Mkt&Fin  53.62  Placed  275000.0  \n213      Yes     59.0        Mkt&Fin  69.72  Placed  295000.0  \n214       No     70.0         Mkt&HR  60.23  Placed  204000.0  \n\n[148 rows x 14 columns]",
      "text/html": "<div>\n<style scoped>\n    .dataframe tbody tr th:only-of-type {\n        vertical-align: middle;\n    }\n\n    .dataframe tbody tr th {\n        vertical-align: top;\n    }\n\n    .dataframe thead th {\n        text-align: right;\n    }\n</style>\n<table border=\"1\" class=\"dataframe\">\n  <thead>\n    <tr style=\"text-align: right;\">\n      <th></th>\n      <th>gender</th>\n      <th>ssc_p</th>\n      <th>ssc_b</th>\n      <th>hsc_p</th>\n      <th>hsc_b</th>\n      <th>hsc_s</th>\n      <th>degree_p</th>\n      <th>degree_t</th>\n      <th>workex</th>\n      <th>etest_p</th>\n      <th>specialisation</th>\n      <th>mba_p</th>\n      <th>status</th>\n      <th>salary</th>\n    </tr>\n    <tr>\n      <th>sl_no</th>\n      <th></th>\n      <th></th>\n      <th></th>\n      <th></th>\n      <th></th>\n      <th></th>\n      <th></th>\n      <th></th>\n      <th></th>\n      <th></th>\n      <th></th>\n      <th></th>\n      <th></th>\n      <th></th>\n    </tr>\n  </thead>\n  <tbody>\n    <tr>\n      <th>1</th>\n      <td>M</td>\n      <td>67.00</td>\n      <td>Others</td>\n      <td>91.00</td>\n      <td>Others</td>\n      <td>Commerce</td>\n      <td>58.00</td>\n      <td>Sci&amp;Tech</td>\n      <td>No</td>\n      <td>55.0</td>\n      <td>Mkt&amp;HR</td>\n      <td>58.80</td>\n      <td>Placed</td>\n      <td>270000.0</td>\n    </tr>\n    <tr>\n      <th>2</th>\n      <td>M</td>\n      <td>79.33</td>\n      <td>Central</td>\n      <td>78.33</td>\n      <td>Others</td>\n      <td>Science</td>\n      <td>77.48</td>\n      <td>Sci&amp;Tech</td>\n      <td>Yes</td>\n      <td>86.5</td>\n      <td>Mkt&amp;Fin</td>\n      <td>66.28</td>\n      <td>Placed</td>\n      <td>200000.0</td>\n    </tr>\n    <tr>\n      <th>3</th>\n      <td>M</td>\n      <td>65.00</td>\n      <td>Central</td>\n      <td>68.00</td>\n      <td>Central</td>\n      <td>Arts</td>\n      <td>64.00</td>\n      <td>Comm&amp;Mgmt</td>\n      <td>No</td>\n      <td>75.0</td>\n      <td>Mkt&amp;Fin</td>\n      <td>57.80</td>\n      <td>Placed</td>\n      <td>250000.0</td>\n    </tr>\n    <tr>\n      <th>5</th>\n      <td>M</td>\n      <td>85.80</td>\n      <td>Central</td>\n      <td>73.60</td>\n      <td>Central</td>\n      <td>Commerce</td>\n      <td>73.30</td>\n      <td>Comm&amp;Mgmt</td>\n      <td>No</td>\n      <td>96.8</td>\n      <td>Mkt&amp;Fin</td>\n      <td>55.50</td>\n      <td>Placed</td>\n      <td>425000.0</td>\n    </tr>\n    <tr>\n      <th>8</th>\n      <td>M</td>\n      <td>82.00</td>\n      <td>Central</td>\n      <td>64.00</td>\n      <td>Central</td>\n      <td>Science</td>\n      <td>66.00</td>\n      <td>Sci&amp;Tech</td>\n      <td>Yes</td>\n      <td>67.0</td>\n      <td>Mkt&amp;Fin</td>\n      <td>62.14</td>\n      <td>Placed</td>\n      <td>252000.0</td>\n    </tr>\n    <tr>\n      <th>...</th>\n      <td>...</td>\n      <td>...</td>\n      <td>...</td>\n      <td>...</td>\n      <td>...</td>\n      <td>...</td>\n      <td>...</td>\n      <td>...</td>\n      <td>...</td>\n      <td>...</td>\n      <td>...</td>\n      <td>...</td>\n      <td>...</td>\n      <td>...</td>\n    </tr>\n    <tr>\n      <th>210</th>\n      <td>M</td>\n      <td>62.00</td>\n      <td>Central</td>\n      <td>72.00</td>\n      <td>Central</td>\n      <td>Commerce</td>\n      <td>65.00</td>\n      <td>Comm&amp;Mgmt</td>\n      <td>No</td>\n      <td>67.0</td>\n      <td>Mkt&amp;Fin</td>\n      <td>56.49</td>\n      <td>Placed</td>\n      <td>216000.0</td>\n    </tr>\n    <tr>\n      <th>211</th>\n      <td>M</td>\n      <td>80.60</td>\n      <td>Others</td>\n      <td>82.00</td>\n      <td>Others</td>\n      <td>Commerce</td>\n      <td>77.60</td>\n      <td>Comm&amp;Mgmt</td>\n      <td>No</td>\n      <td>91.0</td>\n      <td>Mkt&amp;Fin</td>\n      <td>74.49</td>\n      <td>Placed</td>\n      <td>400000.0</td>\n    </tr>\n    <tr>\n      <th>212</th>\n      <td>M</td>\n      <td>58.00</td>\n      <td>Others</td>\n      <td>60.00</td>\n      <td>Others</td>\n      <td>Science</td>\n      <td>72.00</td>\n      <td>Sci&amp;Tech</td>\n      <td>No</td>\n      <td>74.0</td>\n      <td>Mkt&amp;Fin</td>\n      <td>53.62</td>\n      <td>Placed</td>\n      <td>275000.0</td>\n    </tr>\n    <tr>\n      <th>213</th>\n      <td>M</td>\n      <td>67.00</td>\n      <td>Others</td>\n      <td>67.00</td>\n      <td>Others</td>\n      <td>Commerce</td>\n      <td>73.00</td>\n      <td>Comm&amp;Mgmt</td>\n      <td>Yes</td>\n      <td>59.0</td>\n      <td>Mkt&amp;Fin</td>\n      <td>69.72</td>\n      <td>Placed</td>\n      <td>295000.0</td>\n    </tr>\n    <tr>\n      <th>214</th>\n      <td>F</td>\n      <td>74.00</td>\n      <td>Others</td>\n      <td>66.00</td>\n      <td>Others</td>\n      <td>Commerce</td>\n      <td>58.00</td>\n      <td>Comm&amp;Mgmt</td>\n      <td>No</td>\n      <td>70.0</td>\n      <td>Mkt&amp;HR</td>\n      <td>60.23</td>\n      <td>Placed</td>\n      <td>204000.0</td>\n    </tr>\n  </tbody>\n</table>\n<p>148 rows × 14 columns</p>\n</div>"
     },
     "execution_count": 20,
     "metadata": {},
     "output_type": "execute_result"
    }
   ],
   "source": [
    "df.dropna()"
   ],
   "metadata": {
    "collapsed": false,
    "pycharm": {
     "name": "#%%\n"
    }
   }
  },
  {
   "cell_type": "code",
   "execution_count": 28,
   "outputs": [
    {
     "data": {
      "text/plain": "      gender  ssc_p    ssc_b  hsc_p    hsc_b     hsc_s  degree_p   degree_t  \\\nsl_no                                                                         \n1          M  67.00   Others  91.00   Others  Commerce     58.00   Sci&Tech   \n2          M  79.33  Central  78.33   Others   Science     77.48   Sci&Tech   \n3          M  65.00  Central  68.00  Central      Arts     64.00  Comm&Mgmt   \n4          M  56.00  Central  52.00  Central   Science     52.00   Sci&Tech   \n5          M  85.80  Central  73.60  Central  Commerce     73.30  Comm&Mgmt   \n...      ...    ...      ...    ...      ...       ...       ...        ...   \n211        M  80.60   Others  82.00   Others  Commerce     77.60  Comm&Mgmt   \n212        M  58.00   Others  60.00   Others   Science     72.00   Sci&Tech   \n213        M  67.00   Others  67.00   Others  Commerce     73.00  Comm&Mgmt   \n214        F  74.00   Others  66.00   Others  Commerce     58.00  Comm&Mgmt   \n215        M  62.00  Central  58.00   Others   Science     53.00  Comm&Mgmt   \n\n      workex  etest_p specialisation  mba_p      status         salary  \nsl_no                                                                   \n1         No     55.0         Mkt&HR  58.80      Placed  270000.000000  \n2        Yes     86.5        Mkt&Fin  66.28      Placed  200000.000000  \n3         No     75.0        Mkt&Fin  57.80      Placed  250000.000000  \n4         No     66.0         Mkt&HR  59.43  Not Placed  288655.405405  \n5         No     96.8        Mkt&Fin  55.50      Placed  425000.000000  \n...      ...      ...            ...    ...         ...            ...  \n211       No     91.0        Mkt&Fin  74.49      Placed  400000.000000  \n212       No     74.0        Mkt&Fin  53.62      Placed  275000.000000  \n213      Yes     59.0        Mkt&Fin  69.72      Placed  295000.000000  \n214       No     70.0         Mkt&HR  60.23      Placed  204000.000000  \n215       No     89.0         Mkt&HR  60.22  Not Placed  288655.405405  \n\n[215 rows x 14 columns]",
      "text/html": "<div>\n<style scoped>\n    .dataframe tbody tr th:only-of-type {\n        vertical-align: middle;\n    }\n\n    .dataframe tbody tr th {\n        vertical-align: top;\n    }\n\n    .dataframe thead th {\n        text-align: right;\n    }\n</style>\n<table border=\"1\" class=\"dataframe\">\n  <thead>\n    <tr style=\"text-align: right;\">\n      <th></th>\n      <th>gender</th>\n      <th>ssc_p</th>\n      <th>ssc_b</th>\n      <th>hsc_p</th>\n      <th>hsc_b</th>\n      <th>hsc_s</th>\n      <th>degree_p</th>\n      <th>degree_t</th>\n      <th>workex</th>\n      <th>etest_p</th>\n      <th>specialisation</th>\n      <th>mba_p</th>\n      <th>status</th>\n      <th>salary</th>\n    </tr>\n    <tr>\n      <th>sl_no</th>\n      <th></th>\n      <th></th>\n      <th></th>\n      <th></th>\n      <th></th>\n      <th></th>\n      <th></th>\n      <th></th>\n      <th></th>\n      <th></th>\n      <th></th>\n      <th></th>\n      <th></th>\n      <th></th>\n    </tr>\n  </thead>\n  <tbody>\n    <tr>\n      <th>1</th>\n      <td>M</td>\n      <td>67.00</td>\n      <td>Others</td>\n      <td>91.00</td>\n      <td>Others</td>\n      <td>Commerce</td>\n      <td>58.00</td>\n      <td>Sci&amp;Tech</td>\n      <td>No</td>\n      <td>55.0</td>\n      <td>Mkt&amp;HR</td>\n      <td>58.80</td>\n      <td>Placed</td>\n      <td>270000.000000</td>\n    </tr>\n    <tr>\n      <th>2</th>\n      <td>M</td>\n      <td>79.33</td>\n      <td>Central</td>\n      <td>78.33</td>\n      <td>Others</td>\n      <td>Science</td>\n      <td>77.48</td>\n      <td>Sci&amp;Tech</td>\n      <td>Yes</td>\n      <td>86.5</td>\n      <td>Mkt&amp;Fin</td>\n      <td>66.28</td>\n      <td>Placed</td>\n      <td>200000.000000</td>\n    </tr>\n    <tr>\n      <th>3</th>\n      <td>M</td>\n      <td>65.00</td>\n      <td>Central</td>\n      <td>68.00</td>\n      <td>Central</td>\n      <td>Arts</td>\n      <td>64.00</td>\n      <td>Comm&amp;Mgmt</td>\n      <td>No</td>\n      <td>75.0</td>\n      <td>Mkt&amp;Fin</td>\n      <td>57.80</td>\n      <td>Placed</td>\n      <td>250000.000000</td>\n    </tr>\n    <tr>\n      <th>4</th>\n      <td>M</td>\n      <td>56.00</td>\n      <td>Central</td>\n      <td>52.00</td>\n      <td>Central</td>\n      <td>Science</td>\n      <td>52.00</td>\n      <td>Sci&amp;Tech</td>\n      <td>No</td>\n      <td>66.0</td>\n      <td>Mkt&amp;HR</td>\n      <td>59.43</td>\n      <td>Not Placed</td>\n      <td>288655.405405</td>\n    </tr>\n    <tr>\n      <th>5</th>\n      <td>M</td>\n      <td>85.80</td>\n      <td>Central</td>\n      <td>73.60</td>\n      <td>Central</td>\n      <td>Commerce</td>\n      <td>73.30</td>\n      <td>Comm&amp;Mgmt</td>\n      <td>No</td>\n      <td>96.8</td>\n      <td>Mkt&amp;Fin</td>\n      <td>55.50</td>\n      <td>Placed</td>\n      <td>425000.000000</td>\n    </tr>\n    <tr>\n      <th>...</th>\n      <td>...</td>\n      <td>...</td>\n      <td>...</td>\n      <td>...</td>\n      <td>...</td>\n      <td>...</td>\n      <td>...</td>\n      <td>...</td>\n      <td>...</td>\n      <td>...</td>\n      <td>...</td>\n      <td>...</td>\n      <td>...</td>\n      <td>...</td>\n    </tr>\n    <tr>\n      <th>211</th>\n      <td>M</td>\n      <td>80.60</td>\n      <td>Others</td>\n      <td>82.00</td>\n      <td>Others</td>\n      <td>Commerce</td>\n      <td>77.60</td>\n      <td>Comm&amp;Mgmt</td>\n      <td>No</td>\n      <td>91.0</td>\n      <td>Mkt&amp;Fin</td>\n      <td>74.49</td>\n      <td>Placed</td>\n      <td>400000.000000</td>\n    </tr>\n    <tr>\n      <th>212</th>\n      <td>M</td>\n      <td>58.00</td>\n      <td>Others</td>\n      <td>60.00</td>\n      <td>Others</td>\n      <td>Science</td>\n      <td>72.00</td>\n      <td>Sci&amp;Tech</td>\n      <td>No</td>\n      <td>74.0</td>\n      <td>Mkt&amp;Fin</td>\n      <td>53.62</td>\n      <td>Placed</td>\n      <td>275000.000000</td>\n    </tr>\n    <tr>\n      <th>213</th>\n      <td>M</td>\n      <td>67.00</td>\n      <td>Others</td>\n      <td>67.00</td>\n      <td>Others</td>\n      <td>Commerce</td>\n      <td>73.00</td>\n      <td>Comm&amp;Mgmt</td>\n      <td>Yes</td>\n      <td>59.0</td>\n      <td>Mkt&amp;Fin</td>\n      <td>69.72</td>\n      <td>Placed</td>\n      <td>295000.000000</td>\n    </tr>\n    <tr>\n      <th>214</th>\n      <td>F</td>\n      <td>74.00</td>\n      <td>Others</td>\n      <td>66.00</td>\n      <td>Others</td>\n      <td>Commerce</td>\n      <td>58.00</td>\n      <td>Comm&amp;Mgmt</td>\n      <td>No</td>\n      <td>70.0</td>\n      <td>Mkt&amp;HR</td>\n      <td>60.23</td>\n      <td>Placed</td>\n      <td>204000.000000</td>\n    </tr>\n    <tr>\n      <th>215</th>\n      <td>M</td>\n      <td>62.00</td>\n      <td>Central</td>\n      <td>58.00</td>\n      <td>Others</td>\n      <td>Science</td>\n      <td>53.00</td>\n      <td>Comm&amp;Mgmt</td>\n      <td>No</td>\n      <td>89.0</td>\n      <td>Mkt&amp;HR</td>\n      <td>60.22</td>\n      <td>Not Placed</td>\n      <td>288655.405405</td>\n    </tr>\n  </tbody>\n</table>\n<p>215 rows × 14 columns</p>\n</div>"
     },
     "execution_count": 28,
     "metadata": {},
     "output_type": "execute_result"
    }
   ],
   "source": [
    "df.fillna(df.mean(numeric_only= True))"
   ],
   "metadata": {
    "collapsed": false,
    "pycharm": {
     "name": "#%%\n"
    }
   }
  },
  {
   "cell_type": "code",
   "execution_count": null,
   "outputs": [],
   "source": [],
   "metadata": {
    "collapsed": false,
    "pycharm": {
     "name": "#%%\n"
    }
   }
  }
 ],
 "metadata": {
  "kernelspec": {
   "display_name": "Python 3",
   "language": "python",
   "name": "python3"
  },
  "language_info": {
   "codemirror_mode": {
    "name": "ipython",
    "version": 2
   },
   "file_extension": ".py",
   "mimetype": "text/x-python",
   "name": "python",
   "nbconvert_exporter": "python",
   "pygments_lexer": "ipython2",
   "version": "2.7.6"
  }
 },
 "nbformat": 4,
 "nbformat_minor": 0
}
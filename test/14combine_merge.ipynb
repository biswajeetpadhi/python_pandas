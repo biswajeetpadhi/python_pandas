{
 "cells": [
  {
   "cell_type": "code",
   "execution_count": 69,
   "metadata": {
    "collapsed": true,
    "pycharm": {
     "name": "#%%\n"
    }
   },
   "outputs": [],
   "source": [
    "import pandas as pd\n",
    "import numpy as np"
   ]
  },
  {
   "cell_type": "code",
   "execution_count": 70,
   "outputs": [],
   "source": [
    "df1 = pd.DataFrame({\"letter\":[\"a\", \"b\", \"c\", \"d\", \"e\"], \"num\":np.arange(5)})"
   ],
   "metadata": {
    "collapsed": false,
    "pycharm": {
     "name": "#%%\n"
    }
   }
  },
  {
   "cell_type": "code",
   "execution_count": 71,
   "outputs": [
    {
     "data": {
      "text/plain": "  letter  num\n0      a    0\n1      b    1\n2      c    2\n3      d    3\n4      e    4",
      "text/html": "<div>\n<style scoped>\n    .dataframe tbody tr th:only-of-type {\n        vertical-align: middle;\n    }\n\n    .dataframe tbody tr th {\n        vertical-align: top;\n    }\n\n    .dataframe thead th {\n        text-align: right;\n    }\n</style>\n<table border=\"1\" class=\"dataframe\">\n  <thead>\n    <tr style=\"text-align: right;\">\n      <th></th>\n      <th>letter</th>\n      <th>num</th>\n    </tr>\n  </thead>\n  <tbody>\n    <tr>\n      <th>0</th>\n      <td>a</td>\n      <td>0</td>\n    </tr>\n    <tr>\n      <th>1</th>\n      <td>b</td>\n      <td>1</td>\n    </tr>\n    <tr>\n      <th>2</th>\n      <td>c</td>\n      <td>2</td>\n    </tr>\n    <tr>\n      <th>3</th>\n      <td>d</td>\n      <td>3</td>\n    </tr>\n    <tr>\n      <th>4</th>\n      <td>e</td>\n      <td>4</td>\n    </tr>\n  </tbody>\n</table>\n</div>"
     },
     "execution_count": 71,
     "metadata": {},
     "output_type": "execute_result"
    }
   ],
   "source": [
    "df1"
   ],
   "metadata": {
    "collapsed": false,
    "pycharm": {
     "name": "#%%\n"
    }
   }
  },
  {
   "cell_type": "code",
   "execution_count": 72,
   "outputs": [],
   "source": [
    "df2 = pd.DataFrame({\"letter\":[\"b\",\"d\", \"e\",\"f\"], \"num1\":np.arange(4)})"
   ],
   "metadata": {
    "collapsed": false,
    "pycharm": {
     "name": "#%%\n"
    }
   }
  },
  {
   "cell_type": "code",
   "execution_count": 73,
   "outputs": [
    {
     "data": {
      "text/plain": "  letter  num1\n0      b     0\n1      d     1\n2      e     2\n3      f     3",
      "text/html": "<div>\n<style scoped>\n    .dataframe tbody tr th:only-of-type {\n        vertical-align: middle;\n    }\n\n    .dataframe tbody tr th {\n        vertical-align: top;\n    }\n\n    .dataframe thead th {\n        text-align: right;\n    }\n</style>\n<table border=\"1\" class=\"dataframe\">\n  <thead>\n    <tr style=\"text-align: right;\">\n      <th></th>\n      <th>letter</th>\n      <th>num1</th>\n    </tr>\n  </thead>\n  <tbody>\n    <tr>\n      <th>0</th>\n      <td>b</td>\n      <td>0</td>\n    </tr>\n    <tr>\n      <th>1</th>\n      <td>d</td>\n      <td>1</td>\n    </tr>\n    <tr>\n      <th>2</th>\n      <td>e</td>\n      <td>2</td>\n    </tr>\n    <tr>\n      <th>3</th>\n      <td>f</td>\n      <td>3</td>\n    </tr>\n  </tbody>\n</table>\n</div>"
     },
     "execution_count": 73,
     "metadata": {},
     "output_type": "execute_result"
    }
   ],
   "source": [
    "df2"
   ],
   "metadata": {
    "collapsed": false,
    "pycharm": {
     "name": "#%%\n"
    }
   }
  },
  {
   "cell_type": "code",
   "execution_count": 74,
   "outputs": [
    {
     "data": {
      "text/plain": "  letter  num  num1\n0      b    1     0\n1      d    3     1\n2      e    4     2",
      "text/html": "<div>\n<style scoped>\n    .dataframe tbody tr th:only-of-type {\n        vertical-align: middle;\n    }\n\n    .dataframe tbody tr th {\n        vertical-align: top;\n    }\n\n    .dataframe thead th {\n        text-align: right;\n    }\n</style>\n<table border=\"1\" class=\"dataframe\">\n  <thead>\n    <tr style=\"text-align: right;\">\n      <th></th>\n      <th>letter</th>\n      <th>num</th>\n      <th>num1</th>\n    </tr>\n  </thead>\n  <tbody>\n    <tr>\n      <th>0</th>\n      <td>b</td>\n      <td>1</td>\n      <td>0</td>\n    </tr>\n    <tr>\n      <th>1</th>\n      <td>d</td>\n      <td>3</td>\n      <td>1</td>\n    </tr>\n    <tr>\n      <th>2</th>\n      <td>e</td>\n      <td>4</td>\n      <td>2</td>\n    </tr>\n  </tbody>\n</table>\n</div>"
     },
     "execution_count": 74,
     "metadata": {},
     "output_type": "execute_result"
    }
   ],
   "source": [
    "pd.merge(df1, df2)"
   ],
   "metadata": {
    "collapsed": false,
    "pycharm": {
     "name": "#%%\n"
    }
   }
  },
  {
   "cell_type": "code",
   "execution_count": 75,
   "outputs": [
    {
     "data": {
      "text/plain": "  letter  num  num1\n0      b    1     0\n1      d    3     1\n2      e    4     2",
      "text/html": "<div>\n<style scoped>\n    .dataframe tbody tr th:only-of-type {\n        vertical-align: middle;\n    }\n\n    .dataframe tbody tr th {\n        vertical-align: top;\n    }\n\n    .dataframe thead th {\n        text-align: right;\n    }\n</style>\n<table border=\"1\" class=\"dataframe\">\n  <thead>\n    <tr style=\"text-align: right;\">\n      <th></th>\n      <th>letter</th>\n      <th>num</th>\n      <th>num1</th>\n    </tr>\n  </thead>\n  <tbody>\n    <tr>\n      <th>0</th>\n      <td>b</td>\n      <td>1</td>\n      <td>0</td>\n    </tr>\n    <tr>\n      <th>1</th>\n      <td>d</td>\n      <td>3</td>\n      <td>1</td>\n    </tr>\n    <tr>\n      <th>2</th>\n      <td>e</td>\n      <td>4</td>\n      <td>2</td>\n    </tr>\n  </tbody>\n</table>\n</div>"
     },
     "execution_count": 75,
     "metadata": {},
     "output_type": "execute_result"
    }
   ],
   "source": [
    "df1.merge(df2, left_on=\"letter\", right_on=\"letter\")"
   ],
   "metadata": {
    "collapsed": false,
    "pycharm": {
     "name": "#%%\n"
    }
   }
  },
  {
   "cell_type": "code",
   "execution_count": 76,
   "outputs": [
    {
     "data": {
      "text/plain": "  letter  num  num1\n0      a    0   NaN\n1      b    1   0.0\n2      c    2   NaN\n3      d    3   1.0\n4      e    4   2.0",
      "text/html": "<div>\n<style scoped>\n    .dataframe tbody tr th:only-of-type {\n        vertical-align: middle;\n    }\n\n    .dataframe tbody tr th {\n        vertical-align: top;\n    }\n\n    .dataframe thead th {\n        text-align: right;\n    }\n</style>\n<table border=\"1\" class=\"dataframe\">\n  <thead>\n    <tr style=\"text-align: right;\">\n      <th></th>\n      <th>letter</th>\n      <th>num</th>\n      <th>num1</th>\n    </tr>\n  </thead>\n  <tbody>\n    <tr>\n      <th>0</th>\n      <td>a</td>\n      <td>0</td>\n      <td>NaN</td>\n    </tr>\n    <tr>\n      <th>1</th>\n      <td>b</td>\n      <td>1</td>\n      <td>0.0</td>\n    </tr>\n    <tr>\n      <th>2</th>\n      <td>c</td>\n      <td>2</td>\n      <td>NaN</td>\n    </tr>\n    <tr>\n      <th>3</th>\n      <td>d</td>\n      <td>3</td>\n      <td>1.0</td>\n    </tr>\n    <tr>\n      <th>4</th>\n      <td>e</td>\n      <td>4</td>\n      <td>2.0</td>\n    </tr>\n  </tbody>\n</table>\n</div>"
     },
     "execution_count": 76,
     "metadata": {},
     "output_type": "execute_result"
    }
   ],
   "source": [
    "df1.merge(df2, how = \"left\", on = \"letter\")"
   ],
   "metadata": {
    "collapsed": false,
    "pycharm": {
     "name": "#%%\n"
    }
   }
  },
  {
   "cell_type": "code",
   "execution_count": 77,
   "outputs": [
    {
     "data": {
      "text/plain": "  letter  num  num1\n0      b  1.0     0\n1      d  3.0     1\n2      e  4.0     2\n3      f  NaN     3",
      "text/html": "<div>\n<style scoped>\n    .dataframe tbody tr th:only-of-type {\n        vertical-align: middle;\n    }\n\n    .dataframe tbody tr th {\n        vertical-align: top;\n    }\n\n    .dataframe thead th {\n        text-align: right;\n    }\n</style>\n<table border=\"1\" class=\"dataframe\">\n  <thead>\n    <tr style=\"text-align: right;\">\n      <th></th>\n      <th>letter</th>\n      <th>num</th>\n      <th>num1</th>\n    </tr>\n  </thead>\n  <tbody>\n    <tr>\n      <th>0</th>\n      <td>b</td>\n      <td>1.0</td>\n      <td>0</td>\n    </tr>\n    <tr>\n      <th>1</th>\n      <td>d</td>\n      <td>3.0</td>\n      <td>1</td>\n    </tr>\n    <tr>\n      <th>2</th>\n      <td>e</td>\n      <td>4.0</td>\n      <td>2</td>\n    </tr>\n    <tr>\n      <th>3</th>\n      <td>f</td>\n      <td>NaN</td>\n      <td>3</td>\n    </tr>\n  </tbody>\n</table>\n</div>"
     },
     "execution_count": 77,
     "metadata": {},
     "output_type": "execute_result"
    }
   ],
   "source": [
    "df1.merge(df2, how = \"right\", on = \"letter\")"
   ],
   "metadata": {
    "collapsed": false,
    "pycharm": {
     "name": "#%%\n"
    }
   }
  },
  {
   "cell_type": "code",
   "execution_count": 78,
   "outputs": [
    {
     "data": {
      "text/plain": "   letter_x  num letter_y  num1\n0         a    0        b     0\n1         a    0        d     1\n2         a    0        e     2\n3         a    0        f     3\n4         b    1        b     0\n5         b    1        d     1\n6         b    1        e     2\n7         b    1        f     3\n8         c    2        b     0\n9         c    2        d     1\n10        c    2        e     2\n11        c    2        f     3\n12        d    3        b     0\n13        d    3        d     1\n14        d    3        e     2\n15        d    3        f     3\n16        e    4        b     0\n17        e    4        d     1\n18        e    4        e     2\n19        e    4        f     3",
      "text/html": "<div>\n<style scoped>\n    .dataframe tbody tr th:only-of-type {\n        vertical-align: middle;\n    }\n\n    .dataframe tbody tr th {\n        vertical-align: top;\n    }\n\n    .dataframe thead th {\n        text-align: right;\n    }\n</style>\n<table border=\"1\" class=\"dataframe\">\n  <thead>\n    <tr style=\"text-align: right;\">\n      <th></th>\n      <th>letter_x</th>\n      <th>num</th>\n      <th>letter_y</th>\n      <th>num1</th>\n    </tr>\n  </thead>\n  <tbody>\n    <tr>\n      <th>0</th>\n      <td>a</td>\n      <td>0</td>\n      <td>b</td>\n      <td>0</td>\n    </tr>\n    <tr>\n      <th>1</th>\n      <td>a</td>\n      <td>0</td>\n      <td>d</td>\n      <td>1</td>\n    </tr>\n    <tr>\n      <th>2</th>\n      <td>a</td>\n      <td>0</td>\n      <td>e</td>\n      <td>2</td>\n    </tr>\n    <tr>\n      <th>3</th>\n      <td>a</td>\n      <td>0</td>\n      <td>f</td>\n      <td>3</td>\n    </tr>\n    <tr>\n      <th>4</th>\n      <td>b</td>\n      <td>1</td>\n      <td>b</td>\n      <td>0</td>\n    </tr>\n    <tr>\n      <th>5</th>\n      <td>b</td>\n      <td>1</td>\n      <td>d</td>\n      <td>1</td>\n    </tr>\n    <tr>\n      <th>6</th>\n      <td>b</td>\n      <td>1</td>\n      <td>e</td>\n      <td>2</td>\n    </tr>\n    <tr>\n      <th>7</th>\n      <td>b</td>\n      <td>1</td>\n      <td>f</td>\n      <td>3</td>\n    </tr>\n    <tr>\n      <th>8</th>\n      <td>c</td>\n      <td>2</td>\n      <td>b</td>\n      <td>0</td>\n    </tr>\n    <tr>\n      <th>9</th>\n      <td>c</td>\n      <td>2</td>\n      <td>d</td>\n      <td>1</td>\n    </tr>\n    <tr>\n      <th>10</th>\n      <td>c</td>\n      <td>2</td>\n      <td>e</td>\n      <td>2</td>\n    </tr>\n    <tr>\n      <th>11</th>\n      <td>c</td>\n      <td>2</td>\n      <td>f</td>\n      <td>3</td>\n    </tr>\n    <tr>\n      <th>12</th>\n      <td>d</td>\n      <td>3</td>\n      <td>b</td>\n      <td>0</td>\n    </tr>\n    <tr>\n      <th>13</th>\n      <td>d</td>\n      <td>3</td>\n      <td>d</td>\n      <td>1</td>\n    </tr>\n    <tr>\n      <th>14</th>\n      <td>d</td>\n      <td>3</td>\n      <td>e</td>\n      <td>2</td>\n    </tr>\n    <tr>\n      <th>15</th>\n      <td>d</td>\n      <td>3</td>\n      <td>f</td>\n      <td>3</td>\n    </tr>\n    <tr>\n      <th>16</th>\n      <td>e</td>\n      <td>4</td>\n      <td>b</td>\n      <td>0</td>\n    </tr>\n    <tr>\n      <th>17</th>\n      <td>e</td>\n      <td>4</td>\n      <td>d</td>\n      <td>1</td>\n    </tr>\n    <tr>\n      <th>18</th>\n      <td>e</td>\n      <td>4</td>\n      <td>e</td>\n      <td>2</td>\n    </tr>\n    <tr>\n      <th>19</th>\n      <td>e</td>\n      <td>4</td>\n      <td>f</td>\n      <td>3</td>\n    </tr>\n  </tbody>\n</table>\n</div>"
     },
     "execution_count": 78,
     "metadata": {},
     "output_type": "execute_result"
    }
   ],
   "source": [
    "df1.merge(df2, how = \"cross\")"
   ],
   "metadata": {
    "collapsed": false,
    "pycharm": {
     "name": "#%%\n"
    }
   }
  },
  {
   "cell_type": "code",
   "execution_count": 79,
   "outputs": [
    {
     "data": {
      "text/plain": "  letter  num\n0      a    0\n1      b    1\n2      c    2\n3      d    3\n4      e    4",
      "text/html": "<div>\n<style scoped>\n    .dataframe tbody tr th:only-of-type {\n        vertical-align: middle;\n    }\n\n    .dataframe tbody tr th {\n        vertical-align: top;\n    }\n\n    .dataframe thead th {\n        text-align: right;\n    }\n</style>\n<table border=\"1\" class=\"dataframe\">\n  <thead>\n    <tr style=\"text-align: right;\">\n      <th></th>\n      <th>letter</th>\n      <th>num</th>\n    </tr>\n  </thead>\n  <tbody>\n    <tr>\n      <th>0</th>\n      <td>a</td>\n      <td>0</td>\n    </tr>\n    <tr>\n      <th>1</th>\n      <td>b</td>\n      <td>1</td>\n    </tr>\n    <tr>\n      <th>2</th>\n      <td>c</td>\n      <td>2</td>\n    </tr>\n    <tr>\n      <th>3</th>\n      <td>d</td>\n      <td>3</td>\n    </tr>\n    <tr>\n      <th>4</th>\n      <td>e</td>\n      <td>4</td>\n    </tr>\n  </tbody>\n</table>\n</div>"
     },
     "execution_count": 79,
     "metadata": {},
     "output_type": "execute_result"
    }
   ],
   "source": [
    "df1"
   ],
   "metadata": {
    "collapsed": false,
    "pycharm": {
     "name": "#%%\n"
    }
   }
  },
  {
   "cell_type": "code",
   "execution_count": 80,
   "outputs": [
    {
     "data": {
      "text/plain": "  letter  num1\n0      b     0\n1      d     1\n2      e     2\n3      f     3",
      "text/html": "<div>\n<style scoped>\n    .dataframe tbody tr th:only-of-type {\n        vertical-align: middle;\n    }\n\n    .dataframe tbody tr th {\n        vertical-align: top;\n    }\n\n    .dataframe thead th {\n        text-align: right;\n    }\n</style>\n<table border=\"1\" class=\"dataframe\">\n  <thead>\n    <tr style=\"text-align: right;\">\n      <th></th>\n      <th>letter</th>\n      <th>num1</th>\n    </tr>\n  </thead>\n  <tbody>\n    <tr>\n      <th>0</th>\n      <td>b</td>\n      <td>0</td>\n    </tr>\n    <tr>\n      <th>1</th>\n      <td>d</td>\n      <td>1</td>\n    </tr>\n    <tr>\n      <th>2</th>\n      <td>e</td>\n      <td>2</td>\n    </tr>\n    <tr>\n      <th>3</th>\n      <td>f</td>\n      <td>3</td>\n    </tr>\n  </tbody>\n</table>\n</div>"
     },
     "execution_count": 80,
     "metadata": {},
     "output_type": "execute_result"
    }
   ],
   "source": [
    "df2"
   ],
   "metadata": {
    "collapsed": false,
    "pycharm": {
     "name": "#%%\n"
    }
   }
  },
  {
   "cell_type": "code",
   "execution_count": 81,
   "outputs": [
    {
     "ename": "ValueError",
     "evalue": "columns overlap but no suffix specified: Index(['letter'], dtype='object')",
     "output_type": "error",
     "traceback": [
      "\u001B[1;31m---------------------------------------------------------------------------\u001B[0m",
      "\u001B[1;31mValueError\u001B[0m                                Traceback (most recent call last)",
      "Cell \u001B[1;32mIn [81], line 1\u001B[0m\n\u001B[1;32m----> 1\u001B[0m \u001B[43mdf1\u001B[49m\u001B[38;5;241;43m.\u001B[39;49m\u001B[43mjoin\u001B[49m\u001B[43m(\u001B[49m\u001B[43mdf2\u001B[49m\u001B[43m)\u001B[49m\n",
      "File \u001B[1;32mC:\\Program Files\\Python311\\Lib\\site-packages\\pandas\\core\\frame.py:9976\u001B[0m, in \u001B[0;36mDataFrame.join\u001B[1;34m(self, other, on, how, lsuffix, rsuffix, sort, validate)\u001B[0m\n\u001B[0;32m   9813\u001B[0m \u001B[38;5;28;01mdef\u001B[39;00m \u001B[38;5;21mjoin\u001B[39m(\n\u001B[0;32m   9814\u001B[0m     \u001B[38;5;28mself\u001B[39m,\n\u001B[0;32m   9815\u001B[0m     other: DataFrame \u001B[38;5;241m|\u001B[39m Series \u001B[38;5;241m|\u001B[39m \u001B[38;5;28mlist\u001B[39m[DataFrame \u001B[38;5;241m|\u001B[39m Series],\n\u001B[1;32m   (...)\u001B[0m\n\u001B[0;32m   9821\u001B[0m     validate: \u001B[38;5;28mstr\u001B[39m \u001B[38;5;241m|\u001B[39m \u001B[38;5;28;01mNone\u001B[39;00m \u001B[38;5;241m=\u001B[39m \u001B[38;5;28;01mNone\u001B[39;00m,\n\u001B[0;32m   9822\u001B[0m ) \u001B[38;5;241m-\u001B[39m\u001B[38;5;241m>\u001B[39m DataFrame:\n\u001B[0;32m   9823\u001B[0m     \u001B[38;5;124;03m\"\"\"\u001B[39;00m\n\u001B[0;32m   9824\u001B[0m \u001B[38;5;124;03m    Join columns of another DataFrame.\u001B[39;00m\n\u001B[0;32m   9825\u001B[0m \n\u001B[1;32m   (...)\u001B[0m\n\u001B[0;32m   9974\u001B[0m \u001B[38;5;124;03m    5  K1  A5   B1\u001B[39;00m\n\u001B[0;32m   9975\u001B[0m \u001B[38;5;124;03m    \"\"\"\u001B[39;00m\n\u001B[1;32m-> 9976\u001B[0m     \u001B[38;5;28;01mreturn\u001B[39;00m \u001B[38;5;28;43mself\u001B[39;49m\u001B[38;5;241;43m.\u001B[39;49m\u001B[43m_join_compat\u001B[49m\u001B[43m(\u001B[49m\n\u001B[0;32m   9977\u001B[0m \u001B[43m        \u001B[49m\u001B[43mother\u001B[49m\u001B[43m,\u001B[49m\n\u001B[0;32m   9978\u001B[0m \u001B[43m        \u001B[49m\u001B[43mon\u001B[49m\u001B[38;5;241;43m=\u001B[39;49m\u001B[43mon\u001B[49m\u001B[43m,\u001B[49m\n\u001B[0;32m   9979\u001B[0m \u001B[43m        \u001B[49m\u001B[43mhow\u001B[49m\u001B[38;5;241;43m=\u001B[39;49m\u001B[43mhow\u001B[49m\u001B[43m,\u001B[49m\n\u001B[0;32m   9980\u001B[0m \u001B[43m        \u001B[49m\u001B[43mlsuffix\u001B[49m\u001B[38;5;241;43m=\u001B[39;49m\u001B[43mlsuffix\u001B[49m\u001B[43m,\u001B[49m\n\u001B[0;32m   9981\u001B[0m \u001B[43m        \u001B[49m\u001B[43mrsuffix\u001B[49m\u001B[38;5;241;43m=\u001B[39;49m\u001B[43mrsuffix\u001B[49m\u001B[43m,\u001B[49m\n\u001B[0;32m   9982\u001B[0m \u001B[43m        \u001B[49m\u001B[43msort\u001B[49m\u001B[38;5;241;43m=\u001B[39;49m\u001B[43msort\u001B[49m\u001B[43m,\u001B[49m\n\u001B[0;32m   9983\u001B[0m \u001B[43m        \u001B[49m\u001B[43mvalidate\u001B[49m\u001B[38;5;241;43m=\u001B[39;49m\u001B[43mvalidate\u001B[49m\u001B[43m,\u001B[49m\n\u001B[0;32m   9984\u001B[0m \u001B[43m    \u001B[49m\u001B[43m)\u001B[49m\n",
      "File \u001B[1;32mC:\\Program Files\\Python311\\Lib\\site-packages\\pandas\\core\\frame.py:10015\u001B[0m, in \u001B[0;36mDataFrame._join_compat\u001B[1;34m(self, other, on, how, lsuffix, rsuffix, sort, validate)\u001B[0m\n\u001B[0;32m  10005\u001B[0m     \u001B[38;5;28;01mif\u001B[39;00m how \u001B[38;5;241m==\u001B[39m \u001B[38;5;124m\"\u001B[39m\u001B[38;5;124mcross\u001B[39m\u001B[38;5;124m\"\u001B[39m:\n\u001B[0;32m  10006\u001B[0m         \u001B[38;5;28;01mreturn\u001B[39;00m merge(\n\u001B[0;32m  10007\u001B[0m             \u001B[38;5;28mself\u001B[39m,\n\u001B[0;32m  10008\u001B[0m             other,\n\u001B[1;32m   (...)\u001B[0m\n\u001B[0;32m  10013\u001B[0m             validate\u001B[38;5;241m=\u001B[39mvalidate,\n\u001B[0;32m  10014\u001B[0m         )\n\u001B[1;32m> 10015\u001B[0m     \u001B[38;5;28;01mreturn\u001B[39;00m \u001B[43mmerge\u001B[49m\u001B[43m(\u001B[49m\n\u001B[0;32m  10016\u001B[0m \u001B[43m        \u001B[49m\u001B[38;5;28;43mself\u001B[39;49m\u001B[43m,\u001B[49m\n\u001B[0;32m  10017\u001B[0m \u001B[43m        \u001B[49m\u001B[43mother\u001B[49m\u001B[43m,\u001B[49m\n\u001B[0;32m  10018\u001B[0m \u001B[43m        \u001B[49m\u001B[43mleft_on\u001B[49m\u001B[38;5;241;43m=\u001B[39;49m\u001B[43mon\u001B[49m\u001B[43m,\u001B[49m\n\u001B[0;32m  10019\u001B[0m \u001B[43m        \u001B[49m\u001B[43mhow\u001B[49m\u001B[38;5;241;43m=\u001B[39;49m\u001B[43mhow\u001B[49m\u001B[43m,\u001B[49m\n\u001B[0;32m  10020\u001B[0m \u001B[43m        \u001B[49m\u001B[43mleft_index\u001B[49m\u001B[38;5;241;43m=\u001B[39;49m\u001B[43mon\u001B[49m\u001B[43m \u001B[49m\u001B[38;5;129;43;01mis\u001B[39;49;00m\u001B[43m \u001B[49m\u001B[38;5;28;43;01mNone\u001B[39;49;00m\u001B[43m,\u001B[49m\n\u001B[0;32m  10021\u001B[0m \u001B[43m        \u001B[49m\u001B[43mright_index\u001B[49m\u001B[38;5;241;43m=\u001B[39;49m\u001B[38;5;28;43;01mTrue\u001B[39;49;00m\u001B[43m,\u001B[49m\n\u001B[0;32m  10022\u001B[0m \u001B[43m        \u001B[49m\u001B[43msuffixes\u001B[49m\u001B[38;5;241;43m=\u001B[39;49m\u001B[43m(\u001B[49m\u001B[43mlsuffix\u001B[49m\u001B[43m,\u001B[49m\u001B[43m \u001B[49m\u001B[43mrsuffix\u001B[49m\u001B[43m)\u001B[49m\u001B[43m,\u001B[49m\n\u001B[0;32m  10023\u001B[0m \u001B[43m        \u001B[49m\u001B[43msort\u001B[49m\u001B[38;5;241;43m=\u001B[39;49m\u001B[43msort\u001B[49m\u001B[43m,\u001B[49m\n\u001B[0;32m  10024\u001B[0m \u001B[43m        \u001B[49m\u001B[43mvalidate\u001B[49m\u001B[38;5;241;43m=\u001B[39;49m\u001B[43mvalidate\u001B[49m\u001B[43m,\u001B[49m\n\u001B[0;32m  10025\u001B[0m \u001B[43m    \u001B[49m\u001B[43m)\u001B[49m\n\u001B[0;32m  10026\u001B[0m \u001B[38;5;28;01melse\u001B[39;00m:\n\u001B[0;32m  10027\u001B[0m     \u001B[38;5;28;01mif\u001B[39;00m on \u001B[38;5;129;01mis\u001B[39;00m \u001B[38;5;129;01mnot\u001B[39;00m \u001B[38;5;28;01mNone\u001B[39;00m:\n",
      "File \u001B[1;32mC:\\Program Files\\Python311\\Lib\\site-packages\\pandas\\core\\reshape\\merge.py:124\u001B[0m, in \u001B[0;36mmerge\u001B[1;34m(left, right, how, on, left_on, right_on, left_index, right_index, sort, suffixes, copy, indicator, validate)\u001B[0m\n\u001B[0;32m     93\u001B[0m \u001B[38;5;129m@Substitution\u001B[39m(\u001B[38;5;124m\"\u001B[39m\u001B[38;5;130;01m\\n\u001B[39;00m\u001B[38;5;124mleft : DataFrame or named Series\u001B[39m\u001B[38;5;124m\"\u001B[39m)\n\u001B[0;32m     94\u001B[0m \u001B[38;5;129m@Appender\u001B[39m(_merge_doc, indents\u001B[38;5;241m=\u001B[39m\u001B[38;5;241m0\u001B[39m)\n\u001B[0;32m     95\u001B[0m \u001B[38;5;28;01mdef\u001B[39;00m \u001B[38;5;21mmerge\u001B[39m(\n\u001B[1;32m   (...)\u001B[0m\n\u001B[0;32m    108\u001B[0m     validate: \u001B[38;5;28mstr\u001B[39m \u001B[38;5;241m|\u001B[39m \u001B[38;5;28;01mNone\u001B[39;00m \u001B[38;5;241m=\u001B[39m \u001B[38;5;28;01mNone\u001B[39;00m,\n\u001B[0;32m    109\u001B[0m ) \u001B[38;5;241m-\u001B[39m\u001B[38;5;241m>\u001B[39m DataFrame:\n\u001B[0;32m    110\u001B[0m     op \u001B[38;5;241m=\u001B[39m _MergeOperation(\n\u001B[0;32m    111\u001B[0m         left,\n\u001B[0;32m    112\u001B[0m         right,\n\u001B[1;32m   (...)\u001B[0m\n\u001B[0;32m    122\u001B[0m         validate\u001B[38;5;241m=\u001B[39mvalidate,\n\u001B[0;32m    123\u001B[0m     )\n\u001B[1;32m--> 124\u001B[0m     \u001B[38;5;28;01mreturn\u001B[39;00m \u001B[43mop\u001B[49m\u001B[38;5;241;43m.\u001B[39;49m\u001B[43mget_result\u001B[49m\u001B[43m(\u001B[49m\u001B[43mcopy\u001B[49m\u001B[38;5;241;43m=\u001B[39;49m\u001B[43mcopy\u001B[49m\u001B[43m)\u001B[49m\n",
      "File \u001B[1;32mC:\\Program Files\\Python311\\Lib\\site-packages\\pandas\\core\\reshape\\merge.py:775\u001B[0m, in \u001B[0;36m_MergeOperation.get_result\u001B[1;34m(self, copy)\u001B[0m\n\u001B[0;32m    771\u001B[0m     \u001B[38;5;28mself\u001B[39m\u001B[38;5;241m.\u001B[39mleft, \u001B[38;5;28mself\u001B[39m\u001B[38;5;241m.\u001B[39mright \u001B[38;5;241m=\u001B[39m \u001B[38;5;28mself\u001B[39m\u001B[38;5;241m.\u001B[39m_indicator_pre_merge(\u001B[38;5;28mself\u001B[39m\u001B[38;5;241m.\u001B[39mleft, \u001B[38;5;28mself\u001B[39m\u001B[38;5;241m.\u001B[39mright)\n\u001B[0;32m    773\u001B[0m join_index, left_indexer, right_indexer \u001B[38;5;241m=\u001B[39m \u001B[38;5;28mself\u001B[39m\u001B[38;5;241m.\u001B[39m_get_join_info()\n\u001B[1;32m--> 775\u001B[0m result \u001B[38;5;241m=\u001B[39m \u001B[38;5;28;43mself\u001B[39;49m\u001B[38;5;241;43m.\u001B[39;49m\u001B[43m_reindex_and_concat\u001B[49m\u001B[43m(\u001B[49m\n\u001B[0;32m    776\u001B[0m \u001B[43m    \u001B[49m\u001B[43mjoin_index\u001B[49m\u001B[43m,\u001B[49m\u001B[43m \u001B[49m\u001B[43mleft_indexer\u001B[49m\u001B[43m,\u001B[49m\u001B[43m \u001B[49m\u001B[43mright_indexer\u001B[49m\u001B[43m,\u001B[49m\u001B[43m \u001B[49m\u001B[43mcopy\u001B[49m\u001B[38;5;241;43m=\u001B[39;49m\u001B[43mcopy\u001B[49m\n\u001B[0;32m    777\u001B[0m \u001B[43m\u001B[49m\u001B[43m)\u001B[49m\n\u001B[0;32m    778\u001B[0m result \u001B[38;5;241m=\u001B[39m result\u001B[38;5;241m.\u001B[39m__finalize__(\u001B[38;5;28mself\u001B[39m, method\u001B[38;5;241m=\u001B[39m\u001B[38;5;28mself\u001B[39m\u001B[38;5;241m.\u001B[39m_merge_type)\n\u001B[0;32m    780\u001B[0m \u001B[38;5;28;01mif\u001B[39;00m \u001B[38;5;28mself\u001B[39m\u001B[38;5;241m.\u001B[39mindicator:\n",
      "File \u001B[1;32mC:\\Program Files\\Python311\\Lib\\site-packages\\pandas\\core\\reshape\\merge.py:729\u001B[0m, in \u001B[0;36m_MergeOperation._reindex_and_concat\u001B[1;34m(self, join_index, left_indexer, right_indexer, copy)\u001B[0m\n\u001B[0;32m    726\u001B[0m left \u001B[38;5;241m=\u001B[39m \u001B[38;5;28mself\u001B[39m\u001B[38;5;241m.\u001B[39mleft[:]\n\u001B[0;32m    727\u001B[0m right \u001B[38;5;241m=\u001B[39m \u001B[38;5;28mself\u001B[39m\u001B[38;5;241m.\u001B[39mright[:]\n\u001B[1;32m--> 729\u001B[0m llabels, rlabels \u001B[38;5;241m=\u001B[39m \u001B[43m_items_overlap_with_suffix\u001B[49m\u001B[43m(\u001B[49m\n\u001B[0;32m    730\u001B[0m \u001B[43m    \u001B[49m\u001B[38;5;28;43mself\u001B[39;49m\u001B[38;5;241;43m.\u001B[39;49m\u001B[43mleft\u001B[49m\u001B[38;5;241;43m.\u001B[39;49m\u001B[43m_info_axis\u001B[49m\u001B[43m,\u001B[49m\u001B[43m \u001B[49m\u001B[38;5;28;43mself\u001B[39;49m\u001B[38;5;241;43m.\u001B[39;49m\u001B[43mright\u001B[49m\u001B[38;5;241;43m.\u001B[39;49m\u001B[43m_info_axis\u001B[49m\u001B[43m,\u001B[49m\u001B[43m \u001B[49m\u001B[38;5;28;43mself\u001B[39;49m\u001B[38;5;241;43m.\u001B[39;49m\u001B[43msuffixes\u001B[49m\n\u001B[0;32m    731\u001B[0m \u001B[43m\u001B[49m\u001B[43m)\u001B[49m\n\u001B[0;32m    733\u001B[0m \u001B[38;5;28;01mif\u001B[39;00m left_indexer \u001B[38;5;129;01mis\u001B[39;00m \u001B[38;5;129;01mnot\u001B[39;00m \u001B[38;5;28;01mNone\u001B[39;00m:\n\u001B[0;32m    734\u001B[0m     \u001B[38;5;66;03m# Pinning the index here (and in the right code just below) is not\u001B[39;00m\n\u001B[0;32m    735\u001B[0m     \u001B[38;5;66;03m#  necessary, but makes the `.take` more performant if we have e.g.\u001B[39;00m\n\u001B[0;32m    736\u001B[0m     \u001B[38;5;66;03m#  a MultiIndex for left.index.\u001B[39;00m\n\u001B[0;32m    737\u001B[0m     lmgr \u001B[38;5;241m=\u001B[39m left\u001B[38;5;241m.\u001B[39m_mgr\u001B[38;5;241m.\u001B[39mreindex_indexer(\n\u001B[0;32m    738\u001B[0m         join_index,\n\u001B[0;32m    739\u001B[0m         left_indexer,\n\u001B[1;32m   (...)\u001B[0m\n\u001B[0;32m    744\u001B[0m         use_na_proxy\u001B[38;5;241m=\u001B[39m\u001B[38;5;28;01mTrue\u001B[39;00m,\n\u001B[0;32m    745\u001B[0m     )\n",
      "File \u001B[1;32mC:\\Program Files\\Python311\\Lib\\site-packages\\pandas\\core\\reshape\\merge.py:2458\u001B[0m, in \u001B[0;36m_items_overlap_with_suffix\u001B[1;34m(left, right, suffixes)\u001B[0m\n\u001B[0;32m   2455\u001B[0m lsuffix, rsuffix \u001B[38;5;241m=\u001B[39m suffixes\n\u001B[0;32m   2457\u001B[0m \u001B[38;5;28;01mif\u001B[39;00m \u001B[38;5;129;01mnot\u001B[39;00m lsuffix \u001B[38;5;129;01mand\u001B[39;00m \u001B[38;5;129;01mnot\u001B[39;00m rsuffix:\n\u001B[1;32m-> 2458\u001B[0m     \u001B[38;5;28;01mraise\u001B[39;00m \u001B[38;5;167;01mValueError\u001B[39;00m(\u001B[38;5;124mf\u001B[39m\u001B[38;5;124m\"\u001B[39m\u001B[38;5;124mcolumns overlap but no suffix specified: \u001B[39m\u001B[38;5;132;01m{\u001B[39;00mto_rename\u001B[38;5;132;01m}\u001B[39;00m\u001B[38;5;124m\"\u001B[39m)\n\u001B[0;32m   2460\u001B[0m \u001B[38;5;28;01mdef\u001B[39;00m \u001B[38;5;21mrenamer\u001B[39m(x, suffix):\n\u001B[0;32m   2461\u001B[0m     \u001B[38;5;124;03m\"\"\"\u001B[39;00m\n\u001B[0;32m   2462\u001B[0m \u001B[38;5;124;03m    Rename the left and right indices.\u001B[39;00m\n\u001B[0;32m   2463\u001B[0m \n\u001B[1;32m   (...)\u001B[0m\n\u001B[0;32m   2474\u001B[0m \u001B[38;5;124;03m    x : renamed column name\u001B[39;00m\n\u001B[0;32m   2475\u001B[0m \u001B[38;5;124;03m    \"\"\"\u001B[39;00m\n",
      "\u001B[1;31mValueError\u001B[0m: columns overlap but no suffix specified: Index(['letter'], dtype='object')"
     ]
    }
   ],
   "source": [
    "df1.join(df2)"
   ],
   "metadata": {
    "collapsed": false,
    "pycharm": {
     "name": "#%%\n"
    }
   }
  },
  {
   "cell_type": "code",
   "execution_count": 82,
   "outputs": [
    {
     "data": {
      "text/plain": "  letter_df1  num letter_df2  num1\n0          a    0          b   0.0\n1          b    1          d   1.0\n2          c    2          e   2.0\n3          d    3          f   3.0\n4          e    4        NaN   NaN",
      "text/html": "<div>\n<style scoped>\n    .dataframe tbody tr th:only-of-type {\n        vertical-align: middle;\n    }\n\n    .dataframe tbody tr th {\n        vertical-align: top;\n    }\n\n    .dataframe thead th {\n        text-align: right;\n    }\n</style>\n<table border=\"1\" class=\"dataframe\">\n  <thead>\n    <tr style=\"text-align: right;\">\n      <th></th>\n      <th>letter_df1</th>\n      <th>num</th>\n      <th>letter_df2</th>\n      <th>num1</th>\n    </tr>\n  </thead>\n  <tbody>\n    <tr>\n      <th>0</th>\n      <td>a</td>\n      <td>0</td>\n      <td>b</td>\n      <td>0.0</td>\n    </tr>\n    <tr>\n      <th>1</th>\n      <td>b</td>\n      <td>1</td>\n      <td>d</td>\n      <td>1.0</td>\n    </tr>\n    <tr>\n      <th>2</th>\n      <td>c</td>\n      <td>2</td>\n      <td>e</td>\n      <td>2.0</td>\n    </tr>\n    <tr>\n      <th>3</th>\n      <td>d</td>\n      <td>3</td>\n      <td>f</td>\n      <td>3.0</td>\n    </tr>\n    <tr>\n      <th>4</th>\n      <td>e</td>\n      <td>4</td>\n      <td>NaN</td>\n      <td>NaN</td>\n    </tr>\n  </tbody>\n</table>\n</div>"
     },
     "execution_count": 82,
     "metadata": {},
     "output_type": "execute_result"
    }
   ],
   "source": [
    "df1.join(df2, lsuffix=\"_df1\", rsuffix = \"_df2\")"
   ],
   "metadata": {
    "collapsed": false,
    "pycharm": {
     "name": "#%%\n"
    }
   }
  },
  {
   "cell_type": "code",
   "execution_count": 83,
   "outputs": [
    {
     "data": {
      "text/plain": "        num  num1\nletter           \na         0   NaN\nb         1   0.0\nc         2   NaN\nd         3   1.0\ne         4   2.0",
      "text/html": "<div>\n<style scoped>\n    .dataframe tbody tr th:only-of-type {\n        vertical-align: middle;\n    }\n\n    .dataframe tbody tr th {\n        vertical-align: top;\n    }\n\n    .dataframe thead th {\n        text-align: right;\n    }\n</style>\n<table border=\"1\" class=\"dataframe\">\n  <thead>\n    <tr style=\"text-align: right;\">\n      <th></th>\n      <th>num</th>\n      <th>num1</th>\n    </tr>\n    <tr>\n      <th>letter</th>\n      <th></th>\n      <th></th>\n    </tr>\n  </thead>\n  <tbody>\n    <tr>\n      <th>a</th>\n      <td>0</td>\n      <td>NaN</td>\n    </tr>\n    <tr>\n      <th>b</th>\n      <td>1</td>\n      <td>0.0</td>\n    </tr>\n    <tr>\n      <th>c</th>\n      <td>2</td>\n      <td>NaN</td>\n    </tr>\n    <tr>\n      <th>d</th>\n      <td>3</td>\n      <td>1.0</td>\n    </tr>\n    <tr>\n      <th>e</th>\n      <td>4</td>\n      <td>2.0</td>\n    </tr>\n  </tbody>\n</table>\n</div>"
     },
     "execution_count": 83,
     "metadata": {},
     "output_type": "execute_result"
    }
   ],
   "source": [
    "df1.set_index(\"letter\").join(df2.set_index(\"letter\"))"
   ],
   "metadata": {
    "collapsed": false,
    "pycharm": {
     "name": "#%%\n"
    }
   }
  },
  {
   "cell_type": "code",
   "execution_count": 84,
   "outputs": [],
   "source": [
    "tech1 = {\"course\":[\"python\", \"java\", \"spark\", \"pandas\", \"numpy\"], \"cost\": [4500, 2400, 5300, 2300, 5100], \"durarion\":[\"20days\" ,\"40days\", \"30days\", \"10days\", \"50days\"]}"
   ],
   "metadata": {
    "collapsed": false,
    "pycharm": {
     "name": "#%%\n"
    }
   }
  },
  {
   "cell_type": "code",
   "execution_count": 85,
   "outputs": [],
   "source": [
    "df1 = pd.DataFrame(tech1, index = [\"r1\", \"r2\", \"r3\", \"r4\", \"r5\"])"
   ],
   "metadata": {
    "collapsed": false,
    "pycharm": {
     "name": "#%%\n"
    }
   }
  },
  {
   "cell_type": "code",
   "execution_count": 86,
   "outputs": [
    {
     "data": {
      "text/plain": "    course  cost durarion\nr1  python  4500   20days\nr2    java  2400   40days\nr3   spark  5300   30days\nr4  pandas  2300   10days\nr5   numpy  5100   50days",
      "text/html": "<div>\n<style scoped>\n    .dataframe tbody tr th:only-of-type {\n        vertical-align: middle;\n    }\n\n    .dataframe tbody tr th {\n        vertical-align: top;\n    }\n\n    .dataframe thead th {\n        text-align: right;\n    }\n</style>\n<table border=\"1\" class=\"dataframe\">\n  <thead>\n    <tr style=\"text-align: right;\">\n      <th></th>\n      <th>course</th>\n      <th>cost</th>\n      <th>durarion</th>\n    </tr>\n  </thead>\n  <tbody>\n    <tr>\n      <th>r1</th>\n      <td>python</td>\n      <td>4500</td>\n      <td>20days</td>\n    </tr>\n    <tr>\n      <th>r2</th>\n      <td>java</td>\n      <td>2400</td>\n      <td>40days</td>\n    </tr>\n    <tr>\n      <th>r3</th>\n      <td>spark</td>\n      <td>5300</td>\n      <td>30days</td>\n    </tr>\n    <tr>\n      <th>r4</th>\n      <td>pandas</td>\n      <td>2300</td>\n      <td>10days</td>\n    </tr>\n    <tr>\n      <th>r5</th>\n      <td>numpy</td>\n      <td>5100</td>\n      <td>50days</td>\n    </tr>\n  </tbody>\n</table>\n</div>"
     },
     "execution_count": 86,
     "metadata": {},
     "output_type": "execute_result"
    }
   ],
   "source": [
    "df1"
   ],
   "metadata": {
    "collapsed": false,
    "pycharm": {
     "name": "#%%\n"
    }
   }
  },
  {
   "cell_type": "code",
   "execution_count": 87,
   "outputs": [],
   "source": [
    "dis = {\"course\":[\"python\", \"java\", \"javascript\"], \"discount\":[1233, 1300, 1100]}"
   ],
   "metadata": {
    "collapsed": false,
    "pycharm": {
     "name": "#%%\n"
    }
   }
  },
  {
   "cell_type": "code",
   "execution_count": 88,
   "outputs": [],
   "source": [
    "df2 = pd.DataFrame(dis, index = [\"r1\", \"r2\", \"r6\"])"
   ],
   "metadata": {
    "collapsed": false,
    "pycharm": {
     "name": "#%%\n"
    }
   }
  },
  {
   "cell_type": "code",
   "execution_count": 89,
   "outputs": [
    {
     "data": {
      "text/plain": "        course  discount\nr1      python      1233\nr2        java      1300\nr6  javascript      1100",
      "text/html": "<div>\n<style scoped>\n    .dataframe tbody tr th:only-of-type {\n        vertical-align: middle;\n    }\n\n    .dataframe tbody tr th {\n        vertical-align: top;\n    }\n\n    .dataframe thead th {\n        text-align: right;\n    }\n</style>\n<table border=\"1\" class=\"dataframe\">\n  <thead>\n    <tr style=\"text-align: right;\">\n      <th></th>\n      <th>course</th>\n      <th>discount</th>\n    </tr>\n  </thead>\n  <tbody>\n    <tr>\n      <th>r1</th>\n      <td>python</td>\n      <td>1233</td>\n    </tr>\n    <tr>\n      <th>r2</th>\n      <td>java</td>\n      <td>1300</td>\n    </tr>\n    <tr>\n      <th>r6</th>\n      <td>javascript</td>\n      <td>1100</td>\n    </tr>\n  </tbody>\n</table>\n</div>"
     },
     "execution_count": 89,
     "metadata": {},
     "output_type": "execute_result"
    }
   ],
   "source": [
    "df2"
   ],
   "metadata": {
    "collapsed": false,
    "pycharm": {
     "name": "#%%\n"
    }
   }
  },
  {
   "cell_type": "code",
   "execution_count": 90,
   "outputs": [
    {
     "data": {
      "text/plain": "   coursec_left  cost durarion coursec_right  discount\nr1       python  4500   20days        python    1233.0\nr2         java  2400   40days          java    1300.0\nr3        spark  5300   30days           NaN       NaN\nr4       pandas  2300   10days           NaN       NaN\nr5        numpy  5100   50days           NaN       NaN",
      "text/html": "<div>\n<style scoped>\n    .dataframe tbody tr th:only-of-type {\n        vertical-align: middle;\n    }\n\n    .dataframe tbody tr th {\n        vertical-align: top;\n    }\n\n    .dataframe thead th {\n        text-align: right;\n    }\n</style>\n<table border=\"1\" class=\"dataframe\">\n  <thead>\n    <tr style=\"text-align: right;\">\n      <th></th>\n      <th>coursec_left</th>\n      <th>cost</th>\n      <th>durarion</th>\n      <th>coursec_right</th>\n      <th>discount</th>\n    </tr>\n  </thead>\n  <tbody>\n    <tr>\n      <th>r1</th>\n      <td>python</td>\n      <td>4500</td>\n      <td>20days</td>\n      <td>python</td>\n      <td>1233.0</td>\n    </tr>\n    <tr>\n      <th>r2</th>\n      <td>java</td>\n      <td>2400</td>\n      <td>40days</td>\n      <td>java</td>\n      <td>1300.0</td>\n    </tr>\n    <tr>\n      <th>r3</th>\n      <td>spark</td>\n      <td>5300</td>\n      <td>30days</td>\n      <td>NaN</td>\n      <td>NaN</td>\n    </tr>\n    <tr>\n      <th>r4</th>\n      <td>pandas</td>\n      <td>2300</td>\n      <td>10days</td>\n      <td>NaN</td>\n      <td>NaN</td>\n    </tr>\n    <tr>\n      <th>r5</th>\n      <td>numpy</td>\n      <td>5100</td>\n      <td>50days</td>\n      <td>NaN</td>\n      <td>NaN</td>\n    </tr>\n  </tbody>\n</table>\n</div>"
     },
     "execution_count": 90,
     "metadata": {},
     "output_type": "execute_result"
    }
   ],
   "source": [
    "df1.join(df2, lsuffix=\"c_left\", rsuffix=\"c_right\", how = \"left\")"
   ],
   "metadata": {
    "collapsed": false,
    "pycharm": {
     "name": "#%%\n"
    }
   }
  },
  {
   "cell_type": "code",
   "execution_count": 91,
   "outputs": [
    {
     "data": {
      "text/plain": "   coursec_left    cost durarion courser_right  discount\nr1       python  4500.0   20days        python      1233\nr2         java  2400.0   40days          java      1300\nr6          NaN     NaN      NaN    javascript      1100",
      "text/html": "<div>\n<style scoped>\n    .dataframe tbody tr th:only-of-type {\n        vertical-align: middle;\n    }\n\n    .dataframe tbody tr th {\n        vertical-align: top;\n    }\n\n    .dataframe thead th {\n        text-align: right;\n    }\n</style>\n<table border=\"1\" class=\"dataframe\">\n  <thead>\n    <tr style=\"text-align: right;\">\n      <th></th>\n      <th>coursec_left</th>\n      <th>cost</th>\n      <th>durarion</th>\n      <th>courser_right</th>\n      <th>discount</th>\n    </tr>\n  </thead>\n  <tbody>\n    <tr>\n      <th>r1</th>\n      <td>python</td>\n      <td>4500.0</td>\n      <td>20days</td>\n      <td>python</td>\n      <td>1233</td>\n    </tr>\n    <tr>\n      <th>r2</th>\n      <td>java</td>\n      <td>2400.0</td>\n      <td>40days</td>\n      <td>java</td>\n      <td>1300</td>\n    </tr>\n    <tr>\n      <th>r6</th>\n      <td>NaN</td>\n      <td>NaN</td>\n      <td>NaN</td>\n      <td>javascript</td>\n      <td>1100</td>\n    </tr>\n  </tbody>\n</table>\n</div>"
     },
     "execution_count": 91,
     "metadata": {},
     "output_type": "execute_result"
    }
   ],
   "source": [
    "df1.join(df2, lsuffix=\"c_left\", rsuffix=\"r_right\", how = \"right\")"
   ],
   "metadata": {
    "collapsed": false,
    "pycharm": {
     "name": "#%%\n"
    }
   }
  },
  {
   "cell_type": "code",
   "execution_count": 92,
   "outputs": [
    {
     "data": {
      "text/plain": "   coursec_left    cost durarion coursec_right  discount\nr1       python  4500.0   20days        python    1233.0\nr2         java  2400.0   40days          java    1300.0\nr3        spark  5300.0   30days           NaN       NaN\nr4       pandas  2300.0   10days           NaN       NaN\nr5        numpy  5100.0   50days           NaN       NaN\nr6          NaN     NaN      NaN    javascript    1100.0",
      "text/html": "<div>\n<style scoped>\n    .dataframe tbody tr th:only-of-type {\n        vertical-align: middle;\n    }\n\n    .dataframe tbody tr th {\n        vertical-align: top;\n    }\n\n    .dataframe thead th {\n        text-align: right;\n    }\n</style>\n<table border=\"1\" class=\"dataframe\">\n  <thead>\n    <tr style=\"text-align: right;\">\n      <th></th>\n      <th>coursec_left</th>\n      <th>cost</th>\n      <th>durarion</th>\n      <th>coursec_right</th>\n      <th>discount</th>\n    </tr>\n  </thead>\n  <tbody>\n    <tr>\n      <th>r1</th>\n      <td>python</td>\n      <td>4500.0</td>\n      <td>20days</td>\n      <td>python</td>\n      <td>1233.0</td>\n    </tr>\n    <tr>\n      <th>r2</th>\n      <td>java</td>\n      <td>2400.0</td>\n      <td>40days</td>\n      <td>java</td>\n      <td>1300.0</td>\n    </tr>\n    <tr>\n      <th>r3</th>\n      <td>spark</td>\n      <td>5300.0</td>\n      <td>30days</td>\n      <td>NaN</td>\n      <td>NaN</td>\n    </tr>\n    <tr>\n      <th>r4</th>\n      <td>pandas</td>\n      <td>2300.0</td>\n      <td>10days</td>\n      <td>NaN</td>\n      <td>NaN</td>\n    </tr>\n    <tr>\n      <th>r5</th>\n      <td>numpy</td>\n      <td>5100.0</td>\n      <td>50days</td>\n      <td>NaN</td>\n      <td>NaN</td>\n    </tr>\n    <tr>\n      <th>r6</th>\n      <td>NaN</td>\n      <td>NaN</td>\n      <td>NaN</td>\n      <td>javascript</td>\n      <td>1100.0</td>\n    </tr>\n  </tbody>\n</table>\n</div>"
     },
     "execution_count": 92,
     "metadata": {},
     "output_type": "execute_result"
    }
   ],
   "source": [
    "df1.join(df2, lsuffix = \"c_left\", rsuffix = \"c_right\", how = \"outer\")"
   ],
   "metadata": {
    "collapsed": false,
    "pycharm": {
     "name": "#%%\n"
    }
   }
  },
  {
   "cell_type": "code",
   "execution_count": 93,
   "outputs": [
    {
     "data": {
      "text/plain": "              cost durarion  discount\ncourse                               \njava        2400.0   40days    1300.0\njavascript     NaN      NaN    1100.0\nnumpy       5100.0   50days       NaN\npandas      2300.0   10days       NaN\npython      4500.0   20days    1233.0\nspark       5300.0   30days       NaN",
      "text/html": "<div>\n<style scoped>\n    .dataframe tbody tr th:only-of-type {\n        vertical-align: middle;\n    }\n\n    .dataframe tbody tr th {\n        vertical-align: top;\n    }\n\n    .dataframe thead th {\n        text-align: right;\n    }\n</style>\n<table border=\"1\" class=\"dataframe\">\n  <thead>\n    <tr style=\"text-align: right;\">\n      <th></th>\n      <th>cost</th>\n      <th>durarion</th>\n      <th>discount</th>\n    </tr>\n    <tr>\n      <th>course</th>\n      <th></th>\n      <th></th>\n      <th></th>\n    </tr>\n  </thead>\n  <tbody>\n    <tr>\n      <th>java</th>\n      <td>2400.0</td>\n      <td>40days</td>\n      <td>1300.0</td>\n    </tr>\n    <tr>\n      <th>javascript</th>\n      <td>NaN</td>\n      <td>NaN</td>\n      <td>1100.0</td>\n    </tr>\n    <tr>\n      <th>numpy</th>\n      <td>5100.0</td>\n      <td>50days</td>\n      <td>NaN</td>\n    </tr>\n    <tr>\n      <th>pandas</th>\n      <td>2300.0</td>\n      <td>10days</td>\n      <td>NaN</td>\n    </tr>\n    <tr>\n      <th>python</th>\n      <td>4500.0</td>\n      <td>20days</td>\n      <td>1233.0</td>\n    </tr>\n    <tr>\n      <th>spark</th>\n      <td>5300.0</td>\n      <td>30days</td>\n      <td>NaN</td>\n    </tr>\n  </tbody>\n</table>\n</div>"
     },
     "execution_count": 93,
     "metadata": {},
     "output_type": "execute_result"
    }
   ],
   "source": [
    "df1.set_index(\"course\").join(df2.set_index(\"course\"), how = \"outer\")"
   ],
   "metadata": {
    "collapsed": false,
    "pycharm": {
     "name": "#%%\n"
    }
   }
  },
  {
   "cell_type": "code",
   "execution_count": 94,
   "outputs": [
    {
     "data": {
      "text/plain": "        cost durarion  discount\ncourse                         \npython  4500   20days      1233\njava    2400   40days      1300",
      "text/html": "<div>\n<style scoped>\n    .dataframe tbody tr th:only-of-type {\n        vertical-align: middle;\n    }\n\n    .dataframe tbody tr th {\n        vertical-align: top;\n    }\n\n    .dataframe thead th {\n        text-align: right;\n    }\n</style>\n<table border=\"1\" class=\"dataframe\">\n  <thead>\n    <tr style=\"text-align: right;\">\n      <th></th>\n      <th>cost</th>\n      <th>durarion</th>\n      <th>discount</th>\n    </tr>\n    <tr>\n      <th>course</th>\n      <th></th>\n      <th></th>\n      <th></th>\n    </tr>\n  </thead>\n  <tbody>\n    <tr>\n      <th>python</th>\n      <td>4500</td>\n      <td>20days</td>\n      <td>1233</td>\n    </tr>\n    <tr>\n      <th>java</th>\n      <td>2400</td>\n      <td>40days</td>\n      <td>1300</td>\n    </tr>\n  </tbody>\n</table>\n</div>"
     },
     "execution_count": 94,
     "metadata": {},
     "output_type": "execute_result"
    }
   ],
   "source": [
    "df1.set_index(\"course\").join(df2.set_index(\"course\"), how = \"inner\")"
   ],
   "metadata": {
    "collapsed": false,
    "pycharm": {
     "name": "#%%\n"
    }
   }
  },
  {
   "cell_type": "code",
   "execution_count": 95,
   "outputs": [
    {
     "data": {
      "text/plain": "   course  cost durarion  discount\n0  python  4500   20days      1233\n1    java  2400   40days      1300",
      "text/html": "<div>\n<style scoped>\n    .dataframe tbody tr th:only-of-type {\n        vertical-align: middle;\n    }\n\n    .dataframe tbody tr th {\n        vertical-align: top;\n    }\n\n    .dataframe thead th {\n        text-align: right;\n    }\n</style>\n<table border=\"1\" class=\"dataframe\">\n  <thead>\n    <tr style=\"text-align: right;\">\n      <th></th>\n      <th>course</th>\n      <th>cost</th>\n      <th>durarion</th>\n      <th>discount</th>\n    </tr>\n  </thead>\n  <tbody>\n    <tr>\n      <th>0</th>\n      <td>python</td>\n      <td>4500</td>\n      <td>20days</td>\n      <td>1233</td>\n    </tr>\n    <tr>\n      <th>1</th>\n      <td>java</td>\n      <td>2400</td>\n      <td>40days</td>\n      <td>1300</td>\n    </tr>\n  </tbody>\n</table>\n</div>"
     },
     "execution_count": 95,
     "metadata": {},
     "output_type": "execute_result"
    }
   ],
   "source": [
    "df1.merge(df2)"
   ],
   "metadata": {
    "collapsed": false,
    "pycharm": {
     "name": "#%%\n"
    }
   }
  },
  {
   "cell_type": "code",
   "execution_count": 96,
   "outputs": [
    {
     "data": {
      "text/plain": "   course  cost durarion  discount\n0  python  4500   20days      1233\n1    java  2400   40days      1300",
      "text/html": "<div>\n<style scoped>\n    .dataframe tbody tr th:only-of-type {\n        vertical-align: middle;\n    }\n\n    .dataframe tbody tr th {\n        vertical-align: top;\n    }\n\n    .dataframe thead th {\n        text-align: right;\n    }\n</style>\n<table border=\"1\" class=\"dataframe\">\n  <thead>\n    <tr style=\"text-align: right;\">\n      <th></th>\n      <th>course</th>\n      <th>cost</th>\n      <th>durarion</th>\n      <th>discount</th>\n    </tr>\n  </thead>\n  <tbody>\n    <tr>\n      <th>0</th>\n      <td>python</td>\n      <td>4500</td>\n      <td>20days</td>\n      <td>1233</td>\n    </tr>\n    <tr>\n      <th>1</th>\n      <td>java</td>\n      <td>2400</td>\n      <td>40days</td>\n      <td>1300</td>\n    </tr>\n  </tbody>\n</table>\n</div>"
     },
     "execution_count": 96,
     "metadata": {},
     "output_type": "execute_result"
    }
   ],
   "source": [
    "df1.merge(df2, on = \"course\")"
   ],
   "metadata": {
    "collapsed": false,
    "pycharm": {
     "name": "#%%\n"
    }
   }
  },
  {
   "cell_type": "code",
   "execution_count": 97,
   "outputs": [
    {
     "data": {
      "text/plain": "   course  cost durarion  discount\n0  python  4500   20days      1233\n1    java  2400   40days      1300",
      "text/html": "<div>\n<style scoped>\n    .dataframe tbody tr th:only-of-type {\n        vertical-align: middle;\n    }\n\n    .dataframe tbody tr th {\n        vertical-align: top;\n    }\n\n    .dataframe thead th {\n        text-align: right;\n    }\n</style>\n<table border=\"1\" class=\"dataframe\">\n  <thead>\n    <tr style=\"text-align: right;\">\n      <th></th>\n      <th>course</th>\n      <th>cost</th>\n      <th>durarion</th>\n      <th>discount</th>\n    </tr>\n  </thead>\n  <tbody>\n    <tr>\n      <th>0</th>\n      <td>python</td>\n      <td>4500</td>\n      <td>20days</td>\n      <td>1233</td>\n    </tr>\n    <tr>\n      <th>1</th>\n      <td>java</td>\n      <td>2400</td>\n      <td>40days</td>\n      <td>1300</td>\n    </tr>\n  </tbody>\n</table>\n</div>"
     },
     "execution_count": 97,
     "metadata": {},
     "output_type": "execute_result"
    }
   ],
   "source": [
    "df1.merge(df2, left_on=\"course\", right_on=\"course\")"
   ],
   "metadata": {
    "collapsed": false,
    "pycharm": {
     "name": "#%%\n"
    }
   }
  },
  {
   "cell_type": "code",
   "execution_count": 98,
   "outputs": [
    {
     "data": {
      "text/plain": "   course  cost durarion  discount\n0  python  4500   20days      1233\n1    java  2400   40days      1300",
      "text/html": "<div>\n<style scoped>\n    .dataframe tbody tr th:only-of-type {\n        vertical-align: middle;\n    }\n\n    .dataframe tbody tr th {\n        vertical-align: top;\n    }\n\n    .dataframe thead th {\n        text-align: right;\n    }\n</style>\n<table border=\"1\" class=\"dataframe\">\n  <thead>\n    <tr style=\"text-align: right;\">\n      <th></th>\n      <th>course</th>\n      <th>cost</th>\n      <th>durarion</th>\n      <th>discount</th>\n    </tr>\n  </thead>\n  <tbody>\n    <tr>\n      <th>0</th>\n      <td>python</td>\n      <td>4500</td>\n      <td>20days</td>\n      <td>1233</td>\n    </tr>\n    <tr>\n      <th>1</th>\n      <td>java</td>\n      <td>2400</td>\n      <td>40days</td>\n      <td>1300</td>\n    </tr>\n  </tbody>\n</table>\n</div>"
     },
     "execution_count": 98,
     "metadata": {},
     "output_type": "execute_result"
    }
   ],
   "source": [
    "df1.merge(df2, left_on=\"course\", right_on=\"course\", how = \"inner\")"
   ],
   "metadata": {
    "collapsed": false,
    "pycharm": {
     "name": "#%%\n"
    }
   }
  },
  {
   "cell_type": "code",
   "execution_count": 99,
   "outputs": [
    {
     "data": {
      "text/plain": "       course    cost durarion  discount\n0      python  4500.0   20days    1233.0\n1        java  2400.0   40days    1300.0\n2       spark  5300.0   30days       NaN\n3      pandas  2300.0   10days       NaN\n4       numpy  5100.0   50days       NaN\n5  javascript     NaN      NaN    1100.0",
      "text/html": "<div>\n<style scoped>\n    .dataframe tbody tr th:only-of-type {\n        vertical-align: middle;\n    }\n\n    .dataframe tbody tr th {\n        vertical-align: top;\n    }\n\n    .dataframe thead th {\n        text-align: right;\n    }\n</style>\n<table border=\"1\" class=\"dataframe\">\n  <thead>\n    <tr style=\"text-align: right;\">\n      <th></th>\n      <th>course</th>\n      <th>cost</th>\n      <th>durarion</th>\n      <th>discount</th>\n    </tr>\n  </thead>\n  <tbody>\n    <tr>\n      <th>0</th>\n      <td>python</td>\n      <td>4500.0</td>\n      <td>20days</td>\n      <td>1233.0</td>\n    </tr>\n    <tr>\n      <th>1</th>\n      <td>java</td>\n      <td>2400.0</td>\n      <td>40days</td>\n      <td>1300.0</td>\n    </tr>\n    <tr>\n      <th>2</th>\n      <td>spark</td>\n      <td>5300.0</td>\n      <td>30days</td>\n      <td>NaN</td>\n    </tr>\n    <tr>\n      <th>3</th>\n      <td>pandas</td>\n      <td>2300.0</td>\n      <td>10days</td>\n      <td>NaN</td>\n    </tr>\n    <tr>\n      <th>4</th>\n      <td>numpy</td>\n      <td>5100.0</td>\n      <td>50days</td>\n      <td>NaN</td>\n    </tr>\n    <tr>\n      <th>5</th>\n      <td>javascript</td>\n      <td>NaN</td>\n      <td>NaN</td>\n      <td>1100.0</td>\n    </tr>\n  </tbody>\n</table>\n</div>"
     },
     "execution_count": 99,
     "metadata": {},
     "output_type": "execute_result"
    }
   ],
   "source": [
    "df1.merge(df2, left_on=\"course\", right_on=\"course\", how = \"outer\")"
   ],
   "metadata": {
    "collapsed": false,
    "pycharm": {
     "name": "#%%\n"
    }
   }
  },
  {
   "cell_type": "code",
   "execution_count": 100,
   "outputs": [
    {
     "data": {
      "text/plain": "   course  cost durarion  discount\n0  python  4500   20days    1233.0\n1    java  2400   40days    1300.0\n2   spark  5300   30days       NaN\n3  pandas  2300   10days       NaN\n4   numpy  5100   50days       NaN",
      "text/html": "<div>\n<style scoped>\n    .dataframe tbody tr th:only-of-type {\n        vertical-align: middle;\n    }\n\n    .dataframe tbody tr th {\n        vertical-align: top;\n    }\n\n    .dataframe thead th {\n        text-align: right;\n    }\n</style>\n<table border=\"1\" class=\"dataframe\">\n  <thead>\n    <tr style=\"text-align: right;\">\n      <th></th>\n      <th>course</th>\n      <th>cost</th>\n      <th>durarion</th>\n      <th>discount</th>\n    </tr>\n  </thead>\n  <tbody>\n    <tr>\n      <th>0</th>\n      <td>python</td>\n      <td>4500</td>\n      <td>20days</td>\n      <td>1233.0</td>\n    </tr>\n    <tr>\n      <th>1</th>\n      <td>java</td>\n      <td>2400</td>\n      <td>40days</td>\n      <td>1300.0</td>\n    </tr>\n    <tr>\n      <th>2</th>\n      <td>spark</td>\n      <td>5300</td>\n      <td>30days</td>\n      <td>NaN</td>\n    </tr>\n    <tr>\n      <th>3</th>\n      <td>pandas</td>\n      <td>2300</td>\n      <td>10days</td>\n      <td>NaN</td>\n    </tr>\n    <tr>\n      <th>4</th>\n      <td>numpy</td>\n      <td>5100</td>\n      <td>50days</td>\n      <td>NaN</td>\n    </tr>\n  </tbody>\n</table>\n</div>"
     },
     "execution_count": 100,
     "metadata": {},
     "output_type": "execute_result"
    }
   ],
   "source": [
    "df1.merge(df2, left_on=\"course\", right_on=\"course\", how = \"left\")"
   ],
   "metadata": {
    "collapsed": false,
    "pycharm": {
     "name": "#%%\n"
    }
   }
  },
  {
   "cell_type": "code",
   "execution_count": 101,
   "outputs": [
    {
     "data": {
      "text/plain": "       course    cost durarion  discount\n0      python  4500.0   20days      1233\n1        java  2400.0   40days      1300\n2  javascript     NaN      NaN      1100",
      "text/html": "<div>\n<style scoped>\n    .dataframe tbody tr th:only-of-type {\n        vertical-align: middle;\n    }\n\n    .dataframe tbody tr th {\n        vertical-align: top;\n    }\n\n    .dataframe thead th {\n        text-align: right;\n    }\n</style>\n<table border=\"1\" class=\"dataframe\">\n  <thead>\n    <tr style=\"text-align: right;\">\n      <th></th>\n      <th>course</th>\n      <th>cost</th>\n      <th>durarion</th>\n      <th>discount</th>\n    </tr>\n  </thead>\n  <tbody>\n    <tr>\n      <th>0</th>\n      <td>python</td>\n      <td>4500.0</td>\n      <td>20days</td>\n      <td>1233</td>\n    </tr>\n    <tr>\n      <th>1</th>\n      <td>java</td>\n      <td>2400.0</td>\n      <td>40days</td>\n      <td>1300</td>\n    </tr>\n    <tr>\n      <th>2</th>\n      <td>javascript</td>\n      <td>NaN</td>\n      <td>NaN</td>\n      <td>1100</td>\n    </tr>\n  </tbody>\n</table>\n</div>"
     },
     "execution_count": 101,
     "metadata": {},
     "output_type": "execute_result"
    }
   ],
   "source": [
    "df1.merge(df2, left_on=\"course\", right_on=\"course\", how = \"right\")"
   ],
   "metadata": {
    "collapsed": false,
    "pycharm": {
     "name": "#%%\n"
    }
   }
  },
  {
   "cell_type": "code",
   "execution_count": 102,
   "outputs": [],
   "source": [
    "df = pd.DataFrame({'Courses': [\"Spark\",\"PySpark\",\"Python\",\"pandas\"],\n",
    "                    'Fee' : [20000,25000,22000,24000]})"
   ],
   "metadata": {
    "collapsed": false,
    "pycharm": {
     "name": "#%%\n"
    }
   }
  },
  {
   "cell_type": "code",
   "execution_count": 103,
   "outputs": [
    {
     "data": {
      "text/plain": "   Courses    Fee\n0    Spark  20000\n1  PySpark  25000\n2   Python  22000\n3   pandas  24000",
      "text/html": "<div>\n<style scoped>\n    .dataframe tbody tr th:only-of-type {\n        vertical-align: middle;\n    }\n\n    .dataframe tbody tr th {\n        vertical-align: top;\n    }\n\n    .dataframe thead th {\n        text-align: right;\n    }\n</style>\n<table border=\"1\" class=\"dataframe\">\n  <thead>\n    <tr style=\"text-align: right;\">\n      <th></th>\n      <th>Courses</th>\n      <th>Fee</th>\n    </tr>\n  </thead>\n  <tbody>\n    <tr>\n      <th>0</th>\n      <td>Spark</td>\n      <td>20000</td>\n    </tr>\n    <tr>\n      <th>1</th>\n      <td>PySpark</td>\n      <td>25000</td>\n    </tr>\n    <tr>\n      <th>2</th>\n      <td>Python</td>\n      <td>22000</td>\n    </tr>\n    <tr>\n      <th>3</th>\n      <td>pandas</td>\n      <td>24000</td>\n    </tr>\n  </tbody>\n</table>\n</div>"
     },
     "execution_count": 103,
     "metadata": {},
     "output_type": "execute_result"
    }
   ],
   "source": [
    "df"
   ],
   "metadata": {
    "collapsed": false,
    "pycharm": {
     "name": "#%%\n"
    }
   }
  },
  {
   "cell_type": "code",
   "execution_count": 104,
   "outputs": [],
   "source": [
    "df1 = pd.DataFrame({'Courses': [\"Pandas\",\"Hadoop\",\"Hyperion\",\"Java\"],\n",
    "                    'Fee': [25000,25200,24500,24900]})"
   ],
   "metadata": {
    "collapsed": false,
    "pycharm": {
     "name": "#%%\n"
    }
   }
  },
  {
   "cell_type": "code",
   "execution_count": 105,
   "outputs": [
    {
     "data": {
      "text/plain": "    Courses    Fee\n0    Pandas  25000\n1    Hadoop  25200\n2  Hyperion  24500\n3      Java  24900",
      "text/html": "<div>\n<style scoped>\n    .dataframe tbody tr th:only-of-type {\n        vertical-align: middle;\n    }\n\n    .dataframe tbody tr th {\n        vertical-align: top;\n    }\n\n    .dataframe thead th {\n        text-align: right;\n    }\n</style>\n<table border=\"1\" class=\"dataframe\">\n  <thead>\n    <tr style=\"text-align: right;\">\n      <th></th>\n      <th>Courses</th>\n      <th>Fee</th>\n    </tr>\n  </thead>\n  <tbody>\n    <tr>\n      <th>0</th>\n      <td>Pandas</td>\n      <td>25000</td>\n    </tr>\n    <tr>\n      <th>1</th>\n      <td>Hadoop</td>\n      <td>25200</td>\n    </tr>\n    <tr>\n      <th>2</th>\n      <td>Hyperion</td>\n      <td>24500</td>\n    </tr>\n    <tr>\n      <th>3</th>\n      <td>Java</td>\n      <td>24900</td>\n    </tr>\n  </tbody>\n</table>\n</div>"
     },
     "execution_count": 105,
     "metadata": {},
     "output_type": "execute_result"
    }
   ],
   "source": [
    "df1"
   ],
   "metadata": {
    "collapsed": false,
    "pycharm": {
     "name": "#%%\n"
    }
   }
  },
  {
   "cell_type": "code",
   "execution_count": 106,
   "outputs": [
    {
     "data": {
      "text/plain": "    Courses    Fee\n0     Spark  20000\n1   PySpark  25000\n2    Python  22000\n3    pandas  24000\n0    Pandas  25000\n1    Hadoop  25200\n2  Hyperion  24500\n3      Java  24900",
      "text/html": "<div>\n<style scoped>\n    .dataframe tbody tr th:only-of-type {\n        vertical-align: middle;\n    }\n\n    .dataframe tbody tr th {\n        vertical-align: top;\n    }\n\n    .dataframe thead th {\n        text-align: right;\n    }\n</style>\n<table border=\"1\" class=\"dataframe\">\n  <thead>\n    <tr style=\"text-align: right;\">\n      <th></th>\n      <th>Courses</th>\n      <th>Fee</th>\n    </tr>\n  </thead>\n  <tbody>\n    <tr>\n      <th>0</th>\n      <td>Spark</td>\n      <td>20000</td>\n    </tr>\n    <tr>\n      <th>1</th>\n      <td>PySpark</td>\n      <td>25000</td>\n    </tr>\n    <tr>\n      <th>2</th>\n      <td>Python</td>\n      <td>22000</td>\n    </tr>\n    <tr>\n      <th>3</th>\n      <td>pandas</td>\n      <td>24000</td>\n    </tr>\n    <tr>\n      <th>0</th>\n      <td>Pandas</td>\n      <td>25000</td>\n    </tr>\n    <tr>\n      <th>1</th>\n      <td>Hadoop</td>\n      <td>25200</td>\n    </tr>\n    <tr>\n      <th>2</th>\n      <td>Hyperion</td>\n      <td>24500</td>\n    </tr>\n    <tr>\n      <th>3</th>\n      <td>Java</td>\n      <td>24900</td>\n    </tr>\n  </tbody>\n</table>\n</div>"
     },
     "execution_count": 106,
     "metadata": {},
     "output_type": "execute_result"
    }
   ],
   "source": [
    "pd.concat([df, df1])"
   ],
   "metadata": {
    "collapsed": false,
    "pycharm": {
     "name": "#%%\n"
    }
   }
  },
  {
   "cell_type": "code",
   "execution_count": 107,
   "outputs": [
    {
     "data": {
      "text/plain": "    Courses    Fee\n0     Spark  20000\n1   PySpark  25000\n2    Python  22000\n3    pandas  24000\n4    Pandas  25000\n5    Hadoop  25200\n6  Hyperion  24500\n7      Java  24900",
      "text/html": "<div>\n<style scoped>\n    .dataframe tbody tr th:only-of-type {\n        vertical-align: middle;\n    }\n\n    .dataframe tbody tr th {\n        vertical-align: top;\n    }\n\n    .dataframe thead th {\n        text-align: right;\n    }\n</style>\n<table border=\"1\" class=\"dataframe\">\n  <thead>\n    <tr style=\"text-align: right;\">\n      <th></th>\n      <th>Courses</th>\n      <th>Fee</th>\n    </tr>\n  </thead>\n  <tbody>\n    <tr>\n      <th>0</th>\n      <td>Spark</td>\n      <td>20000</td>\n    </tr>\n    <tr>\n      <th>1</th>\n      <td>PySpark</td>\n      <td>25000</td>\n    </tr>\n    <tr>\n      <th>2</th>\n      <td>Python</td>\n      <td>22000</td>\n    </tr>\n    <tr>\n      <th>3</th>\n      <td>pandas</td>\n      <td>24000</td>\n    </tr>\n    <tr>\n      <th>4</th>\n      <td>Pandas</td>\n      <td>25000</td>\n    </tr>\n    <tr>\n      <th>5</th>\n      <td>Hadoop</td>\n      <td>25200</td>\n    </tr>\n    <tr>\n      <th>6</th>\n      <td>Hyperion</td>\n      <td>24500</td>\n    </tr>\n    <tr>\n      <th>7</th>\n      <td>Java</td>\n      <td>24900</td>\n    </tr>\n  </tbody>\n</table>\n</div>"
     },
     "execution_count": 107,
     "metadata": {},
     "output_type": "execute_result"
    }
   ],
   "source": [
    "pd.concat([df, df1], ignore_index=True)"
   ],
   "metadata": {
    "collapsed": false,
    "pycharm": {
     "name": "#%%\n"
    }
   }
  },
  {
   "cell_type": "code",
   "execution_count": 108,
   "outputs": [
    {
     "data": {
      "text/plain": "         0      1         2      3\n0    Spark  20000    Pandas  25000\n1  PySpark  25000    Hadoop  25200\n2   Python  22000  Hyperion  24500\n3   pandas  24000      Java  24900",
      "text/html": "<div>\n<style scoped>\n    .dataframe tbody tr th:only-of-type {\n        vertical-align: middle;\n    }\n\n    .dataframe tbody tr th {\n        vertical-align: top;\n    }\n\n    .dataframe thead th {\n        text-align: right;\n    }\n</style>\n<table border=\"1\" class=\"dataframe\">\n  <thead>\n    <tr style=\"text-align: right;\">\n      <th></th>\n      <th>0</th>\n      <th>1</th>\n      <th>2</th>\n      <th>3</th>\n    </tr>\n  </thead>\n  <tbody>\n    <tr>\n      <th>0</th>\n      <td>Spark</td>\n      <td>20000</td>\n      <td>Pandas</td>\n      <td>25000</td>\n    </tr>\n    <tr>\n      <th>1</th>\n      <td>PySpark</td>\n      <td>25000</td>\n      <td>Hadoop</td>\n      <td>25200</td>\n    </tr>\n    <tr>\n      <th>2</th>\n      <td>Python</td>\n      <td>22000</td>\n      <td>Hyperion</td>\n      <td>24500</td>\n    </tr>\n    <tr>\n      <th>3</th>\n      <td>pandas</td>\n      <td>24000</td>\n      <td>Java</td>\n      <td>24900</td>\n    </tr>\n  </tbody>\n</table>\n</div>"
     },
     "execution_count": 108,
     "metadata": {},
     "output_type": "execute_result"
    }
   ],
   "source": [
    "pd.concat([df, df1], ignore_index=True, axis=1)"
   ],
   "metadata": {
    "collapsed": false,
    "pycharm": {
     "name": "#%%\n"
    }
   }
  },
  {
   "cell_type": "code",
   "execution_count": 109,
   "outputs": [
    {
     "data": {
      "text/plain": "    Courses    Fee\n0     Spark  20000\n1   PySpark  25000\n2    Python  22000\n3    pandas  24000\n4    Pandas  25000\n5    Hadoop  25200\n6  Hyperion  24500\n7      Java  24900",
      "text/html": "<div>\n<style scoped>\n    .dataframe tbody tr th:only-of-type {\n        vertical-align: middle;\n    }\n\n    .dataframe tbody tr th {\n        vertical-align: top;\n    }\n\n    .dataframe thead th {\n        text-align: right;\n    }\n</style>\n<table border=\"1\" class=\"dataframe\">\n  <thead>\n    <tr style=\"text-align: right;\">\n      <th></th>\n      <th>Courses</th>\n      <th>Fee</th>\n    </tr>\n  </thead>\n  <tbody>\n    <tr>\n      <th>0</th>\n      <td>Spark</td>\n      <td>20000</td>\n    </tr>\n    <tr>\n      <th>1</th>\n      <td>PySpark</td>\n      <td>25000</td>\n    </tr>\n    <tr>\n      <th>2</th>\n      <td>Python</td>\n      <td>22000</td>\n    </tr>\n    <tr>\n      <th>3</th>\n      <td>pandas</td>\n      <td>24000</td>\n    </tr>\n    <tr>\n      <th>4</th>\n      <td>Pandas</td>\n      <td>25000</td>\n    </tr>\n    <tr>\n      <th>5</th>\n      <td>Hadoop</td>\n      <td>25200</td>\n    </tr>\n    <tr>\n      <th>6</th>\n      <td>Hyperion</td>\n      <td>24500</td>\n    </tr>\n    <tr>\n      <th>7</th>\n      <td>Java</td>\n      <td>24900</td>\n    </tr>\n  </tbody>\n</table>\n</div>"
     },
     "execution_count": 109,
     "metadata": {},
     "output_type": "execute_result"
    }
   ],
   "source": [
    "pd.concat([df, df1], ignore_index=True, axis = 0)"
   ],
   "metadata": {
    "collapsed": false,
    "pycharm": {
     "name": "#%%\n"
    }
   }
  },
  {
   "cell_type": "markdown",
   "source": [],
   "metadata": {
    "collapsed": false,
    "pycharm": {
     "name": "#%% md\n"
    }
   }
  },
  {
   "cell_type": "code",
   "execution_count": 110,
   "outputs": [],
   "source": [
    "df = pd.DataFrame({'Courses': [\"Spark\",\"PySpark\",\"Python\",\"Pandas\"],\n",
    "                    'Fee' : [20000,25000,22000,25000]})\n",
    "\n",
    "df1 = pd.DataFrame({'Courses': [\"Pandas\",\"Hadoop\",\"Hyperion\",\"Java\",\"Spark\"],\n",
    "                    'Fee': [25000,25200,24500,24900,20000]})"
   ],
   "metadata": {
    "collapsed": false,
    "pycharm": {
     "name": "#%%\n"
    }
   }
  },
  {
   "cell_type": "code",
   "execution_count": 111,
   "outputs": [
    {
     "data": {
      "text/plain": "   Courses    Fee\n0    Spark  20000\n1  PySpark  25000\n2   Python  22000\n3   Pandas  25000",
      "text/html": "<div>\n<style scoped>\n    .dataframe tbody tr th:only-of-type {\n        vertical-align: middle;\n    }\n\n    .dataframe tbody tr th {\n        vertical-align: top;\n    }\n\n    .dataframe thead th {\n        text-align: right;\n    }\n</style>\n<table border=\"1\" class=\"dataframe\">\n  <thead>\n    <tr style=\"text-align: right;\">\n      <th></th>\n      <th>Courses</th>\n      <th>Fee</th>\n    </tr>\n  </thead>\n  <tbody>\n    <tr>\n      <th>0</th>\n      <td>Spark</td>\n      <td>20000</td>\n    </tr>\n    <tr>\n      <th>1</th>\n      <td>PySpark</td>\n      <td>25000</td>\n    </tr>\n    <tr>\n      <th>2</th>\n      <td>Python</td>\n      <td>22000</td>\n    </tr>\n    <tr>\n      <th>3</th>\n      <td>Pandas</td>\n      <td>25000</td>\n    </tr>\n  </tbody>\n</table>\n</div>"
     },
     "execution_count": 111,
     "metadata": {},
     "output_type": "execute_result"
    }
   ],
   "source": [
    "df"
   ],
   "metadata": {
    "collapsed": false,
    "pycharm": {
     "name": "#%%\n"
    }
   }
  },
  {
   "cell_type": "code",
   "execution_count": 112,
   "outputs": [
    {
     "data": {
      "text/plain": "    Courses    Fee\n0    Pandas  25000\n1    Hadoop  25200\n2  Hyperion  24500\n3      Java  24900\n4     Spark  20000",
      "text/html": "<div>\n<style scoped>\n    .dataframe tbody tr th:only-of-type {\n        vertical-align: middle;\n    }\n\n    .dataframe tbody tr th {\n        vertical-align: top;\n    }\n\n    .dataframe thead th {\n        text-align: right;\n    }\n</style>\n<table border=\"1\" class=\"dataframe\">\n  <thead>\n    <tr style=\"text-align: right;\">\n      <th></th>\n      <th>Courses</th>\n      <th>Fee</th>\n    </tr>\n  </thead>\n  <tbody>\n    <tr>\n      <th>0</th>\n      <td>Pandas</td>\n      <td>25000</td>\n    </tr>\n    <tr>\n      <th>1</th>\n      <td>Hadoop</td>\n      <td>25200</td>\n    </tr>\n    <tr>\n      <th>2</th>\n      <td>Hyperion</td>\n      <td>24500</td>\n    </tr>\n    <tr>\n      <th>3</th>\n      <td>Java</td>\n      <td>24900</td>\n    </tr>\n    <tr>\n      <th>4</th>\n      <td>Spark</td>\n      <td>20000</td>\n    </tr>\n  </tbody>\n</table>\n</div>"
     },
     "execution_count": 112,
     "metadata": {},
     "output_type": "execute_result"
    }
   ],
   "source": [
    "df1"
   ],
   "metadata": {
    "collapsed": false,
    "pycharm": {
     "name": "#%%\n"
    }
   }
  },
  {
   "cell_type": "code",
   "execution_count": 113,
   "outputs": [
    {
     "data": {
      "text/plain": "    Courses    Fee\n0     Spark  20000\n1   PySpark  25000\n2    Python  22000\n3    Pandas  25000\n4    Pandas  25000\n5    Hadoop  25200\n6  Hyperion  24500\n7      Java  24900\n8     Spark  20000",
      "text/html": "<div>\n<style scoped>\n    .dataframe tbody tr th:only-of-type {\n        vertical-align: middle;\n    }\n\n    .dataframe tbody tr th {\n        vertical-align: top;\n    }\n\n    .dataframe thead th {\n        text-align: right;\n    }\n</style>\n<table border=\"1\" class=\"dataframe\">\n  <thead>\n    <tr style=\"text-align: right;\">\n      <th></th>\n      <th>Courses</th>\n      <th>Fee</th>\n    </tr>\n  </thead>\n  <tbody>\n    <tr>\n      <th>0</th>\n      <td>Spark</td>\n      <td>20000</td>\n    </tr>\n    <tr>\n      <th>1</th>\n      <td>PySpark</td>\n      <td>25000</td>\n    </tr>\n    <tr>\n      <th>2</th>\n      <td>Python</td>\n      <td>22000</td>\n    </tr>\n    <tr>\n      <th>3</th>\n      <td>Pandas</td>\n      <td>25000</td>\n    </tr>\n    <tr>\n      <th>4</th>\n      <td>Pandas</td>\n      <td>25000</td>\n    </tr>\n    <tr>\n      <th>5</th>\n      <td>Hadoop</td>\n      <td>25200</td>\n    </tr>\n    <tr>\n      <th>6</th>\n      <td>Hyperion</td>\n      <td>24500</td>\n    </tr>\n    <tr>\n      <th>7</th>\n      <td>Java</td>\n      <td>24900</td>\n    </tr>\n    <tr>\n      <th>8</th>\n      <td>Spark</td>\n      <td>20000</td>\n    </tr>\n  </tbody>\n</table>\n</div>"
     },
     "execution_count": 113,
     "metadata": {},
     "output_type": "execute_result"
    }
   ],
   "source": [
    "pd.concat([df, df1], join = \"inner\", ignore_index=True)"
   ],
   "metadata": {
    "collapsed": false,
    "pycharm": {
     "name": "#%%\n"
    }
   }
  },
  {
   "cell_type": "code",
   "execution_count": 114,
   "outputs": [
    {
     "data": {
      "text/plain": "    Courses    Fee\n0     Spark  20000\n1   PySpark  25000\n2    Python  22000\n3    Pandas  25000\n4    Pandas  25000\n5    Hadoop  25200\n6  Hyperion  24500\n7      Java  24900\n8     Spark  20000",
      "text/html": "<div>\n<style scoped>\n    .dataframe tbody tr th:only-of-type {\n        vertical-align: middle;\n    }\n\n    .dataframe tbody tr th {\n        vertical-align: top;\n    }\n\n    .dataframe thead th {\n        text-align: right;\n    }\n</style>\n<table border=\"1\" class=\"dataframe\">\n  <thead>\n    <tr style=\"text-align: right;\">\n      <th></th>\n      <th>Courses</th>\n      <th>Fee</th>\n    </tr>\n  </thead>\n  <tbody>\n    <tr>\n      <th>0</th>\n      <td>Spark</td>\n      <td>20000</td>\n    </tr>\n    <tr>\n      <th>1</th>\n      <td>PySpark</td>\n      <td>25000</td>\n    </tr>\n    <tr>\n      <th>2</th>\n      <td>Python</td>\n      <td>22000</td>\n    </tr>\n    <tr>\n      <th>3</th>\n      <td>Pandas</td>\n      <td>25000</td>\n    </tr>\n    <tr>\n      <th>4</th>\n      <td>Pandas</td>\n      <td>25000</td>\n    </tr>\n    <tr>\n      <th>5</th>\n      <td>Hadoop</td>\n      <td>25200</td>\n    </tr>\n    <tr>\n      <th>6</th>\n      <td>Hyperion</td>\n      <td>24500</td>\n    </tr>\n    <tr>\n      <th>7</th>\n      <td>Java</td>\n      <td>24900</td>\n    </tr>\n    <tr>\n      <th>8</th>\n      <td>Spark</td>\n      <td>20000</td>\n    </tr>\n  </tbody>\n</table>\n</div>"
     },
     "execution_count": 114,
     "metadata": {},
     "output_type": "execute_result"
    }
   ],
   "source": [
    "pd.concat([df, df1], ignore_index=True, join = \"outer\")"
   ],
   "metadata": {
    "collapsed": false,
    "pycharm": {
     "name": "#%%\n"
    }
   }
  },
  {
   "cell_type": "code",
   "execution_count": 115,
   "outputs": [
    {
     "data": {
      "text/plain": "       Courses    Fee\nc1 0     Spark  20000\n   1   PySpark  25000\n   2    Python  22000\n   3    Pandas  25000\nc2 0    Pandas  25000\n   1    Hadoop  25200\n   2  Hyperion  24500\n   3      Java  24900\n   4     Spark  20000",
      "text/html": "<div>\n<style scoped>\n    .dataframe tbody tr th:only-of-type {\n        vertical-align: middle;\n    }\n\n    .dataframe tbody tr th {\n        vertical-align: top;\n    }\n\n    .dataframe thead th {\n        text-align: right;\n    }\n</style>\n<table border=\"1\" class=\"dataframe\">\n  <thead>\n    <tr style=\"text-align: right;\">\n      <th></th>\n      <th></th>\n      <th>Courses</th>\n      <th>Fee</th>\n    </tr>\n  </thead>\n  <tbody>\n    <tr>\n      <th rowspan=\"4\" valign=\"top\">c1</th>\n      <th>0</th>\n      <td>Spark</td>\n      <td>20000</td>\n    </tr>\n    <tr>\n      <th>1</th>\n      <td>PySpark</td>\n      <td>25000</td>\n    </tr>\n    <tr>\n      <th>2</th>\n      <td>Python</td>\n      <td>22000</td>\n    </tr>\n    <tr>\n      <th>3</th>\n      <td>Pandas</td>\n      <td>25000</td>\n    </tr>\n    <tr>\n      <th rowspan=\"5\" valign=\"top\">c2</th>\n      <th>0</th>\n      <td>Pandas</td>\n      <td>25000</td>\n    </tr>\n    <tr>\n      <th>1</th>\n      <td>Hadoop</td>\n      <td>25200</td>\n    </tr>\n    <tr>\n      <th>2</th>\n      <td>Hyperion</td>\n      <td>24500</td>\n    </tr>\n    <tr>\n      <th>3</th>\n      <td>Java</td>\n      <td>24900</td>\n    </tr>\n    <tr>\n      <th>4</th>\n      <td>Spark</td>\n      <td>20000</td>\n    </tr>\n  </tbody>\n</table>\n</div>"
     },
     "execution_count": 115,
     "metadata": {},
     "output_type": "execute_result"
    }
   ],
   "source": [
    "pd.concat([df, df1], keys=[\"c1\",\"c2\"], ignore_index=False)"
   ],
   "metadata": {
    "collapsed": false,
    "pycharm": {
     "name": "#%%\n"
    }
   }
  },
  {
   "cell_type": "code",
   "execution_count": 116,
   "outputs": [
    {
     "data": {
      "text/plain": "    Courses    Fee\n0     Spark  20000\n1   PySpark  25000\n2    Python  22000\n3    Pandas  25000\n4    Pandas  25000\n5    Hadoop  25200\n6  Hyperion  24500\n7      Java  24900\n8     Spark  20000",
      "text/html": "<div>\n<style scoped>\n    .dataframe tbody tr th:only-of-type {\n        vertical-align: middle;\n    }\n\n    .dataframe tbody tr th {\n        vertical-align: top;\n    }\n\n    .dataframe thead th {\n        text-align: right;\n    }\n</style>\n<table border=\"1\" class=\"dataframe\">\n  <thead>\n    <tr style=\"text-align: right;\">\n      <th></th>\n      <th>Courses</th>\n      <th>Fee</th>\n    </tr>\n  </thead>\n  <tbody>\n    <tr>\n      <th>0</th>\n      <td>Spark</td>\n      <td>20000</td>\n    </tr>\n    <tr>\n      <th>1</th>\n      <td>PySpark</td>\n      <td>25000</td>\n    </tr>\n    <tr>\n      <th>2</th>\n      <td>Python</td>\n      <td>22000</td>\n    </tr>\n    <tr>\n      <th>3</th>\n      <td>Pandas</td>\n      <td>25000</td>\n    </tr>\n    <tr>\n      <th>4</th>\n      <td>Pandas</td>\n      <td>25000</td>\n    </tr>\n    <tr>\n      <th>5</th>\n      <td>Hadoop</td>\n      <td>25200</td>\n    </tr>\n    <tr>\n      <th>6</th>\n      <td>Hyperion</td>\n      <td>24500</td>\n    </tr>\n    <tr>\n      <th>7</th>\n      <td>Java</td>\n      <td>24900</td>\n    </tr>\n    <tr>\n      <th>8</th>\n      <td>Spark</td>\n      <td>20000</td>\n    </tr>\n  </tbody>\n</table>\n</div>"
     },
     "execution_count": 116,
     "metadata": {},
     "output_type": "execute_result"
    }
   ],
   "source": [
    "pd.concat([df, df1], keys=[\"c1\",\"c2\"], ignore_index=True)"
   ],
   "metadata": {
    "collapsed": false,
    "pycharm": {
     "name": "#%%\n"
    }
   }
  },
  {
   "cell_type": "code",
   "execution_count": 117,
   "outputs": [
    {
     "data": {
      "text/plain": "   Courses    Fee\n0    Spark  20000\n1  PySpark  25000\n2   Python  22000\n3   Pandas  25000",
      "text/html": "<div>\n<style scoped>\n    .dataframe tbody tr th:only-of-type {\n        vertical-align: middle;\n    }\n\n    .dataframe tbody tr th {\n        vertical-align: top;\n    }\n\n    .dataframe thead th {\n        text-align: right;\n    }\n</style>\n<table border=\"1\" class=\"dataframe\">\n  <thead>\n    <tr style=\"text-align: right;\">\n      <th></th>\n      <th>Courses</th>\n      <th>Fee</th>\n    </tr>\n  </thead>\n  <tbody>\n    <tr>\n      <th>0</th>\n      <td>Spark</td>\n      <td>20000</td>\n    </tr>\n    <tr>\n      <th>1</th>\n      <td>PySpark</td>\n      <td>25000</td>\n    </tr>\n    <tr>\n      <th>2</th>\n      <td>Python</td>\n      <td>22000</td>\n    </tr>\n    <tr>\n      <th>3</th>\n      <td>Pandas</td>\n      <td>25000</td>\n    </tr>\n  </tbody>\n</table>\n</div>"
     },
     "execution_count": 117,
     "metadata": {},
     "output_type": "execute_result"
    }
   ],
   "source": [
    "df"
   ],
   "metadata": {
    "collapsed": false,
    "pycharm": {
     "name": "#%%\n"
    }
   }
  },
  {
   "cell_type": "code",
   "execution_count": 118,
   "outputs": [
    {
     "data": {
      "text/plain": "    Courses    Fee\n0    Pandas  25000\n1    Hadoop  25200\n2  Hyperion  24500\n3      Java  24900\n4     Spark  20000",
      "text/html": "<div>\n<style scoped>\n    .dataframe tbody tr th:only-of-type {\n        vertical-align: middle;\n    }\n\n    .dataframe tbody tr th {\n        vertical-align: top;\n    }\n\n    .dataframe thead th {\n        text-align: right;\n    }\n</style>\n<table border=\"1\" class=\"dataframe\">\n  <thead>\n    <tr style=\"text-align: right;\">\n      <th></th>\n      <th>Courses</th>\n      <th>Fee</th>\n    </tr>\n  </thead>\n  <tbody>\n    <tr>\n      <th>0</th>\n      <td>Pandas</td>\n      <td>25000</td>\n    </tr>\n    <tr>\n      <th>1</th>\n      <td>Hadoop</td>\n      <td>25200</td>\n    </tr>\n    <tr>\n      <th>2</th>\n      <td>Hyperion</td>\n      <td>24500</td>\n    </tr>\n    <tr>\n      <th>3</th>\n      <td>Java</td>\n      <td>24900</td>\n    </tr>\n    <tr>\n      <th>4</th>\n      <td>Spark</td>\n      <td>20000</td>\n    </tr>\n  </tbody>\n</table>\n</div>"
     },
     "execution_count": 118,
     "metadata": {},
     "output_type": "execute_result"
    }
   ],
   "source": [
    "df1"
   ],
   "metadata": {
    "collapsed": false,
    "pycharm": {
     "name": "#%%\n"
    }
   }
  },
  {
   "cell_type": "code",
   "execution_count": null,
   "outputs": [],
   "source": [],
   "metadata": {
    "collapsed": false,
    "pycharm": {
     "name": "#%%\n"
    }
   }
  }
 ],
 "metadata": {
  "kernelspec": {
   "display_name": "Python 3",
   "language": "python",
   "name": "python3"
  },
  "language_info": {
   "codemirror_mode": {
    "name": "ipython",
    "version": 2
   },
   "file_extension": ".py",
   "mimetype": "text/x-python",
   "name": "python",
   "nbconvert_exporter": "python",
   "pygments_lexer": "ipython2",
   "version": "2.7.6"
  }
 },
 "nbformat": 4,
 "nbformat_minor": 0
}
{
 "cells": [
  {
   "cell_type": "code",
   "execution_count": 2,
   "metadata": {
    "collapsed": true,
    "pycharm": {
     "name": "#%%\n"
    }
   },
   "outputs": [],
   "source": [
    "import pandas as pd\n",
    "import numpy as np"
   ]
  },
  {
   "cell_type": "code",
   "execution_count": 19,
   "outputs": [],
   "source": [
    "df=pd.DataFrame(\n",
    "    {\"fruit\": [\"apple\", \"plum\",\"grape\"]*2,\n",
    "     \"color\": [\"purple\",\"yellow\"]*3,\n",
    "     \"piece\":[3,4,5,6,1,2]})"
   ],
   "metadata": {
    "collapsed": false,
    "pycharm": {
     "name": "#%%\n"
    }
   }
  },
  {
   "cell_type": "code",
   "execution_count": 20,
   "outputs": [
    {
     "data": {
      "text/plain": "   fruit   color  piece\n0  apple  purple      3\n1   plum  yellow      4\n2  grape  purple      5\n3  apple  yellow      6\n4   plum  purple      1\n5  grape  yellow      2",
      "text/html": "<div>\n<style scoped>\n    .dataframe tbody tr th:only-of-type {\n        vertical-align: middle;\n    }\n\n    .dataframe tbody tr th {\n        vertical-align: top;\n    }\n\n    .dataframe thead th {\n        text-align: right;\n    }\n</style>\n<table border=\"1\" class=\"dataframe\">\n  <thead>\n    <tr style=\"text-align: right;\">\n      <th></th>\n      <th>fruit</th>\n      <th>color</th>\n      <th>piece</th>\n    </tr>\n  </thead>\n  <tbody>\n    <tr>\n      <th>0</th>\n      <td>apple</td>\n      <td>purple</td>\n      <td>3</td>\n    </tr>\n    <tr>\n      <th>1</th>\n      <td>plum</td>\n      <td>yellow</td>\n      <td>4</td>\n    </tr>\n    <tr>\n      <th>2</th>\n      <td>grape</td>\n      <td>purple</td>\n      <td>5</td>\n    </tr>\n    <tr>\n      <th>3</th>\n      <td>apple</td>\n      <td>yellow</td>\n      <td>6</td>\n    </tr>\n    <tr>\n      <th>4</th>\n      <td>plum</td>\n      <td>purple</td>\n      <td>1</td>\n    </tr>\n    <tr>\n      <th>5</th>\n      <td>grape</td>\n      <td>yellow</td>\n      <td>2</td>\n    </tr>\n  </tbody>\n</table>\n</div>"
     },
     "execution_count": 20,
     "metadata": {},
     "output_type": "execute_result"
    }
   ],
   "source": [
    "df"
   ],
   "metadata": {
    "collapsed": false,
    "pycharm": {
     "name": "#%%\n"
    }
   }
  },
  {
   "cell_type": "code",
   "execution_count": 21,
   "outputs": [
    {
     "data": {
      "text/plain": "color  purple  yellow\nfruit                \napple       3       6\ngrape       5       2\nplum        1       4",
      "text/html": "<div>\n<style scoped>\n    .dataframe tbody tr th:only-of-type {\n        vertical-align: middle;\n    }\n\n    .dataframe tbody tr th {\n        vertical-align: top;\n    }\n\n    .dataframe thead th {\n        text-align: right;\n    }\n</style>\n<table border=\"1\" class=\"dataframe\">\n  <thead>\n    <tr style=\"text-align: right;\">\n      <th>color</th>\n      <th>purple</th>\n      <th>yellow</th>\n    </tr>\n    <tr>\n      <th>fruit</th>\n      <th></th>\n      <th></th>\n    </tr>\n  </thead>\n  <tbody>\n    <tr>\n      <th>apple</th>\n      <td>3</td>\n      <td>6</td>\n    </tr>\n    <tr>\n      <th>grape</th>\n      <td>5</td>\n      <td>2</td>\n    </tr>\n    <tr>\n      <th>plum</th>\n      <td>1</td>\n      <td>4</td>\n    </tr>\n  </tbody>\n</table>\n</div>"
     },
     "execution_count": 21,
     "metadata": {},
     "output_type": "execute_result"
    }
   ],
   "source": [
    "df.pivot(index = \"fruit\", columns= \"color\", values=\"piece\")"
   ],
   "metadata": {
    "collapsed": false,
    "pycharm": {
     "name": "#%%\n"
    }
   }
  },
  {
   "cell_type": "code",
   "execution_count": 9,
   "outputs": [],
   "source": [
    "df = pd.read_csv(\"Placement_Data_Full_Class.csv\")"
   ],
   "metadata": {
    "collapsed": false,
    "pycharm": {
     "name": "#%%\n"
    }
   }
  },
  {
   "cell_type": "code",
   "execution_count": 16,
   "outputs": [
    {
     "data": {
      "text/plain": "     sl_no gender  ssc_p    ssc_b  hsc_p    hsc_b     hsc_s  degree_p  \\\n0        1      M  67.00   Others  91.00   Others  Commerce     58.00   \n1        2      M  79.33  Central  78.33   Others   Science     77.48   \n2        3      M  65.00  Central  68.00  Central      Arts     64.00   \n3        4      M  56.00  Central  52.00  Central   Science     52.00   \n4        5      M  85.80  Central  73.60  Central  Commerce     73.30   \n..     ...    ...    ...      ...    ...      ...       ...       ...   \n210    211      M  80.60   Others  82.00   Others  Commerce     77.60   \n211    212      M  58.00   Others  60.00   Others   Science     72.00   \n212    213      M  67.00   Others  67.00   Others  Commerce     73.00   \n213    214      F  74.00   Others  66.00   Others  Commerce     58.00   \n214    215      M  62.00  Central  58.00   Others   Science     53.00   \n\n      degree_t workex  etest_p specialisation  mba_p      status    salary  \n0     Sci&Tech     No     55.0         Mkt&HR  58.80      Placed  270000.0  \n1     Sci&Tech    Yes     86.5        Mkt&Fin  66.28      Placed  200000.0  \n2    Comm&Mgmt     No     75.0        Mkt&Fin  57.80      Placed  250000.0  \n3     Sci&Tech     No     66.0         Mkt&HR  59.43  Not Placed       NaN  \n4    Comm&Mgmt     No     96.8        Mkt&Fin  55.50      Placed  425000.0  \n..         ...    ...      ...            ...    ...         ...       ...  \n210  Comm&Mgmt     No     91.0        Mkt&Fin  74.49      Placed  400000.0  \n211   Sci&Tech     No     74.0        Mkt&Fin  53.62      Placed  275000.0  \n212  Comm&Mgmt    Yes     59.0        Mkt&Fin  69.72      Placed  295000.0  \n213  Comm&Mgmt     No     70.0         Mkt&HR  60.23      Placed  204000.0  \n214  Comm&Mgmt     No     89.0         Mkt&HR  60.22  Not Placed       NaN  \n\n[215 rows x 15 columns]",
      "text/html": "<div>\n<style scoped>\n    .dataframe tbody tr th:only-of-type {\n        vertical-align: middle;\n    }\n\n    .dataframe tbody tr th {\n        vertical-align: top;\n    }\n\n    .dataframe thead th {\n        text-align: right;\n    }\n</style>\n<table border=\"1\" class=\"dataframe\">\n  <thead>\n    <tr style=\"text-align: right;\">\n      <th></th>\n      <th>sl_no</th>\n      <th>gender</th>\n      <th>ssc_p</th>\n      <th>ssc_b</th>\n      <th>hsc_p</th>\n      <th>hsc_b</th>\n      <th>hsc_s</th>\n      <th>degree_p</th>\n      <th>degree_t</th>\n      <th>workex</th>\n      <th>etest_p</th>\n      <th>specialisation</th>\n      <th>mba_p</th>\n      <th>status</th>\n      <th>salary</th>\n    </tr>\n  </thead>\n  <tbody>\n    <tr>\n      <th>0</th>\n      <td>1</td>\n      <td>M</td>\n      <td>67.00</td>\n      <td>Others</td>\n      <td>91.00</td>\n      <td>Others</td>\n      <td>Commerce</td>\n      <td>58.00</td>\n      <td>Sci&amp;Tech</td>\n      <td>No</td>\n      <td>55.0</td>\n      <td>Mkt&amp;HR</td>\n      <td>58.80</td>\n      <td>Placed</td>\n      <td>270000.0</td>\n    </tr>\n    <tr>\n      <th>1</th>\n      <td>2</td>\n      <td>M</td>\n      <td>79.33</td>\n      <td>Central</td>\n      <td>78.33</td>\n      <td>Others</td>\n      <td>Science</td>\n      <td>77.48</td>\n      <td>Sci&amp;Tech</td>\n      <td>Yes</td>\n      <td>86.5</td>\n      <td>Mkt&amp;Fin</td>\n      <td>66.28</td>\n      <td>Placed</td>\n      <td>200000.0</td>\n    </tr>\n    <tr>\n      <th>2</th>\n      <td>3</td>\n      <td>M</td>\n      <td>65.00</td>\n      <td>Central</td>\n      <td>68.00</td>\n      <td>Central</td>\n      <td>Arts</td>\n      <td>64.00</td>\n      <td>Comm&amp;Mgmt</td>\n      <td>No</td>\n      <td>75.0</td>\n      <td>Mkt&amp;Fin</td>\n      <td>57.80</td>\n      <td>Placed</td>\n      <td>250000.0</td>\n    </tr>\n    <tr>\n      <th>3</th>\n      <td>4</td>\n      <td>M</td>\n      <td>56.00</td>\n      <td>Central</td>\n      <td>52.00</td>\n      <td>Central</td>\n      <td>Science</td>\n      <td>52.00</td>\n      <td>Sci&amp;Tech</td>\n      <td>No</td>\n      <td>66.0</td>\n      <td>Mkt&amp;HR</td>\n      <td>59.43</td>\n      <td>Not Placed</td>\n      <td>NaN</td>\n    </tr>\n    <tr>\n      <th>4</th>\n      <td>5</td>\n      <td>M</td>\n      <td>85.80</td>\n      <td>Central</td>\n      <td>73.60</td>\n      <td>Central</td>\n      <td>Commerce</td>\n      <td>73.30</td>\n      <td>Comm&amp;Mgmt</td>\n      <td>No</td>\n      <td>96.8</td>\n      <td>Mkt&amp;Fin</td>\n      <td>55.50</td>\n      <td>Placed</td>\n      <td>425000.0</td>\n    </tr>\n    <tr>\n      <th>...</th>\n      <td>...</td>\n      <td>...</td>\n      <td>...</td>\n      <td>...</td>\n      <td>...</td>\n      <td>...</td>\n      <td>...</td>\n      <td>...</td>\n      <td>...</td>\n      <td>...</td>\n      <td>...</td>\n      <td>...</td>\n      <td>...</td>\n      <td>...</td>\n      <td>...</td>\n    </tr>\n    <tr>\n      <th>210</th>\n      <td>211</td>\n      <td>M</td>\n      <td>80.60</td>\n      <td>Others</td>\n      <td>82.00</td>\n      <td>Others</td>\n      <td>Commerce</td>\n      <td>77.60</td>\n      <td>Comm&amp;Mgmt</td>\n      <td>No</td>\n      <td>91.0</td>\n      <td>Mkt&amp;Fin</td>\n      <td>74.49</td>\n      <td>Placed</td>\n      <td>400000.0</td>\n    </tr>\n    <tr>\n      <th>211</th>\n      <td>212</td>\n      <td>M</td>\n      <td>58.00</td>\n      <td>Others</td>\n      <td>60.00</td>\n      <td>Others</td>\n      <td>Science</td>\n      <td>72.00</td>\n      <td>Sci&amp;Tech</td>\n      <td>No</td>\n      <td>74.0</td>\n      <td>Mkt&amp;Fin</td>\n      <td>53.62</td>\n      <td>Placed</td>\n      <td>275000.0</td>\n    </tr>\n    <tr>\n      <th>212</th>\n      <td>213</td>\n      <td>M</td>\n      <td>67.00</td>\n      <td>Others</td>\n      <td>67.00</td>\n      <td>Others</td>\n      <td>Commerce</td>\n      <td>73.00</td>\n      <td>Comm&amp;Mgmt</td>\n      <td>Yes</td>\n      <td>59.0</td>\n      <td>Mkt&amp;Fin</td>\n      <td>69.72</td>\n      <td>Placed</td>\n      <td>295000.0</td>\n    </tr>\n    <tr>\n      <th>213</th>\n      <td>214</td>\n      <td>F</td>\n      <td>74.00</td>\n      <td>Others</td>\n      <td>66.00</td>\n      <td>Others</td>\n      <td>Commerce</td>\n      <td>58.00</td>\n      <td>Comm&amp;Mgmt</td>\n      <td>No</td>\n      <td>70.0</td>\n      <td>Mkt&amp;HR</td>\n      <td>60.23</td>\n      <td>Placed</td>\n      <td>204000.0</td>\n    </tr>\n    <tr>\n      <th>214</th>\n      <td>215</td>\n      <td>M</td>\n      <td>62.00</td>\n      <td>Central</td>\n      <td>58.00</td>\n      <td>Others</td>\n      <td>Science</td>\n      <td>53.00</td>\n      <td>Comm&amp;Mgmt</td>\n      <td>No</td>\n      <td>89.0</td>\n      <td>Mkt&amp;HR</td>\n      <td>60.22</td>\n      <td>Not Placed</td>\n      <td>NaN</td>\n    </tr>\n  </tbody>\n</table>\n<p>215 rows × 15 columns</p>\n</div>"
     },
     "execution_count": 16,
     "metadata": {},
     "output_type": "execute_result"
    }
   ],
   "source": [
    "df"
   ],
   "metadata": {
    "collapsed": false,
    "pycharm": {
     "name": "#%%\n"
    }
   }
  },
  {
   "cell_type": "code",
   "execution_count": 14,
   "outputs": [],
   "source": [
    "pd.crosstab?"
   ],
   "metadata": {
    "collapsed": false,
    "pycharm": {
     "name": "#%%\n"
    }
   }
  },
  {
   "cell_type": "code",
   "execution_count": 15,
   "outputs": [
    {
     "data": {
      "text/plain": "status  Not Placed  Placed\ngender                    \nF               28      48\nM               39     100",
      "text/html": "<div>\n<style scoped>\n    .dataframe tbody tr th:only-of-type {\n        vertical-align: middle;\n    }\n\n    .dataframe tbody tr th {\n        vertical-align: top;\n    }\n\n    .dataframe thead th {\n        text-align: right;\n    }\n</style>\n<table border=\"1\" class=\"dataframe\">\n  <thead>\n    <tr style=\"text-align: right;\">\n      <th>status</th>\n      <th>Not Placed</th>\n      <th>Placed</th>\n    </tr>\n    <tr>\n      <th>gender</th>\n      <th></th>\n      <th></th>\n    </tr>\n  </thead>\n  <tbody>\n    <tr>\n      <th>F</th>\n      <td>28</td>\n      <td>48</td>\n    </tr>\n    <tr>\n      <th>M</th>\n      <td>39</td>\n      <td>100</td>\n    </tr>\n  </tbody>\n</table>\n</div>"
     },
     "execution_count": 15,
     "metadata": {},
     "output_type": "execute_result"
    }
   ],
   "source": [
    "pd.crosstab(df.gender, df.status)"
   ],
   "metadata": {
    "collapsed": false,
    "pycharm": {
     "name": "#%%\n"
    }
   }
  },
  {
   "cell_type": "code",
   "execution_count": 22,
   "outputs": [],
   "source": [
    "df=pd.DataFrame(\n",
    "    {\"lesson\":[\"math\",\"stat\",\"bio\"],\n",
    "     \"Sam\":[50,60,70],\n",
    "     \"Kim\":[80,70,90],\n",
    "     \"Tom\":[60,70,85]})"
   ],
   "metadata": {
    "collapsed": false,
    "pycharm": {
     "name": "#%%\n"
    }
   }
  },
  {
   "cell_type": "code",
   "execution_count": 24,
   "outputs": [
    {
     "data": {
      "text/plain": "  lesson  Sam  Kim  Tom\n0   math   50   80   60\n1   stat   60   70   70\n2    bio   70   90   85",
      "text/html": "<div>\n<style scoped>\n    .dataframe tbody tr th:only-of-type {\n        vertical-align: middle;\n    }\n\n    .dataframe tbody tr th {\n        vertical-align: top;\n    }\n\n    .dataframe thead th {\n        text-align: right;\n    }\n</style>\n<table border=\"1\" class=\"dataframe\">\n  <thead>\n    <tr style=\"text-align: right;\">\n      <th></th>\n      <th>lesson</th>\n      <th>Sam</th>\n      <th>Kim</th>\n      <th>Tom</th>\n    </tr>\n  </thead>\n  <tbody>\n    <tr>\n      <th>0</th>\n      <td>math</td>\n      <td>50</td>\n      <td>80</td>\n      <td>60</td>\n    </tr>\n    <tr>\n      <th>1</th>\n      <td>stat</td>\n      <td>60</td>\n      <td>70</td>\n      <td>70</td>\n    </tr>\n    <tr>\n      <th>2</th>\n      <td>bio</td>\n      <td>70</td>\n      <td>90</td>\n      <td>85</td>\n    </tr>\n  </tbody>\n</table>\n</div>"
     },
     "execution_count": 24,
     "metadata": {},
     "output_type": "execute_result"
    }
   ],
   "source": [
    "df"
   ],
   "metadata": {
    "collapsed": false,
    "pycharm": {
     "name": "#%%\n"
    }
   }
  },
  {
   "cell_type": "code",
   "execution_count": 25,
   "outputs": [],
   "source": [
    "df1 = pd.melt(df, [\"lesson\"])"
   ],
   "metadata": {
    "collapsed": false,
    "pycharm": {
     "name": "#%%\n"
    }
   }
  },
  {
   "cell_type": "code",
   "execution_count": 26,
   "outputs": [
    {
     "data": {
      "text/plain": "  lesson variable  value\n0   math      Sam     50\n1   stat      Sam     60\n2    bio      Sam     70\n3   math      Kim     80\n4   stat      Kim     70\n5    bio      Kim     90\n6   math      Tom     60\n7   stat      Tom     70\n8    bio      Tom     85",
      "text/html": "<div>\n<style scoped>\n    .dataframe tbody tr th:only-of-type {\n        vertical-align: middle;\n    }\n\n    .dataframe tbody tr th {\n        vertical-align: top;\n    }\n\n    .dataframe thead th {\n        text-align: right;\n    }\n</style>\n<table border=\"1\" class=\"dataframe\">\n  <thead>\n    <tr style=\"text-align: right;\">\n      <th></th>\n      <th>lesson</th>\n      <th>variable</th>\n      <th>value</th>\n    </tr>\n  </thead>\n  <tbody>\n    <tr>\n      <th>0</th>\n      <td>math</td>\n      <td>Sam</td>\n      <td>50</td>\n    </tr>\n    <tr>\n      <th>1</th>\n      <td>stat</td>\n      <td>Sam</td>\n      <td>60</td>\n    </tr>\n    <tr>\n      <th>2</th>\n      <td>bio</td>\n      <td>Sam</td>\n      <td>70</td>\n    </tr>\n    <tr>\n      <th>3</th>\n      <td>math</td>\n      <td>Kim</td>\n      <td>80</td>\n    </tr>\n    <tr>\n      <th>4</th>\n      <td>stat</td>\n      <td>Kim</td>\n      <td>70</td>\n    </tr>\n    <tr>\n      <th>5</th>\n      <td>bio</td>\n      <td>Kim</td>\n      <td>90</td>\n    </tr>\n    <tr>\n      <th>6</th>\n      <td>math</td>\n      <td>Tom</td>\n      <td>60</td>\n    </tr>\n    <tr>\n      <th>7</th>\n      <td>stat</td>\n      <td>Tom</td>\n      <td>70</td>\n    </tr>\n    <tr>\n      <th>8</th>\n      <td>bio</td>\n      <td>Tom</td>\n      <td>85</td>\n    </tr>\n  </tbody>\n</table>\n</div>"
     },
     "execution_count": 26,
     "metadata": {},
     "output_type": "execute_result"
    }
   ],
   "source": [
    "df1"
   ],
   "metadata": {
    "collapsed": false,
    "pycharm": {
     "name": "#%%\n"
    }
   }
  },
  {
   "cell_type": "code",
   "execution_count": 29,
   "outputs": [],
   "source": [
    "df = df1.pivot(index=\"lesson\", columns=\"variable\",values=\"value\")"
   ],
   "metadata": {
    "collapsed": false,
    "pycharm": {
     "name": "#%%\n"
    }
   }
  },
  {
   "cell_type": "code",
   "execution_count": 30,
   "outputs": [
    {
     "data": {
      "text/plain": "variable  Kim  Sam  Tom\nlesson                 \nbio        90   70   85\nmath       80   50   60\nstat       70   60   70",
      "text/html": "<div>\n<style scoped>\n    .dataframe tbody tr th:only-of-type {\n        vertical-align: middle;\n    }\n\n    .dataframe tbody tr th {\n        vertical-align: top;\n    }\n\n    .dataframe thead th {\n        text-align: right;\n    }\n</style>\n<table border=\"1\" class=\"dataframe\">\n  <thead>\n    <tr style=\"text-align: right;\">\n      <th>variable</th>\n      <th>Kim</th>\n      <th>Sam</th>\n      <th>Tom</th>\n    </tr>\n    <tr>\n      <th>lesson</th>\n      <th></th>\n      <th></th>\n      <th></th>\n    </tr>\n  </thead>\n  <tbody>\n    <tr>\n      <th>bio</th>\n      <td>90</td>\n      <td>70</td>\n      <td>85</td>\n    </tr>\n    <tr>\n      <th>math</th>\n      <td>80</td>\n      <td>50</td>\n      <td>60</td>\n    </tr>\n    <tr>\n      <th>stat</th>\n      <td>70</td>\n      <td>60</td>\n      <td>70</td>\n    </tr>\n  </tbody>\n</table>\n</div>"
     },
     "execution_count": 30,
     "metadata": {},
     "output_type": "execute_result"
    }
   ],
   "source": [
    "df"
   ],
   "metadata": {
    "collapsed": false,
    "pycharm": {
     "name": "#%%\n"
    }
   }
  },
  {
   "cell_type": "code",
   "execution_count": 32,
   "outputs": [
    {
     "data": {
      "text/plain": "variable lesson  Kim  Sam  Tom\n0           bio   90   70   85\n1          math   80   50   60\n2          stat   70   60   70",
      "text/html": "<div>\n<style scoped>\n    .dataframe tbody tr th:only-of-type {\n        vertical-align: middle;\n    }\n\n    .dataframe tbody tr th {\n        vertical-align: top;\n    }\n\n    .dataframe thead th {\n        text-align: right;\n    }\n</style>\n<table border=\"1\" class=\"dataframe\">\n  <thead>\n    <tr style=\"text-align: right;\">\n      <th>variable</th>\n      <th>lesson</th>\n      <th>Kim</th>\n      <th>Sam</th>\n      <th>Tom</th>\n    </tr>\n  </thead>\n  <tbody>\n    <tr>\n      <th>0</th>\n      <td>bio</td>\n      <td>90</td>\n      <td>70</td>\n      <td>85</td>\n    </tr>\n    <tr>\n      <th>1</th>\n      <td>math</td>\n      <td>80</td>\n      <td>50</td>\n      <td>60</td>\n    </tr>\n    <tr>\n      <th>2</th>\n      <td>stat</td>\n      <td>70</td>\n      <td>60</td>\n      <td>70</td>\n    </tr>\n  </tbody>\n</table>\n</div>"
     },
     "execution_count": 32,
     "metadata": {},
     "output_type": "execute_result"
    }
   ],
   "source": [
    "df.reset_index()"
   ],
   "metadata": {
    "collapsed": false,
    "pycharm": {
     "name": "#%%\n"
    }
   }
  },
  {
   "cell_type": "code",
   "execution_count": null,
   "outputs": [],
   "source": [],
   "metadata": {
    "collapsed": false,
    "pycharm": {
     "name": "#%%\n"
    }
   }
  }
 ],
 "metadata": {
  "kernelspec": {
   "display_name": "Python 3",
   "language": "python",
   "name": "python3"
  },
  "language_info": {
   "codemirror_mode": {
    "name": "ipython",
    "version": 2
   },
   "file_extension": ".py",
   "mimetype": "text/x-python",
   "name": "python",
   "nbconvert_exporter": "python",
   "pygments_lexer": "ipython2",
   "version": "2.7.6"
  }
 },
 "nbformat": 4,
 "nbformat_minor": 0
}
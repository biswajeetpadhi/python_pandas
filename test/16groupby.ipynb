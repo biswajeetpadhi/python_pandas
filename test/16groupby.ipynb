{
 "cells": [
  {
   "cell_type": "code",
   "execution_count": 5,
   "metadata": {
    "collapsed": true,
    "pycharm": {
     "name": "#%%\n"
    }
   },
   "outputs": [],
   "source": [
    "import pandas as pd\n",
    "import numpy as np"
   ]
  },
  {
   "cell_type": "code",
   "execution_count": 29,
   "outputs": [],
   "source": [
    "df1 = pd.read_csv(\"Placement_Data_Full_Class.csv\")"
   ],
   "metadata": {
    "collapsed": false,
    "pycharm": {
     "name": "#%%\n"
    }
   }
  },
  {
   "cell_type": "code",
   "execution_count": 30,
   "outputs": [
    {
     "data": {
      "text/plain": "Index(['sl_no', 'gender', 'ssc_p', 'ssc_b', 'hsc_p', 'hsc_b', 'hsc_s',\n       'degree_p', 'degree_t', 'workex', 'etest_p', 'specialisation', 'mba_p',\n       'status', 'salary'],\n      dtype='object')"
     },
     "execution_count": 30,
     "metadata": {},
     "output_type": "execute_result"
    }
   ],
   "source": [
    "df1.columns"
   ],
   "metadata": {
    "collapsed": false,
    "pycharm": {
     "name": "#%%\n"
    }
   }
  },
  {
   "cell_type": "code",
   "execution_count": 35,
   "outputs": [
    {
     "data": {
      "text/plain": "     sl_no gender  ssc_p    ssc_b  hsc_p    hsc_b     hsc_s  degree_p  \\\n0        1      M  67.00   Others  91.00   Others  Commerce     58.00   \n1        2      M  79.33  Central  78.33   Others   Science     77.48   \n2        3      M  65.00  Central  68.00  Central      Arts     64.00   \n3        4      M  56.00  Central  52.00  Central   Science     52.00   \n4        5      M  85.80  Central  73.60  Central  Commerce     73.30   \n..     ...    ...    ...      ...    ...      ...       ...       ...   \n210    211      M  80.60   Others  82.00   Others  Commerce     77.60   \n211    212      M  58.00   Others  60.00   Others   Science     72.00   \n212    213      M  67.00   Others  67.00   Others  Commerce     73.00   \n213    214      F  74.00   Others  66.00   Others  Commerce     58.00   \n214    215      M  62.00  Central  58.00   Others   Science     53.00   \n\n      degree_t workex  etest_p specialisation  mba_p      status    salary  \n0     Sci&Tech     No     55.0         Mkt&HR  58.80      Placed  270000.0  \n1     Sci&Tech    Yes     86.5        Mkt&Fin  66.28      Placed  200000.0  \n2    Comm&Mgmt     No     75.0        Mkt&Fin  57.80      Placed  250000.0  \n3     Sci&Tech     No     66.0         Mkt&HR  59.43  Not Placed       NaN  \n4    Comm&Mgmt     No     96.8        Mkt&Fin  55.50      Placed  425000.0  \n..         ...    ...      ...            ...    ...         ...       ...  \n210  Comm&Mgmt     No     91.0        Mkt&Fin  74.49      Placed  400000.0  \n211   Sci&Tech     No     74.0        Mkt&Fin  53.62      Placed  275000.0  \n212  Comm&Mgmt    Yes     59.0        Mkt&Fin  69.72      Placed  295000.0  \n213  Comm&Mgmt     No     70.0         Mkt&HR  60.23      Placed  204000.0  \n214  Comm&Mgmt     No     89.0         Mkt&HR  60.22  Not Placed       NaN  \n\n[215 rows x 15 columns]",
      "text/html": "<div>\n<style scoped>\n    .dataframe tbody tr th:only-of-type {\n        vertical-align: middle;\n    }\n\n    .dataframe tbody tr th {\n        vertical-align: top;\n    }\n\n    .dataframe thead th {\n        text-align: right;\n    }\n</style>\n<table border=\"1\" class=\"dataframe\">\n  <thead>\n    <tr style=\"text-align: right;\">\n      <th></th>\n      <th>sl_no</th>\n      <th>gender</th>\n      <th>ssc_p</th>\n      <th>ssc_b</th>\n      <th>hsc_p</th>\n      <th>hsc_b</th>\n      <th>hsc_s</th>\n      <th>degree_p</th>\n      <th>degree_t</th>\n      <th>workex</th>\n      <th>etest_p</th>\n      <th>specialisation</th>\n      <th>mba_p</th>\n      <th>status</th>\n      <th>salary</th>\n    </tr>\n  </thead>\n  <tbody>\n    <tr>\n      <th>0</th>\n      <td>1</td>\n      <td>M</td>\n      <td>67.00</td>\n      <td>Others</td>\n      <td>91.00</td>\n      <td>Others</td>\n      <td>Commerce</td>\n      <td>58.00</td>\n      <td>Sci&amp;Tech</td>\n      <td>No</td>\n      <td>55.0</td>\n      <td>Mkt&amp;HR</td>\n      <td>58.80</td>\n      <td>Placed</td>\n      <td>270000.0</td>\n    </tr>\n    <tr>\n      <th>1</th>\n      <td>2</td>\n      <td>M</td>\n      <td>79.33</td>\n      <td>Central</td>\n      <td>78.33</td>\n      <td>Others</td>\n      <td>Science</td>\n      <td>77.48</td>\n      <td>Sci&amp;Tech</td>\n      <td>Yes</td>\n      <td>86.5</td>\n      <td>Mkt&amp;Fin</td>\n      <td>66.28</td>\n      <td>Placed</td>\n      <td>200000.0</td>\n    </tr>\n    <tr>\n      <th>2</th>\n      <td>3</td>\n      <td>M</td>\n      <td>65.00</td>\n      <td>Central</td>\n      <td>68.00</td>\n      <td>Central</td>\n      <td>Arts</td>\n      <td>64.00</td>\n      <td>Comm&amp;Mgmt</td>\n      <td>No</td>\n      <td>75.0</td>\n      <td>Mkt&amp;Fin</td>\n      <td>57.80</td>\n      <td>Placed</td>\n      <td>250000.0</td>\n    </tr>\n    <tr>\n      <th>3</th>\n      <td>4</td>\n      <td>M</td>\n      <td>56.00</td>\n      <td>Central</td>\n      <td>52.00</td>\n      <td>Central</td>\n      <td>Science</td>\n      <td>52.00</td>\n      <td>Sci&amp;Tech</td>\n      <td>No</td>\n      <td>66.0</td>\n      <td>Mkt&amp;HR</td>\n      <td>59.43</td>\n      <td>Not Placed</td>\n      <td>NaN</td>\n    </tr>\n    <tr>\n      <th>4</th>\n      <td>5</td>\n      <td>M</td>\n      <td>85.80</td>\n      <td>Central</td>\n      <td>73.60</td>\n      <td>Central</td>\n      <td>Commerce</td>\n      <td>73.30</td>\n      <td>Comm&amp;Mgmt</td>\n      <td>No</td>\n      <td>96.8</td>\n      <td>Mkt&amp;Fin</td>\n      <td>55.50</td>\n      <td>Placed</td>\n      <td>425000.0</td>\n    </tr>\n    <tr>\n      <th>...</th>\n      <td>...</td>\n      <td>...</td>\n      <td>...</td>\n      <td>...</td>\n      <td>...</td>\n      <td>...</td>\n      <td>...</td>\n      <td>...</td>\n      <td>...</td>\n      <td>...</td>\n      <td>...</td>\n      <td>...</td>\n      <td>...</td>\n      <td>...</td>\n      <td>...</td>\n    </tr>\n    <tr>\n      <th>210</th>\n      <td>211</td>\n      <td>M</td>\n      <td>80.60</td>\n      <td>Others</td>\n      <td>82.00</td>\n      <td>Others</td>\n      <td>Commerce</td>\n      <td>77.60</td>\n      <td>Comm&amp;Mgmt</td>\n      <td>No</td>\n      <td>91.0</td>\n      <td>Mkt&amp;Fin</td>\n      <td>74.49</td>\n      <td>Placed</td>\n      <td>400000.0</td>\n    </tr>\n    <tr>\n      <th>211</th>\n      <td>212</td>\n      <td>M</td>\n      <td>58.00</td>\n      <td>Others</td>\n      <td>60.00</td>\n      <td>Others</td>\n      <td>Science</td>\n      <td>72.00</td>\n      <td>Sci&amp;Tech</td>\n      <td>No</td>\n      <td>74.0</td>\n      <td>Mkt&amp;Fin</td>\n      <td>53.62</td>\n      <td>Placed</td>\n      <td>275000.0</td>\n    </tr>\n    <tr>\n      <th>212</th>\n      <td>213</td>\n      <td>M</td>\n      <td>67.00</td>\n      <td>Others</td>\n      <td>67.00</td>\n      <td>Others</td>\n      <td>Commerce</td>\n      <td>73.00</td>\n      <td>Comm&amp;Mgmt</td>\n      <td>Yes</td>\n      <td>59.0</td>\n      <td>Mkt&amp;Fin</td>\n      <td>69.72</td>\n      <td>Placed</td>\n      <td>295000.0</td>\n    </tr>\n    <tr>\n      <th>213</th>\n      <td>214</td>\n      <td>F</td>\n      <td>74.00</td>\n      <td>Others</td>\n      <td>66.00</td>\n      <td>Others</td>\n      <td>Commerce</td>\n      <td>58.00</td>\n      <td>Comm&amp;Mgmt</td>\n      <td>No</td>\n      <td>70.0</td>\n      <td>Mkt&amp;HR</td>\n      <td>60.23</td>\n      <td>Placed</td>\n      <td>204000.0</td>\n    </tr>\n    <tr>\n      <th>214</th>\n      <td>215</td>\n      <td>M</td>\n      <td>62.00</td>\n      <td>Central</td>\n      <td>58.00</td>\n      <td>Others</td>\n      <td>Science</td>\n      <td>53.00</td>\n      <td>Comm&amp;Mgmt</td>\n      <td>No</td>\n      <td>89.0</td>\n      <td>Mkt&amp;HR</td>\n      <td>60.22</td>\n      <td>Not Placed</td>\n      <td>NaN</td>\n    </tr>\n  </tbody>\n</table>\n<p>215 rows × 15 columns</p>\n</div>"
     },
     "execution_count": 35,
     "metadata": {},
     "output_type": "execute_result"
    }
   ],
   "source": [
    "df1"
   ],
   "metadata": {
    "collapsed": false,
    "pycharm": {
     "name": "#%%\n"
    }
   }
  },
  {
   "cell_type": "code",
   "execution_count": 36,
   "outputs": [
    {
     "name": "stdout",
     "output_type": "stream",
     "text": [
      "<class 'int'>\n"
     ]
    }
   ],
   "source": [
    "print(type(df.shape[1]))"
   ],
   "metadata": {
    "collapsed": false,
    "pycharm": {
     "name": "#%%\n"
    }
   }
  },
  {
   "cell_type": "code",
   "execution_count": 38,
   "outputs": [
    {
     "data": {
      "text/plain": "Index(['sl_no', 'gender', 'ssc_p', 'ssc_b', 'hsc_p', 'hsc_b', 'hsc_s',\n       'degree_p', 'degree_t', 'workex', 'etest_p', 'specialisation', 'mba_p',\n       'status', 'salary'],\n      dtype='object')"
     },
     "execution_count": 38,
     "metadata": {},
     "output_type": "execute_result"
    }
   ],
   "source": [
    "df1.columns"
   ],
   "metadata": {
    "collapsed": false,
    "pycharm": {
     "name": "#%%\n"
    }
   }
  },
  {
   "cell_type": "code",
   "execution_count": 59,
   "outputs": [
    {
     "data": {
      "text/plain": "gender\nF    68.310921\nM    66.752518\nName: ssc_p, dtype: float64"
     },
     "execution_count": 59,
     "metadata": {},
     "output_type": "execute_result"
    }
   ],
   "source": [
    "df1[\"ssc_p\"].groupby(by = df1[\"gender\"]).mean()"
   ],
   "metadata": {
    "collapsed": false,
    "pycharm": {
     "name": "#%%\n"
    }
   }
  },
  {
   "cell_type": "code",
   "execution_count": 40,
   "outputs": [
    {
     "data": {
      "text/plain": "                     sl_no      ssc_p      hsc_p   degree_p    etest_p  \\\nspecialisation                                                           \nMkt&Fin         105.425000  68.961667  68.670583  67.796083  74.885500   \nMkt&HR          111.252632  65.208737  63.380632  64.569053  68.582737   \n\n                    mba_p         salary  \nspecialisation                            \nMkt&Fin         62.825667  298852.631579  \nMkt&HR          61.586632  270377.358491  ",
      "text/html": "<div>\n<style scoped>\n    .dataframe tbody tr th:only-of-type {\n        vertical-align: middle;\n    }\n\n    .dataframe tbody tr th {\n        vertical-align: top;\n    }\n\n    .dataframe thead th {\n        text-align: right;\n    }\n</style>\n<table border=\"1\" class=\"dataframe\">\n  <thead>\n    <tr style=\"text-align: right;\">\n      <th></th>\n      <th>sl_no</th>\n      <th>ssc_p</th>\n      <th>hsc_p</th>\n      <th>degree_p</th>\n      <th>etest_p</th>\n      <th>mba_p</th>\n      <th>salary</th>\n    </tr>\n    <tr>\n      <th>specialisation</th>\n      <th></th>\n      <th></th>\n      <th></th>\n      <th></th>\n      <th></th>\n      <th></th>\n      <th></th>\n    </tr>\n  </thead>\n  <tbody>\n    <tr>\n      <th>Mkt&amp;Fin</th>\n      <td>105.425000</td>\n      <td>68.961667</td>\n      <td>68.670583</td>\n      <td>67.796083</td>\n      <td>74.885500</td>\n      <td>62.825667</td>\n      <td>298852.631579</td>\n    </tr>\n    <tr>\n      <th>Mkt&amp;HR</th>\n      <td>111.252632</td>\n      <td>65.208737</td>\n      <td>63.380632</td>\n      <td>64.569053</td>\n      <td>68.582737</td>\n      <td>61.586632</td>\n      <td>270377.358491</td>\n    </tr>\n  </tbody>\n</table>\n</div>"
     },
     "execution_count": 40,
     "metadata": {},
     "output_type": "execute_result"
    }
   ],
   "source": [
    "df1.groupby(by= \"specialisation\").mean(numeric_only=True)"
   ],
   "metadata": {
    "collapsed": false,
    "pycharm": {
     "name": "#%%\n"
    }
   }
  },
  {
   "cell_type": "code",
   "execution_count": 41,
   "outputs": [
    {
     "data": {
      "text/plain": "             sl_no      ssc_p      hsc_p   degree_p    etest_p      mba_p  \\\ngender                                                                      \nF       101.763158  68.310921  66.646842  68.090000  70.590658  64.643553   \nM       111.410072  66.752518  66.161655  65.429856  72.926115  60.984892   \n\n               salary  \ngender                 \nF       267291.666667  \nM       298910.000000  ",
      "text/html": "<div>\n<style scoped>\n    .dataframe tbody tr th:only-of-type {\n        vertical-align: middle;\n    }\n\n    .dataframe tbody tr th {\n        vertical-align: top;\n    }\n\n    .dataframe thead th {\n        text-align: right;\n    }\n</style>\n<table border=\"1\" class=\"dataframe\">\n  <thead>\n    <tr style=\"text-align: right;\">\n      <th></th>\n      <th>sl_no</th>\n      <th>ssc_p</th>\n      <th>hsc_p</th>\n      <th>degree_p</th>\n      <th>etest_p</th>\n      <th>mba_p</th>\n      <th>salary</th>\n    </tr>\n    <tr>\n      <th>gender</th>\n      <th></th>\n      <th></th>\n      <th></th>\n      <th></th>\n      <th></th>\n      <th></th>\n      <th></th>\n    </tr>\n  </thead>\n  <tbody>\n    <tr>\n      <th>F</th>\n      <td>101.763158</td>\n      <td>68.310921</td>\n      <td>66.646842</td>\n      <td>68.090000</td>\n      <td>70.590658</td>\n      <td>64.643553</td>\n      <td>267291.666667</td>\n    </tr>\n    <tr>\n      <th>M</th>\n      <td>111.410072</td>\n      <td>66.752518</td>\n      <td>66.161655</td>\n      <td>65.429856</td>\n      <td>72.926115</td>\n      <td>60.984892</td>\n      <td>298910.000000</td>\n    </tr>\n  </tbody>\n</table>\n</div>"
     },
     "execution_count": 41,
     "metadata": {},
     "output_type": "execute_result"
    }
   ],
   "source": [
    "df1.groupby(by= \"gender\").mean(numeric_only=True)"
   ],
   "metadata": {
    "collapsed": false,
    "pycharm": {
     "name": "#%%\n"
    }
   }
  },
  {
   "cell_type": "code",
   "execution_count": null,
   "outputs": [],
   "source": [],
   "metadata": {
    "collapsed": false,
    "pycharm": {
     "name": "#%%\n"
    }
   }
  },
  {
   "cell_type": "code",
   "execution_count": 52,
   "outputs": [
    {
     "data": {
      "text/plain": "                             sl_no  ssc_p  ssc_b  hsc_p  hsc_b  hsc_s  \\\nstatus     gender degree_t                                              \nNot Placed F      Comm&Mgmt     20     20     20     20     20     20   \n                  Others         2      2      2      2      2      2   \n                  Sci&Tech       6      6      6      6      6      6   \n           M      Comm&Mgmt     23     23     23     23     23     23   \n                  Others         4      4      4      4      4      4   \n                  Sci&Tech      12     12     12     12     12     12   \nPlaced     F      Comm&Mgmt     33     33     33     33     33     33   \n                  Others         4      4      4      4      4      4   \n                  Sci&Tech      11     11     11     11     11     11   \n           M      Comm&Mgmt     69     69     69     69     69     69   \n                  Others         1      1      1      1      1      1   \n                  Sci&Tech      30     30     30     30     30     30   \n\n                             degree_p  workex  etest_p  specialisation  mba_p  \\\nstatus     gender degree_t                                                      \nNot Placed F      Comm&Mgmt        20      20       20              20     20   \n                  Others            2       2        2               2      2   \n                  Sci&Tech          6       6        6               6      6   \n           M      Comm&Mgmt        23      23       23              23     23   \n                  Others            4       4        4               4      4   \n                  Sci&Tech         12      12       12              12     12   \nPlaced     F      Comm&Mgmt        33      33       33              33     33   \n                  Others            4       4        4               4      4   \n                  Sci&Tech         11      11       11              11     11   \n           M      Comm&Mgmt        69      69       69              69     69   \n                  Others            1       1        1               1      1   \n                  Sci&Tech         30      30       30              30     30   \n\n                             salary  \nstatus     gender degree_t           \nNot Placed F      Comm&Mgmt       0  \n                  Others          0  \n                  Sci&Tech        0  \n           M      Comm&Mgmt       0  \n                  Others          0  \n                  Sci&Tech        0  \nPlaced     F      Comm&Mgmt      33  \n                  Others          4  \n                  Sci&Tech       11  \n           M      Comm&Mgmt      69  \n                  Others          1  \n                  Sci&Tech       30  ",
      "text/html": "<div>\n<style scoped>\n    .dataframe tbody tr th:only-of-type {\n        vertical-align: middle;\n    }\n\n    .dataframe tbody tr th {\n        vertical-align: top;\n    }\n\n    .dataframe thead th {\n        text-align: right;\n    }\n</style>\n<table border=\"1\" class=\"dataframe\">\n  <thead>\n    <tr style=\"text-align: right;\">\n      <th></th>\n      <th></th>\n      <th></th>\n      <th>sl_no</th>\n      <th>ssc_p</th>\n      <th>ssc_b</th>\n      <th>hsc_p</th>\n      <th>hsc_b</th>\n      <th>hsc_s</th>\n      <th>degree_p</th>\n      <th>workex</th>\n      <th>etest_p</th>\n      <th>specialisation</th>\n      <th>mba_p</th>\n      <th>salary</th>\n    </tr>\n    <tr>\n      <th>status</th>\n      <th>gender</th>\n      <th>degree_t</th>\n      <th></th>\n      <th></th>\n      <th></th>\n      <th></th>\n      <th></th>\n      <th></th>\n      <th></th>\n      <th></th>\n      <th></th>\n      <th></th>\n      <th></th>\n      <th></th>\n    </tr>\n  </thead>\n  <tbody>\n    <tr>\n      <th rowspan=\"6\" valign=\"top\">Not Placed</th>\n      <th rowspan=\"3\" valign=\"top\">F</th>\n      <th>Comm&amp;Mgmt</th>\n      <td>20</td>\n      <td>20</td>\n      <td>20</td>\n      <td>20</td>\n      <td>20</td>\n      <td>20</td>\n      <td>20</td>\n      <td>20</td>\n      <td>20</td>\n      <td>20</td>\n      <td>20</td>\n      <td>0</td>\n    </tr>\n    <tr>\n      <th>Others</th>\n      <td>2</td>\n      <td>2</td>\n      <td>2</td>\n      <td>2</td>\n      <td>2</td>\n      <td>2</td>\n      <td>2</td>\n      <td>2</td>\n      <td>2</td>\n      <td>2</td>\n      <td>2</td>\n      <td>0</td>\n    </tr>\n    <tr>\n      <th>Sci&amp;Tech</th>\n      <td>6</td>\n      <td>6</td>\n      <td>6</td>\n      <td>6</td>\n      <td>6</td>\n      <td>6</td>\n      <td>6</td>\n      <td>6</td>\n      <td>6</td>\n      <td>6</td>\n      <td>6</td>\n      <td>0</td>\n    </tr>\n    <tr>\n      <th rowspan=\"3\" valign=\"top\">M</th>\n      <th>Comm&amp;Mgmt</th>\n      <td>23</td>\n      <td>23</td>\n      <td>23</td>\n      <td>23</td>\n      <td>23</td>\n      <td>23</td>\n      <td>23</td>\n      <td>23</td>\n      <td>23</td>\n      <td>23</td>\n      <td>23</td>\n      <td>0</td>\n    </tr>\n    <tr>\n      <th>Others</th>\n      <td>4</td>\n      <td>4</td>\n      <td>4</td>\n      <td>4</td>\n      <td>4</td>\n      <td>4</td>\n      <td>4</td>\n      <td>4</td>\n      <td>4</td>\n      <td>4</td>\n      <td>4</td>\n      <td>0</td>\n    </tr>\n    <tr>\n      <th>Sci&amp;Tech</th>\n      <td>12</td>\n      <td>12</td>\n      <td>12</td>\n      <td>12</td>\n      <td>12</td>\n      <td>12</td>\n      <td>12</td>\n      <td>12</td>\n      <td>12</td>\n      <td>12</td>\n      <td>12</td>\n      <td>0</td>\n    </tr>\n    <tr>\n      <th rowspan=\"6\" valign=\"top\">Placed</th>\n      <th rowspan=\"3\" valign=\"top\">F</th>\n      <th>Comm&amp;Mgmt</th>\n      <td>33</td>\n      <td>33</td>\n      <td>33</td>\n      <td>33</td>\n      <td>33</td>\n      <td>33</td>\n      <td>33</td>\n      <td>33</td>\n      <td>33</td>\n      <td>33</td>\n      <td>33</td>\n      <td>33</td>\n    </tr>\n    <tr>\n      <th>Others</th>\n      <td>4</td>\n      <td>4</td>\n      <td>4</td>\n      <td>4</td>\n      <td>4</td>\n      <td>4</td>\n      <td>4</td>\n      <td>4</td>\n      <td>4</td>\n      <td>4</td>\n      <td>4</td>\n      <td>4</td>\n    </tr>\n    <tr>\n      <th>Sci&amp;Tech</th>\n      <td>11</td>\n      <td>11</td>\n      <td>11</td>\n      <td>11</td>\n      <td>11</td>\n      <td>11</td>\n      <td>11</td>\n      <td>11</td>\n      <td>11</td>\n      <td>11</td>\n      <td>11</td>\n      <td>11</td>\n    </tr>\n    <tr>\n      <th rowspan=\"3\" valign=\"top\">M</th>\n      <th>Comm&amp;Mgmt</th>\n      <td>69</td>\n      <td>69</td>\n      <td>69</td>\n      <td>69</td>\n      <td>69</td>\n      <td>69</td>\n      <td>69</td>\n      <td>69</td>\n      <td>69</td>\n      <td>69</td>\n      <td>69</td>\n      <td>69</td>\n    </tr>\n    <tr>\n      <th>Others</th>\n      <td>1</td>\n      <td>1</td>\n      <td>1</td>\n      <td>1</td>\n      <td>1</td>\n      <td>1</td>\n      <td>1</td>\n      <td>1</td>\n      <td>1</td>\n      <td>1</td>\n      <td>1</td>\n      <td>1</td>\n    </tr>\n    <tr>\n      <th>Sci&amp;Tech</th>\n      <td>30</td>\n      <td>30</td>\n      <td>30</td>\n      <td>30</td>\n      <td>30</td>\n      <td>30</td>\n      <td>30</td>\n      <td>30</td>\n      <td>30</td>\n      <td>30</td>\n      <td>30</td>\n      <td>30</td>\n    </tr>\n  </tbody>\n</table>\n</div>"
     },
     "execution_count": 52,
     "metadata": {},
     "output_type": "execute_result"
    }
   ],
   "source": [
    "df1.groupby(by = [\"status\", \"gender\", \"degree_t\"]).count()"
   ],
   "metadata": {
    "collapsed": false,
    "pycharm": {
     "name": "#%%\n"
    }
   }
  },
  {
   "cell_type": "code",
   "execution_count": 63,
   "outputs": [
    {
     "data": {
      "text/plain": "                                  sl_no      ssc_p      hsc_p   degree_p  \\\nstatus     gender degree_t                                                 \nNot Placed F      Comm&Mgmt  105.250000  55.742000  62.221500  63.714500   \n                  Others     124.500000  58.500000  53.500000  58.500000   \n                  Sci&Tech    96.833333  68.583333  57.000000  65.816667   \n           M      Comm&Mgmt  118.173913  55.720435  56.903478  58.003478   \n                  Others      87.250000  55.650000  51.500000  58.500000   \n                  Sci&Tech   116.666667  58.995000  58.690833  61.810000   \nPlaced     F      Comm&Mgmt   92.424242  72.661515  72.188788  70.684242   \n                  Others     165.250000  74.975000  69.500000  63.000000   \n                  Sci&Tech    98.909091  77.323636  64.681818  73.097273   \n           M      Comm&Mgmt  109.231884  69.120580  69.658551  67.514493   \n                  Others     125.000000  67.000000  71.000000  64.330000   \n                  Sci&Tech   111.900000  74.339000  69.998667  68.737333   \n\n                               etest_p      mba_p         salary  \nstatus     gender degree_t                                        \nNot Placed F      Comm&Mgmt  69.907500  64.983500            NaN  \n                  Others     76.500000  64.035000            NaN  \n                  Sci&Tech   69.750000  63.923333            NaN  \n           M      Comm&Mgmt  70.226957  58.780000            NaN  \n                  Others     70.360000  58.217500            NaN  \n                  Sci&Tech   66.340000  60.997500            NaN  \nPlaced     F      Comm&Mgmt  70.712727  64.773939  266303.030303  \n                  Others     74.750000  63.230000  288000.000000  \n                  Sci&Tech   69.338182  64.651818  262727.272727  \n           M      Comm&Mgmt  73.782174  60.598986  284521.739130  \n                  Others     64.000000  61.260000  250000.000000  \n                  Sci&Tech   76.300667  63.917667  333633.333333  ",
      "text/html": "<div>\n<style scoped>\n    .dataframe tbody tr th:only-of-type {\n        vertical-align: middle;\n    }\n\n    .dataframe tbody tr th {\n        vertical-align: top;\n    }\n\n    .dataframe thead th {\n        text-align: right;\n    }\n</style>\n<table border=\"1\" class=\"dataframe\">\n  <thead>\n    <tr style=\"text-align: right;\">\n      <th></th>\n      <th></th>\n      <th></th>\n      <th>sl_no</th>\n      <th>ssc_p</th>\n      <th>hsc_p</th>\n      <th>degree_p</th>\n      <th>etest_p</th>\n      <th>mba_p</th>\n      <th>salary</th>\n    </tr>\n    <tr>\n      <th>status</th>\n      <th>gender</th>\n      <th>degree_t</th>\n      <th></th>\n      <th></th>\n      <th></th>\n      <th></th>\n      <th></th>\n      <th></th>\n      <th></th>\n    </tr>\n  </thead>\n  <tbody>\n    <tr>\n      <th rowspan=\"6\" valign=\"top\">Not Placed</th>\n      <th rowspan=\"3\" valign=\"top\">F</th>\n      <th>Comm&amp;Mgmt</th>\n      <td>105.250000</td>\n      <td>55.742000</td>\n      <td>62.221500</td>\n      <td>63.714500</td>\n      <td>69.907500</td>\n      <td>64.983500</td>\n      <td>NaN</td>\n    </tr>\n    <tr>\n      <th>Others</th>\n      <td>124.500000</td>\n      <td>58.500000</td>\n      <td>53.500000</td>\n      <td>58.500000</td>\n      <td>76.500000</td>\n      <td>64.035000</td>\n      <td>NaN</td>\n    </tr>\n    <tr>\n      <th>Sci&amp;Tech</th>\n      <td>96.833333</td>\n      <td>68.583333</td>\n      <td>57.000000</td>\n      <td>65.816667</td>\n      <td>69.750000</td>\n      <td>63.923333</td>\n      <td>NaN</td>\n    </tr>\n    <tr>\n      <th rowspan=\"3\" valign=\"top\">M</th>\n      <th>Comm&amp;Mgmt</th>\n      <td>118.173913</td>\n      <td>55.720435</td>\n      <td>56.903478</td>\n      <td>58.003478</td>\n      <td>70.226957</td>\n      <td>58.780000</td>\n      <td>NaN</td>\n    </tr>\n    <tr>\n      <th>Others</th>\n      <td>87.250000</td>\n      <td>55.650000</td>\n      <td>51.500000</td>\n      <td>58.500000</td>\n      <td>70.360000</td>\n      <td>58.217500</td>\n      <td>NaN</td>\n    </tr>\n    <tr>\n      <th>Sci&amp;Tech</th>\n      <td>116.666667</td>\n      <td>58.995000</td>\n      <td>58.690833</td>\n      <td>61.810000</td>\n      <td>66.340000</td>\n      <td>60.997500</td>\n      <td>NaN</td>\n    </tr>\n    <tr>\n      <th rowspan=\"6\" valign=\"top\">Placed</th>\n      <th rowspan=\"3\" valign=\"top\">F</th>\n      <th>Comm&amp;Mgmt</th>\n      <td>92.424242</td>\n      <td>72.661515</td>\n      <td>72.188788</td>\n      <td>70.684242</td>\n      <td>70.712727</td>\n      <td>64.773939</td>\n      <td>266303.030303</td>\n    </tr>\n    <tr>\n      <th>Others</th>\n      <td>165.250000</td>\n      <td>74.975000</td>\n      <td>69.500000</td>\n      <td>63.000000</td>\n      <td>74.750000</td>\n      <td>63.230000</td>\n      <td>288000.000000</td>\n    </tr>\n    <tr>\n      <th>Sci&amp;Tech</th>\n      <td>98.909091</td>\n      <td>77.323636</td>\n      <td>64.681818</td>\n      <td>73.097273</td>\n      <td>69.338182</td>\n      <td>64.651818</td>\n      <td>262727.272727</td>\n    </tr>\n    <tr>\n      <th rowspan=\"3\" valign=\"top\">M</th>\n      <th>Comm&amp;Mgmt</th>\n      <td>109.231884</td>\n      <td>69.120580</td>\n      <td>69.658551</td>\n      <td>67.514493</td>\n      <td>73.782174</td>\n      <td>60.598986</td>\n      <td>284521.739130</td>\n    </tr>\n    <tr>\n      <th>Others</th>\n      <td>125.000000</td>\n      <td>67.000000</td>\n      <td>71.000000</td>\n      <td>64.330000</td>\n      <td>64.000000</td>\n      <td>61.260000</td>\n      <td>250000.000000</td>\n    </tr>\n    <tr>\n      <th>Sci&amp;Tech</th>\n      <td>111.900000</td>\n      <td>74.339000</td>\n      <td>69.998667</td>\n      <td>68.737333</td>\n      <td>76.300667</td>\n      <td>63.917667</td>\n      <td>333633.333333</td>\n    </tr>\n  </tbody>\n</table>\n</div>"
     },
     "execution_count": 63,
     "metadata": {},
     "output_type": "execute_result"
    }
   ],
   "source": [
    "df1.groupby(by=[\"status\", \"gender\", \"degree_t\"]).mean(numeric_only = True)"
   ],
   "metadata": {
    "collapsed": false,
    "pycharm": {
     "name": "#%%\n"
    }
   }
  },
  {
   "cell_type": "code",
   "execution_count": 65,
   "outputs": [
    {
     "data": {
      "text/plain": "                                 ssc_p\nstatus     gender degree_t            \nNot Placed F      Comm&Mgmt  55.742000\n                  Others     58.500000\n                  Sci&Tech   68.583333\n           M      Comm&Mgmt  55.720435\n                  Others     55.650000\n                  Sci&Tech   58.995000\nPlaced     F      Comm&Mgmt  72.661515\n                  Others     74.975000\n                  Sci&Tech   77.323636\n           M      Comm&Mgmt  69.120580\n                  Others     67.000000\n                  Sci&Tech   74.339000",
      "text/html": "<div>\n<style scoped>\n    .dataframe tbody tr th:only-of-type {\n        vertical-align: middle;\n    }\n\n    .dataframe tbody tr th {\n        vertical-align: top;\n    }\n\n    .dataframe thead th {\n        text-align: right;\n    }\n</style>\n<table border=\"1\" class=\"dataframe\">\n  <thead>\n    <tr style=\"text-align: right;\">\n      <th></th>\n      <th></th>\n      <th></th>\n      <th>ssc_p</th>\n    </tr>\n    <tr>\n      <th>status</th>\n      <th>gender</th>\n      <th>degree_t</th>\n      <th></th>\n    </tr>\n  </thead>\n  <tbody>\n    <tr>\n      <th rowspan=\"6\" valign=\"top\">Not Placed</th>\n      <th rowspan=\"3\" valign=\"top\">F</th>\n      <th>Comm&amp;Mgmt</th>\n      <td>55.742000</td>\n    </tr>\n    <tr>\n      <th>Others</th>\n      <td>58.500000</td>\n    </tr>\n    <tr>\n      <th>Sci&amp;Tech</th>\n      <td>68.583333</td>\n    </tr>\n    <tr>\n      <th rowspan=\"3\" valign=\"top\">M</th>\n      <th>Comm&amp;Mgmt</th>\n      <td>55.720435</td>\n    </tr>\n    <tr>\n      <th>Others</th>\n      <td>55.650000</td>\n    </tr>\n    <tr>\n      <th>Sci&amp;Tech</th>\n      <td>58.995000</td>\n    </tr>\n    <tr>\n      <th rowspan=\"6\" valign=\"top\">Placed</th>\n      <th rowspan=\"3\" valign=\"top\">F</th>\n      <th>Comm&amp;Mgmt</th>\n      <td>72.661515</td>\n    </tr>\n    <tr>\n      <th>Others</th>\n      <td>74.975000</td>\n    </tr>\n    <tr>\n      <th>Sci&amp;Tech</th>\n      <td>77.323636</td>\n    </tr>\n    <tr>\n      <th rowspan=\"3\" valign=\"top\">M</th>\n      <th>Comm&amp;Mgmt</th>\n      <td>69.120580</td>\n    </tr>\n    <tr>\n      <th>Others</th>\n      <td>67.000000</td>\n    </tr>\n    <tr>\n      <th>Sci&amp;Tech</th>\n      <td>74.339000</td>\n    </tr>\n  </tbody>\n</table>\n</div>"
     },
     "execution_count": 65,
     "metadata": {},
     "output_type": "execute_result"
    }
   ],
   "source": [
    "df1.groupby(by=[\"status\", \"gender\", \"degree_t\"])[[\"ssc_p\"]].mean()"
   ],
   "metadata": {
    "collapsed": false,
    "pycharm": {
     "name": "#%%\n"
    }
   }
  },
  {
   "cell_type": "code",
   "execution_count": 51,
   "outputs": [
    {
     "data": {
      "text/plain": "                                                          sl_no      ssc_p  \\\nstatus     gender specialisation degree_t  hsc_s                             \nNot Placed F      Mkt&Fin        Comm&Mgmt Arts      137.000000  47.000000   \n                                           Commerce  110.375000  57.172500   \n                  Mkt&HR         Comm&Mgmt Commerce  102.000000  56.196250   \n                                           Science    89.666667  53.630000   \n                                 Others    Arts       50.000000  50.000000   \n                                           Commerce  199.000000  67.000000   \n                                 Sci&Tech  Commerce   69.000000  69.700000   \n                                           Science   102.400000  68.360000   \n           M      Mkt&Fin        Comm&Mgmt Arts      145.000000  52.000000   \n                                           Commerce   96.428571  58.542857   \n                                           Science   207.000000  41.000000   \n                                 Others    Arts      183.000000  52.000000   \n                                           Science    43.000000  49.000000   \n                                 Sci&Tech  Commerce  100.000000  54.000000   \n                                           Science   110.000000  62.745000   \n                  Mkt&HR         Comm&Mgmt Arts      150.000000  44.000000   \n                                           Commerce   99.375000  55.071250   \n                                           Science   149.200000  58.840000   \n                                 Others    Science    61.500000  60.800000   \n                                 Sci&Tech  Science   122.857143  57.565714   \nPlaced     F      Mkt&Fin        Comm&Mgmt Arts      100.000000  66.500000   \n                                           Commerce   96.000000  76.026667   \n                                           Science    85.000000  74.057500   \n                                 Others    Arts      149.000000  77.000000   \n                                           Science   132.000000  74.900000   \n                                 Sci&Tech  Science   101.200000  80.060000   \n                  Mkt&HR         Comm&Mgmt Commerce   94.428571  66.000000   \n                                           Science    81.800000  73.240000   \n                                 Others    Arts      194.000000  60.000000   \n                                           Science   186.000000  88.000000   \n                                 Sci&Tech  Science    97.000000  75.043333   \n           M      Mkt&Fin        Comm&Mgmt Arts       11.500000  62.500000   \n                                           Commerce  110.820513  69.889231   \n                                           Science   103.666667  72.426667   \n                                 Sci&Tech  Science   105.200000  72.758500   \n                  Mkt&HR         Comm&Mgmt Commerce  122.352941  67.334118   \n                                           Science    98.000000  67.880000   \n                                 Others    Science   125.000000  67.000000   \n                                 Sci&Tech  Commerce    1.000000  67.000000   \n                                           Science   139.111111  78.666667   \n\n                                                         hsc_p   degree_p  \\\nstatus     gender specialisation degree_t  hsc_s                            \nNot Placed F      Mkt&Fin        Comm&Mgmt Arts      59.000000  64.000000   \n                                           Commerce  65.428750  64.925000   \n                  Mkt&HR         Comm&Mgmt Commerce  59.377500  61.911250   \n                                           Science   62.326667  65.200000   \n                                 Others    Arts      37.000000  52.000000   \n                                           Commerce  70.000000  65.000000   \n                                 Sci&Tech  Commerce  47.000000  72.700000   \n                                           Science   59.000000  64.440000   \n           M      Mkt&Fin        Comm&Mgmt Arts      50.000000  61.000000   \n                                           Commerce  59.285714  60.097143   \n                                           Science   42.000000  60.000000   \n                                 Others    Arts      65.000000  57.000000   \n                                           Science   39.000000  65.000000   \n                                 Sci&Tech  Commerce  82.000000  63.000000   \n                                           Science   56.200000  63.062500   \n                  Mkt&HR         Comm&Mgmt Arts      58.000000  55.000000   \n                                           Commerce  58.972500  56.300000   \n                                           Science   54.400000  57.400000   \n                                 Others    Science   51.000000  56.000000   \n                                 Sci&Tech  Science   56.784286  60.924286   \nPlaced     F      Mkt&Fin        Comm&Mgmt Arts      68.600000  70.615000   \n                                           Commerce  79.222000  72.903333   \n                                           Science   66.750000  72.250000   \n                                 Others    Arts      86.000000  56.000000   \n                                           Science   57.000000  62.000000   \n                                 Sci&Tech  Science   61.940000  72.928000   \n                  Mkt&HR         Comm&Mgmt Commerce  68.928571  66.771429   \n                                           Science   61.440000  68.280000   \n                                 Others    Arts      63.000000  56.000000   \n                                           Science   72.000000  78.000000   \n                                 Sci&Tech  Science   66.966667  73.238333   \n           M      Mkt&Fin        Comm&Mgmt Arts      67.500000  67.000000   \n                                           Commerce  71.654103  67.887949   \n                                           Science   64.333333  69.500000   \n                                 Sci&Tech  Science   68.975000  68.407500   \n                  Mkt&HR         Comm&Mgmt Commerce  68.019412  66.404118   \n                                           Science   66.920000  66.200000   \n                                 Others    Science   71.000000  64.330000   \n                                 Sci&Tech  Commerce  91.000000  58.000000   \n                                           Science   69.940000  70.663333   \n\n                                                       etest_p      mba_p  \\\nstatus     gender specialisation degree_t  hsc_s                            \nNot Placed F      Mkt&Fin        Comm&Mgmt Arts      78.000000  61.580000   \n                                           Commerce  73.105000  65.232500   \n                  Mkt&HR         Comm&Mgmt Commerce  64.081250  64.580000   \n                                           Science   74.220000  66.530000   \n                                 Others    Arts      65.000000  56.110000   \n                                           Commerce  88.000000  71.960000   \n                                 Sci&Tech  Commerce  79.000000  59.240000   \n                                           Science   67.900000  64.860000   \n           M      Mkt&Fin        Comm&Mgmt Arts      60.000000  58.520000   \n                                           Commerce  68.142857  57.201429   \n                                           Science   97.000000  53.390000   \n                                 Others    Arts      75.000000  59.810000   \n                                           Science   63.000000  51.210000   \n                                 Sci&Tech  Commerce  50.000000  59.470000   \n                                           Science   61.025000  63.712500   \n                  Mkt&HR         Comm&Mgmt Arts      64.250000  58.540000   \n                                           Commerce  65.785000  60.576250   \n                                           Science   78.138000  59.294000   \n                                 Others    Science   71.720000  60.925000   \n                                 Sci&Tech  Science   71.711429  59.664286   \nPlaced     F      Mkt&Fin        Comm&Mgmt Arts      70.700000  67.635000   \n                                           Commerce  76.362000  67.277333   \n                                           Science   78.750000  64.297500   \n                                 Others    Arts      57.000000  64.080000   \n                                           Science   80.000000  60.780000   \n                                 Sci&Tech  Science   83.000000  65.706000   \n                  Mkt&HR         Comm&Mgmt Commerce  60.555714  60.927143   \n                                           Science   61.560000  61.886000   \n                                 Others    Arts      80.000000  56.630000   \n                                           Science   82.000000  71.430000   \n                                 Sci&Tech  Science   57.953333  63.773333   \n           M      Mkt&Fin        Comm&Mgmt Arts      62.740000  67.845000   \n                                           Commerce  76.871026  61.548974   \n                                           Science   76.250000  61.361667   \n                                 Sci&Tech  Science   76.127000  62.935000   \n                  Mkt&HR         Comm&Mgmt Commerce  69.200000  58.677059   \n                                           Science   66.724000  55.910000   \n                                 Others    Science   64.000000  61.260000   \n                                 Sci&Tech  Commerce  55.000000  58.800000   \n                                           Science   79.053333  66.670000   \n\n                                                            salary  \nstatus     gender specialisation degree_t  hsc_s                    \nNot Placed F      Mkt&Fin        Comm&Mgmt Arts                NaN  \n                                           Commerce            NaN  \n                  Mkt&HR         Comm&Mgmt Commerce            NaN  \n                                           Science             NaN  \n                                 Others    Arts                NaN  \n                                           Commerce            NaN  \n                                 Sci&Tech  Commerce            NaN  \n                                           Science             NaN  \n           M      Mkt&Fin        Comm&Mgmt Arts                NaN  \n                                           Commerce            NaN  \n                                           Science             NaN  \n                                 Others    Arts                NaN  \n                                           Science             NaN  \n                                 Sci&Tech  Commerce            NaN  \n                                           Science             NaN  \n                  Mkt&HR         Comm&Mgmt Arts                NaN  \n                                           Commerce            NaN  \n                                           Science             NaN  \n                                 Others    Science             NaN  \n                                 Sci&Tech  Science             NaN  \nPlaced     F      Mkt&Fin        Comm&Mgmt Arts      233000.000000  \n                                           Commerce  300533.333333  \n                                           Science   251500.000000  \n                                 Others    Arts      240000.000000  \n                                           Science   360000.000000  \n                                 Sci&Tech  Science   248000.000000  \n                  Mkt&HR         Comm&Mgmt Commerce  243142.857143  \n                                           Science   221200.000000  \n                                 Others    Arts      300000.000000  \n                                           Science   252000.000000  \n                                 Sci&Tech  Science   275000.000000  \n           M      Mkt&Fin        Comm&Mgmt Arts      243000.000000  \n                                           Commerce  299358.974359  \n                                           Science   263666.666667  \n                                 Sci&Tech  Science   341400.000000  \n                  Mkt&HR         Comm&Mgmt Commerce  267705.882353  \n                                           Science   267600.000000  \n                                 Others    Science   250000.000000  \n                                 Sci&Tech  Commerce  270000.000000  \n                                           Science   323444.444444  ",
      "text/html": "<div>\n<style scoped>\n    .dataframe tbody tr th:only-of-type {\n        vertical-align: middle;\n    }\n\n    .dataframe tbody tr th {\n        vertical-align: top;\n    }\n\n    .dataframe thead th {\n        text-align: right;\n    }\n</style>\n<table border=\"1\" class=\"dataframe\">\n  <thead>\n    <tr style=\"text-align: right;\">\n      <th></th>\n      <th></th>\n      <th></th>\n      <th></th>\n      <th></th>\n      <th>sl_no</th>\n      <th>ssc_p</th>\n      <th>hsc_p</th>\n      <th>degree_p</th>\n      <th>etest_p</th>\n      <th>mba_p</th>\n      <th>salary</th>\n    </tr>\n    <tr>\n      <th>status</th>\n      <th>gender</th>\n      <th>specialisation</th>\n      <th>degree_t</th>\n      <th>hsc_s</th>\n      <th></th>\n      <th></th>\n      <th></th>\n      <th></th>\n      <th></th>\n      <th></th>\n      <th></th>\n    </tr>\n  </thead>\n  <tbody>\n    <tr>\n      <th rowspan=\"20\" valign=\"top\">Not Placed</th>\n      <th rowspan=\"8\" valign=\"top\">F</th>\n      <th rowspan=\"2\" valign=\"top\">Mkt&amp;Fin</th>\n      <th rowspan=\"2\" valign=\"top\">Comm&amp;Mgmt</th>\n      <th>Arts</th>\n      <td>137.000000</td>\n      <td>47.000000</td>\n      <td>59.000000</td>\n      <td>64.000000</td>\n      <td>78.000000</td>\n      <td>61.580000</td>\n      <td>NaN</td>\n    </tr>\n    <tr>\n      <th>Commerce</th>\n      <td>110.375000</td>\n      <td>57.172500</td>\n      <td>65.428750</td>\n      <td>64.925000</td>\n      <td>73.105000</td>\n      <td>65.232500</td>\n      <td>NaN</td>\n    </tr>\n    <tr>\n      <th rowspan=\"6\" valign=\"top\">Mkt&amp;HR</th>\n      <th rowspan=\"2\" valign=\"top\">Comm&amp;Mgmt</th>\n      <th>Commerce</th>\n      <td>102.000000</td>\n      <td>56.196250</td>\n      <td>59.377500</td>\n      <td>61.911250</td>\n      <td>64.081250</td>\n      <td>64.580000</td>\n      <td>NaN</td>\n    </tr>\n    <tr>\n      <th>Science</th>\n      <td>89.666667</td>\n      <td>53.630000</td>\n      <td>62.326667</td>\n      <td>65.200000</td>\n      <td>74.220000</td>\n      <td>66.530000</td>\n      <td>NaN</td>\n    </tr>\n    <tr>\n      <th rowspan=\"2\" valign=\"top\">Others</th>\n      <th>Arts</th>\n      <td>50.000000</td>\n      <td>50.000000</td>\n      <td>37.000000</td>\n      <td>52.000000</td>\n      <td>65.000000</td>\n      <td>56.110000</td>\n      <td>NaN</td>\n    </tr>\n    <tr>\n      <th>Commerce</th>\n      <td>199.000000</td>\n      <td>67.000000</td>\n      <td>70.000000</td>\n      <td>65.000000</td>\n      <td>88.000000</td>\n      <td>71.960000</td>\n      <td>NaN</td>\n    </tr>\n    <tr>\n      <th rowspan=\"2\" valign=\"top\">Sci&amp;Tech</th>\n      <th>Commerce</th>\n      <td>69.000000</td>\n      <td>69.700000</td>\n      <td>47.000000</td>\n      <td>72.700000</td>\n      <td>79.000000</td>\n      <td>59.240000</td>\n      <td>NaN</td>\n    </tr>\n    <tr>\n      <th>Science</th>\n      <td>102.400000</td>\n      <td>68.360000</td>\n      <td>59.000000</td>\n      <td>64.440000</td>\n      <td>67.900000</td>\n      <td>64.860000</td>\n      <td>NaN</td>\n    </tr>\n    <tr>\n      <th rowspan=\"12\" valign=\"top\">M</th>\n      <th rowspan=\"7\" valign=\"top\">Mkt&amp;Fin</th>\n      <th rowspan=\"3\" valign=\"top\">Comm&amp;Mgmt</th>\n      <th>Arts</th>\n      <td>145.000000</td>\n      <td>52.000000</td>\n      <td>50.000000</td>\n      <td>61.000000</td>\n      <td>60.000000</td>\n      <td>58.520000</td>\n      <td>NaN</td>\n    </tr>\n    <tr>\n      <th>Commerce</th>\n      <td>96.428571</td>\n      <td>58.542857</td>\n      <td>59.285714</td>\n      <td>60.097143</td>\n      <td>68.142857</td>\n      <td>57.201429</td>\n      <td>NaN</td>\n    </tr>\n    <tr>\n      <th>Science</th>\n      <td>207.000000</td>\n      <td>41.000000</td>\n      <td>42.000000</td>\n      <td>60.000000</td>\n      <td>97.000000</td>\n      <td>53.390000</td>\n      <td>NaN</td>\n    </tr>\n    <tr>\n      <th rowspan=\"2\" valign=\"top\">Others</th>\n      <th>Arts</th>\n      <td>183.000000</td>\n      <td>52.000000</td>\n      <td>65.000000</td>\n      <td>57.000000</td>\n      <td>75.000000</td>\n      <td>59.810000</td>\n      <td>NaN</td>\n    </tr>\n    <tr>\n      <th>Science</th>\n      <td>43.000000</td>\n      <td>49.000000</td>\n      <td>39.000000</td>\n      <td>65.000000</td>\n      <td>63.000000</td>\n      <td>51.210000</td>\n      <td>NaN</td>\n    </tr>\n    <tr>\n      <th rowspan=\"2\" valign=\"top\">Sci&amp;Tech</th>\n      <th>Commerce</th>\n      <td>100.000000</td>\n      <td>54.000000</td>\n      <td>82.000000</td>\n      <td>63.000000</td>\n      <td>50.000000</td>\n      <td>59.470000</td>\n      <td>NaN</td>\n    </tr>\n    <tr>\n      <th>Science</th>\n      <td>110.000000</td>\n      <td>62.745000</td>\n      <td>56.200000</td>\n      <td>63.062500</td>\n      <td>61.025000</td>\n      <td>63.712500</td>\n      <td>NaN</td>\n    </tr>\n    <tr>\n      <th rowspan=\"5\" valign=\"top\">Mkt&amp;HR</th>\n      <th rowspan=\"3\" valign=\"top\">Comm&amp;Mgmt</th>\n      <th>Arts</th>\n      <td>150.000000</td>\n      <td>44.000000</td>\n      <td>58.000000</td>\n      <td>55.000000</td>\n      <td>64.250000</td>\n      <td>58.540000</td>\n      <td>NaN</td>\n    </tr>\n    <tr>\n      <th>Commerce</th>\n      <td>99.375000</td>\n      <td>55.071250</td>\n      <td>58.972500</td>\n      <td>56.300000</td>\n      <td>65.785000</td>\n      <td>60.576250</td>\n      <td>NaN</td>\n    </tr>\n    <tr>\n      <th>Science</th>\n      <td>149.200000</td>\n      <td>58.840000</td>\n      <td>54.400000</td>\n      <td>57.400000</td>\n      <td>78.138000</td>\n      <td>59.294000</td>\n      <td>NaN</td>\n    </tr>\n    <tr>\n      <th>Others</th>\n      <th>Science</th>\n      <td>61.500000</td>\n      <td>60.800000</td>\n      <td>51.000000</td>\n      <td>56.000000</td>\n      <td>71.720000</td>\n      <td>60.925000</td>\n      <td>NaN</td>\n    </tr>\n    <tr>\n      <th>Sci&amp;Tech</th>\n      <th>Science</th>\n      <td>122.857143</td>\n      <td>57.565714</td>\n      <td>56.784286</td>\n      <td>60.924286</td>\n      <td>71.711429</td>\n      <td>59.664286</td>\n      <td>NaN</td>\n    </tr>\n    <tr>\n      <th rowspan=\"20\" valign=\"top\">Placed</th>\n      <th rowspan=\"11\" valign=\"top\">F</th>\n      <th rowspan=\"6\" valign=\"top\">Mkt&amp;Fin</th>\n      <th rowspan=\"3\" valign=\"top\">Comm&amp;Mgmt</th>\n      <th>Arts</th>\n      <td>100.000000</td>\n      <td>66.500000</td>\n      <td>68.600000</td>\n      <td>70.615000</td>\n      <td>70.700000</td>\n      <td>67.635000</td>\n      <td>233000.000000</td>\n    </tr>\n    <tr>\n      <th>Commerce</th>\n      <td>96.000000</td>\n      <td>76.026667</td>\n      <td>79.222000</td>\n      <td>72.903333</td>\n      <td>76.362000</td>\n      <td>67.277333</td>\n      <td>300533.333333</td>\n    </tr>\n    <tr>\n      <th>Science</th>\n      <td>85.000000</td>\n      <td>74.057500</td>\n      <td>66.750000</td>\n      <td>72.250000</td>\n      <td>78.750000</td>\n      <td>64.297500</td>\n      <td>251500.000000</td>\n    </tr>\n    <tr>\n      <th rowspan=\"2\" valign=\"top\">Others</th>\n      <th>Arts</th>\n      <td>149.000000</td>\n      <td>77.000000</td>\n      <td>86.000000</td>\n      <td>56.000000</td>\n      <td>57.000000</td>\n      <td>64.080000</td>\n      <td>240000.000000</td>\n    </tr>\n    <tr>\n      <th>Science</th>\n      <td>132.000000</td>\n      <td>74.900000</td>\n      <td>57.000000</td>\n      <td>62.000000</td>\n      <td>80.000000</td>\n      <td>60.780000</td>\n      <td>360000.000000</td>\n    </tr>\n    <tr>\n      <th>Sci&amp;Tech</th>\n      <th>Science</th>\n      <td>101.200000</td>\n      <td>80.060000</td>\n      <td>61.940000</td>\n      <td>72.928000</td>\n      <td>83.000000</td>\n      <td>65.706000</td>\n      <td>248000.000000</td>\n    </tr>\n    <tr>\n      <th rowspan=\"5\" valign=\"top\">Mkt&amp;HR</th>\n      <th rowspan=\"2\" valign=\"top\">Comm&amp;Mgmt</th>\n      <th>Commerce</th>\n      <td>94.428571</td>\n      <td>66.000000</td>\n      <td>68.928571</td>\n      <td>66.771429</td>\n      <td>60.555714</td>\n      <td>60.927143</td>\n      <td>243142.857143</td>\n    </tr>\n    <tr>\n      <th>Science</th>\n      <td>81.800000</td>\n      <td>73.240000</td>\n      <td>61.440000</td>\n      <td>68.280000</td>\n      <td>61.560000</td>\n      <td>61.886000</td>\n      <td>221200.000000</td>\n    </tr>\n    <tr>\n      <th rowspan=\"2\" valign=\"top\">Others</th>\n      <th>Arts</th>\n      <td>194.000000</td>\n      <td>60.000000</td>\n      <td>63.000000</td>\n      <td>56.000000</td>\n      <td>80.000000</td>\n      <td>56.630000</td>\n      <td>300000.000000</td>\n    </tr>\n    <tr>\n      <th>Science</th>\n      <td>186.000000</td>\n      <td>88.000000</td>\n      <td>72.000000</td>\n      <td>78.000000</td>\n      <td>82.000000</td>\n      <td>71.430000</td>\n      <td>252000.000000</td>\n    </tr>\n    <tr>\n      <th>Sci&amp;Tech</th>\n      <th>Science</th>\n      <td>97.000000</td>\n      <td>75.043333</td>\n      <td>66.966667</td>\n      <td>73.238333</td>\n      <td>57.953333</td>\n      <td>63.773333</td>\n      <td>275000.000000</td>\n    </tr>\n    <tr>\n      <th rowspan=\"9\" valign=\"top\">M</th>\n      <th rowspan=\"4\" valign=\"top\">Mkt&amp;Fin</th>\n      <th rowspan=\"3\" valign=\"top\">Comm&amp;Mgmt</th>\n      <th>Arts</th>\n      <td>11.500000</td>\n      <td>62.500000</td>\n      <td>67.500000</td>\n      <td>67.000000</td>\n      <td>62.740000</td>\n      <td>67.845000</td>\n      <td>243000.000000</td>\n    </tr>\n    <tr>\n      <th>Commerce</th>\n      <td>110.820513</td>\n      <td>69.889231</td>\n      <td>71.654103</td>\n      <td>67.887949</td>\n      <td>76.871026</td>\n      <td>61.548974</td>\n      <td>299358.974359</td>\n    </tr>\n    <tr>\n      <th>Science</th>\n      <td>103.666667</td>\n      <td>72.426667</td>\n      <td>64.333333</td>\n      <td>69.500000</td>\n      <td>76.250000</td>\n      <td>61.361667</td>\n      <td>263666.666667</td>\n    </tr>\n    <tr>\n      <th>Sci&amp;Tech</th>\n      <th>Science</th>\n      <td>105.200000</td>\n      <td>72.758500</td>\n      <td>68.975000</td>\n      <td>68.407500</td>\n      <td>76.127000</td>\n      <td>62.935000</td>\n      <td>341400.000000</td>\n    </tr>\n    <tr>\n      <th rowspan=\"5\" valign=\"top\">Mkt&amp;HR</th>\n      <th rowspan=\"2\" valign=\"top\">Comm&amp;Mgmt</th>\n      <th>Commerce</th>\n      <td>122.352941</td>\n      <td>67.334118</td>\n      <td>68.019412</td>\n      <td>66.404118</td>\n      <td>69.200000</td>\n      <td>58.677059</td>\n      <td>267705.882353</td>\n    </tr>\n    <tr>\n      <th>Science</th>\n      <td>98.000000</td>\n      <td>67.880000</td>\n      <td>66.920000</td>\n      <td>66.200000</td>\n      <td>66.724000</td>\n      <td>55.910000</td>\n      <td>267600.000000</td>\n    </tr>\n    <tr>\n      <th>Others</th>\n      <th>Science</th>\n      <td>125.000000</td>\n      <td>67.000000</td>\n      <td>71.000000</td>\n      <td>64.330000</td>\n      <td>64.000000</td>\n      <td>61.260000</td>\n      <td>250000.000000</td>\n    </tr>\n    <tr>\n      <th rowspan=\"2\" valign=\"top\">Sci&amp;Tech</th>\n      <th>Commerce</th>\n      <td>1.000000</td>\n      <td>67.000000</td>\n      <td>91.000000</td>\n      <td>58.000000</td>\n      <td>55.000000</td>\n      <td>58.800000</td>\n      <td>270000.000000</td>\n    </tr>\n    <tr>\n      <th>Science</th>\n      <td>139.111111</td>\n      <td>78.666667</td>\n      <td>69.940000</td>\n      <td>70.663333</td>\n      <td>79.053333</td>\n      <td>66.670000</td>\n      <td>323444.444444</td>\n    </tr>\n  </tbody>\n</table>\n</div>"
     },
     "execution_count": 51,
     "metadata": {},
     "output_type": "execute_result"
    }
   ],
   "source": [
    "df1.groupby(by = [\"status\", \"gender\",\"specialisation\",\"degree_t\", \"hsc_s\"]).mean(numeric_only= True)"
   ],
   "metadata": {
    "collapsed": false,
    "pycharm": {
     "name": "#%%\n"
    }
   }
  },
  {
   "cell_type": "code",
   "execution_count": 47,
   "outputs": [
    {
     "data": {
      "text/plain": "                count unique        top freq           mean          std  \\\nsl_no           215.0    NaN        NaN  NaN          108.0    62.209324   \ngender            215      2          M  139            NaN          NaN   \nssc_p           215.0    NaN        NaN  NaN      67.303395    10.827205   \nssc_b             215      2    Central  116            NaN          NaN   \nhsc_p           215.0    NaN        NaN  NaN      66.333163    10.897509   \nhsc_b             215      2     Others  131            NaN          NaN   \nhsc_s             215      3   Commerce  113            NaN          NaN   \ndegree_p        215.0    NaN        NaN  NaN      66.370186     7.358743   \ndegree_t          215      3  Comm&Mgmt  145            NaN          NaN   \nworkex            215      2         No  141            NaN          NaN   \netest_p         215.0    NaN        NaN  NaN      72.100558    13.275956   \nspecialisation    215      2    Mkt&Fin  120            NaN          NaN   \nmba_p           215.0    NaN        NaN  NaN      62.278186     5.833385   \nstatus            215      2     Placed  148            NaN          NaN   \nsalary          148.0    NaN        NaN  NaN  288655.405405  93457.45242   \n\n                     min       25%       50%       75%       max  \nsl_no                1.0      54.5     108.0     161.5     215.0  \ngender               NaN       NaN       NaN       NaN       NaN  \nssc_p              40.89      60.6      67.0      75.7      89.4  \nssc_b                NaN       NaN       NaN       NaN       NaN  \nhsc_p               37.0      60.9      65.0      73.0      97.7  \nhsc_b                NaN       NaN       NaN       NaN       NaN  \nhsc_s                NaN       NaN       NaN       NaN       NaN  \ndegree_p            50.0      61.0      66.0      72.0      91.0  \ndegree_t             NaN       NaN       NaN       NaN       NaN  \nworkex               NaN       NaN       NaN       NaN       NaN  \netest_p             50.0      60.0      71.0      83.5      98.0  \nspecialisation       NaN       NaN       NaN       NaN       NaN  \nmba_p              51.21    57.945      62.0    66.255     77.89  \nstatus               NaN       NaN       NaN       NaN       NaN  \nsalary          200000.0  240000.0  265000.0  300000.0  940000.0  ",
      "text/html": "<div>\n<style scoped>\n    .dataframe tbody tr th:only-of-type {\n        vertical-align: middle;\n    }\n\n    .dataframe tbody tr th {\n        vertical-align: top;\n    }\n\n    .dataframe thead th {\n        text-align: right;\n    }\n</style>\n<table border=\"1\" class=\"dataframe\">\n  <thead>\n    <tr style=\"text-align: right;\">\n      <th></th>\n      <th>count</th>\n      <th>unique</th>\n      <th>top</th>\n      <th>freq</th>\n      <th>mean</th>\n      <th>std</th>\n      <th>min</th>\n      <th>25%</th>\n      <th>50%</th>\n      <th>75%</th>\n      <th>max</th>\n    </tr>\n  </thead>\n  <tbody>\n    <tr>\n      <th>sl_no</th>\n      <td>215.0</td>\n      <td>NaN</td>\n      <td>NaN</td>\n      <td>NaN</td>\n      <td>108.0</td>\n      <td>62.209324</td>\n      <td>1.0</td>\n      <td>54.5</td>\n      <td>108.0</td>\n      <td>161.5</td>\n      <td>215.0</td>\n    </tr>\n    <tr>\n      <th>gender</th>\n      <td>215</td>\n      <td>2</td>\n      <td>M</td>\n      <td>139</td>\n      <td>NaN</td>\n      <td>NaN</td>\n      <td>NaN</td>\n      <td>NaN</td>\n      <td>NaN</td>\n      <td>NaN</td>\n      <td>NaN</td>\n    </tr>\n    <tr>\n      <th>ssc_p</th>\n      <td>215.0</td>\n      <td>NaN</td>\n      <td>NaN</td>\n      <td>NaN</td>\n      <td>67.303395</td>\n      <td>10.827205</td>\n      <td>40.89</td>\n      <td>60.6</td>\n      <td>67.0</td>\n      <td>75.7</td>\n      <td>89.4</td>\n    </tr>\n    <tr>\n      <th>ssc_b</th>\n      <td>215</td>\n      <td>2</td>\n      <td>Central</td>\n      <td>116</td>\n      <td>NaN</td>\n      <td>NaN</td>\n      <td>NaN</td>\n      <td>NaN</td>\n      <td>NaN</td>\n      <td>NaN</td>\n      <td>NaN</td>\n    </tr>\n    <tr>\n      <th>hsc_p</th>\n      <td>215.0</td>\n      <td>NaN</td>\n      <td>NaN</td>\n      <td>NaN</td>\n      <td>66.333163</td>\n      <td>10.897509</td>\n      <td>37.0</td>\n      <td>60.9</td>\n      <td>65.0</td>\n      <td>73.0</td>\n      <td>97.7</td>\n    </tr>\n    <tr>\n      <th>hsc_b</th>\n      <td>215</td>\n      <td>2</td>\n      <td>Others</td>\n      <td>131</td>\n      <td>NaN</td>\n      <td>NaN</td>\n      <td>NaN</td>\n      <td>NaN</td>\n      <td>NaN</td>\n      <td>NaN</td>\n      <td>NaN</td>\n    </tr>\n    <tr>\n      <th>hsc_s</th>\n      <td>215</td>\n      <td>3</td>\n      <td>Commerce</td>\n      <td>113</td>\n      <td>NaN</td>\n      <td>NaN</td>\n      <td>NaN</td>\n      <td>NaN</td>\n      <td>NaN</td>\n      <td>NaN</td>\n      <td>NaN</td>\n    </tr>\n    <tr>\n      <th>degree_p</th>\n      <td>215.0</td>\n      <td>NaN</td>\n      <td>NaN</td>\n      <td>NaN</td>\n      <td>66.370186</td>\n      <td>7.358743</td>\n      <td>50.0</td>\n      <td>61.0</td>\n      <td>66.0</td>\n      <td>72.0</td>\n      <td>91.0</td>\n    </tr>\n    <tr>\n      <th>degree_t</th>\n      <td>215</td>\n      <td>3</td>\n      <td>Comm&amp;Mgmt</td>\n      <td>145</td>\n      <td>NaN</td>\n      <td>NaN</td>\n      <td>NaN</td>\n      <td>NaN</td>\n      <td>NaN</td>\n      <td>NaN</td>\n      <td>NaN</td>\n    </tr>\n    <tr>\n      <th>workex</th>\n      <td>215</td>\n      <td>2</td>\n      <td>No</td>\n      <td>141</td>\n      <td>NaN</td>\n      <td>NaN</td>\n      <td>NaN</td>\n      <td>NaN</td>\n      <td>NaN</td>\n      <td>NaN</td>\n      <td>NaN</td>\n    </tr>\n    <tr>\n      <th>etest_p</th>\n      <td>215.0</td>\n      <td>NaN</td>\n      <td>NaN</td>\n      <td>NaN</td>\n      <td>72.100558</td>\n      <td>13.275956</td>\n      <td>50.0</td>\n      <td>60.0</td>\n      <td>71.0</td>\n      <td>83.5</td>\n      <td>98.0</td>\n    </tr>\n    <tr>\n      <th>specialisation</th>\n      <td>215</td>\n      <td>2</td>\n      <td>Mkt&amp;Fin</td>\n      <td>120</td>\n      <td>NaN</td>\n      <td>NaN</td>\n      <td>NaN</td>\n      <td>NaN</td>\n      <td>NaN</td>\n      <td>NaN</td>\n      <td>NaN</td>\n    </tr>\n    <tr>\n      <th>mba_p</th>\n      <td>215.0</td>\n      <td>NaN</td>\n      <td>NaN</td>\n      <td>NaN</td>\n      <td>62.278186</td>\n      <td>5.833385</td>\n      <td>51.21</td>\n      <td>57.945</td>\n      <td>62.0</td>\n      <td>66.255</td>\n      <td>77.89</td>\n    </tr>\n    <tr>\n      <th>status</th>\n      <td>215</td>\n      <td>2</td>\n      <td>Placed</td>\n      <td>148</td>\n      <td>NaN</td>\n      <td>NaN</td>\n      <td>NaN</td>\n      <td>NaN</td>\n      <td>NaN</td>\n      <td>NaN</td>\n      <td>NaN</td>\n    </tr>\n    <tr>\n      <th>salary</th>\n      <td>148.0</td>\n      <td>NaN</td>\n      <td>NaN</td>\n      <td>NaN</td>\n      <td>288655.405405</td>\n      <td>93457.45242</td>\n      <td>200000.0</td>\n      <td>240000.0</td>\n      <td>265000.0</td>\n      <td>300000.0</td>\n      <td>940000.0</td>\n    </tr>\n  </tbody>\n</table>\n</div>"
     },
     "execution_count": 47,
     "metadata": {},
     "output_type": "execute_result"
    }
   ],
   "source": [
    "df1.describe(include=\"all\").T"
   ],
   "metadata": {
    "collapsed": false,
    "pycharm": {
     "name": "#%%\n"
    }
   }
  },
  {
   "cell_type": "code",
   "execution_count": 26,
   "outputs": [],
   "source": [
    "data = {\n",
    "    \"key1\": [\"a\", \"b\", \"a\", \"b\", \"a\", \"c\"],\n",
    "    \"key2\": [\"one\", \"two\", \"three\", \"one\", \"two\", \"three\"],\n",
    "    \"data1\": np.random.randint(100, size=6),\n",
    "    \"data2\": np.random.randint(100, size=6)\n",
    "}"
   ],
   "metadata": {
    "collapsed": false,
    "pycharm": {
     "name": "#%%\n"
    }
   }
  },
  {
   "cell_type": "code",
   "execution_count": 27,
   "outputs": [],
   "source": [
    "df = pd.DataFrame(data)"
   ],
   "metadata": {
    "collapsed": false,
    "pycharm": {
     "name": "#%%\n"
    }
   }
  },
  {
   "cell_type": "code",
   "execution_count": 28,
   "outputs": [
    {
     "data": {
      "text/plain": "  key1   key2  data1  data2\n0    a    one     32      5\n1    b    two     84     86\n2    a  three     65     86\n3    b    one      1      5\n4    a    two      0     83\n5    c  three     59     13",
      "text/html": "<div>\n<style scoped>\n    .dataframe tbody tr th:only-of-type {\n        vertical-align: middle;\n    }\n\n    .dataframe tbody tr th {\n        vertical-align: top;\n    }\n\n    .dataframe thead th {\n        text-align: right;\n    }\n</style>\n<table border=\"1\" class=\"dataframe\">\n  <thead>\n    <tr style=\"text-align: right;\">\n      <th></th>\n      <th>key1</th>\n      <th>key2</th>\n      <th>data1</th>\n      <th>data2</th>\n    </tr>\n  </thead>\n  <tbody>\n    <tr>\n      <th>0</th>\n      <td>a</td>\n      <td>one</td>\n      <td>32</td>\n      <td>5</td>\n    </tr>\n    <tr>\n      <th>1</th>\n      <td>b</td>\n      <td>two</td>\n      <td>84</td>\n      <td>86</td>\n    </tr>\n    <tr>\n      <th>2</th>\n      <td>a</td>\n      <td>three</td>\n      <td>65</td>\n      <td>86</td>\n    </tr>\n    <tr>\n      <th>3</th>\n      <td>b</td>\n      <td>one</td>\n      <td>1</td>\n      <td>5</td>\n    </tr>\n    <tr>\n      <th>4</th>\n      <td>a</td>\n      <td>two</td>\n      <td>0</td>\n      <td>83</td>\n    </tr>\n    <tr>\n      <th>5</th>\n      <td>c</td>\n      <td>three</td>\n      <td>59</td>\n      <td>13</td>\n    </tr>\n  </tbody>\n</table>\n</div>"
     },
     "execution_count": 28,
     "metadata": {},
     "output_type": "execute_result"
    }
   ],
   "source": [
    "df"
   ],
   "metadata": {
    "collapsed": false,
    "pycharm": {
     "name": "#%%\n"
    }
   }
  },
  {
   "cell_type": "code",
   "execution_count": null,
   "outputs": [],
   "source": [],
   "metadata": {
    "collapsed": false,
    "pycharm": {
     "name": "#%%\n"
    }
   }
  }
 ],
 "metadata": {
  "kernelspec": {
   "display_name": "Python 3",
   "language": "python",
   "name": "python3"
  },
  "language_info": {
   "codemirror_mode": {
    "name": "ipython",
    "version": 2
   },
   "file_extension": ".py",
   "mimetype": "text/x-python",
   "name": "python",
   "nbconvert_exporter": "python",
   "pygments_lexer": "ipython2",
   "version": "2.7.6"
  }
 },
 "nbformat": 4,
 "nbformat_minor": 0
}